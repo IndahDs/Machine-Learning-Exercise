{
  "nbformat": 4,
  "nbformat_minor": 0,
  "metadata": {
    "colab": {
      "name": "Kunci Asistensi Minggu 4-Pacmann.ipynb",
      "provenance": [],
      "collapsed_sections": [],
      "toc_visible": true
    },
    "kernelspec": {
      "name": "python3",
      "display_name": "Python 3"
    },
    "language_info": {
      "name": "python"
    }
  },
  "cells": [
    {
      "cell_type": "markdown",
      "source": [
        "# Prediksi Credit Dengan Deep Learning"
      ],
      "metadata": {
        "id": "nwbcAM0h39s4"
      }
    },
    {
      "cell_type": "markdown",
      "source": [
        "Dataset : \n",
        "\n",
        "https://www.kaggle.com/competitions/GiveMeSomeCredit/data"
      ],
      "metadata": {
        "id": "qfFnuEJj4dVg"
      }
    },
    {
      "cell_type": "markdown",
      "source": [
        "# Menyiapkan Kredential Akun Kaggle"
      ],
      "metadata": {
        "id": "exBUl5ze4DGJ"
      }
    },
    {
      "cell_type": "code",
      "source": [
        "# Membuat folder .kaggle di dalam folder root\n",
        "!rm -rf ~/.kaggle && mkdir ~/.kaggle/\n",
        "\n",
        "# Menyalin berkas kaggle.json pada direktori aktif saat ini ke folder .kaggle\n",
        "!mv kaggle.json ~/.kaggle/kaggle.json\n",
        "!chmod 600 ~/.kaggle/kaggle.json"
      ],
      "metadata": {
        "id": "lvCCE3F54cTR"
      },
      "execution_count": null,
      "outputs": []
    },
    {
      "cell_type": "markdown",
      "source": [
        "# Mengunduh dan Menyiapkan Dataset"
      ],
      "metadata": {
        "id": "8PJl_AB24rlv"
      }
    },
    {
      "cell_type": "code",
      "source": [
        "# Mengunduh dataset menggunakan Kaggle CLI\n",
        "!kaggle competitions download -c GiveMeSomeCredit"
      ],
      "metadata": {
        "colab": {
          "base_uri": "https://localhost:8080/"
        },
        "id": "zHuVdtaq4uAR",
        "outputId": "11435819-29a7-4b41-c8da-a4d4bf21ed17"
      },
      "execution_count": null,
      "outputs": [
        {
          "output_type": "stream",
          "name": "stdout",
          "text": [
            "Downloading GiveMeSomeCredit.zip to /content\n",
            "\r  0% 0.00/5.16M [00:00<?, ?B/s]\n",
            "\r100% 5.16M/5.16M [00:00<00:00, 95.8MB/s]\n"
          ]
        }
      ]
    },
    {
      "cell_type": "code",
      "source": [
        "# Mengekstrak berkas zip ke direktori aktif saat ini\n",
        "!unzip /content/GiveMeSomeCredit.zip"
      ],
      "metadata": {
        "colab": {
          "base_uri": "https://localhost:8080/"
        },
        "id": "o2ORKQx_5BCy",
        "outputId": "833a2cb7-64e0-4415-f4bb-8cd2164deda8"
      },
      "execution_count": null,
      "outputs": [
        {
          "output_type": "stream",
          "name": "stdout",
          "text": [
            "Archive:  /content/GiveMeSomeCredit.zip\n",
            "  inflating: Data Dictionary.xls     \n",
            "  inflating: cs-test.csv             \n",
            "  inflating: cs-training.csv         \n",
            "  inflating: sampleEntry.csv         \n"
          ]
        }
      ]
    },
    {
      "cell_type": "markdown",
      "source": [
        "# Import Library dan Package"
      ],
      "metadata": {
        "id": "e4jP5oRx3gPQ"
      }
    },
    {
      "cell_type": "code",
      "execution_count": null,
      "metadata": {
        "id": "k_m3VmwI3QgY"
      },
      "outputs": [],
      "source": [
        "import pandas as pd\n",
        "import numpy as np\n",
        "import matplotlib.pyplot as plt\n",
        "import seaborn as sns\n",
        "import warnings\n",
        "import xgboost as xgb\n",
        "import random\n",
        "from scipy import stats\n",
        "\n",
        "warnings.filterwarnings('ignore')"
      ]
    },
    {
      "cell_type": "code",
      "source": [
        "from sklearn.preprocessing import LabelEncoder\n",
        "from sklearn.model_selection import train_test_split\n",
        "from sklearn import metrics\n",
        "\n",
        "from sklearn.ensemble import GradientBoostingClassifier ,RandomForestClassifier\n",
        "from sklearn.linear_model import LogisticRegression\n",
        "from sklearn.svm import SVC\n",
        "\n",
        "from sklearn.metrics import roc_curve, auc\n",
        "from sklearn.metrics import confusion_matrix\n",
        "from sklearn.metrics import precision_score, \\\n",
        "    recall_score, confusion_matrix, classification_report, \\\n",
        "    accuracy_score, f1_score\n",
        "from sklearn.metrics import roc_curve, auc, roc_auc_score\n",
        "\n",
        "from sklearn.model_selection import GridSearchCV, cross_val_score\n",
        "from sklearn.decomposition import PCA"
      ],
      "metadata": {
        "id": "g-K4taLu8N4U"
      },
      "execution_count": null,
      "outputs": []
    },
    {
      "cell_type": "code",
      "source": [
        "from lightgbm import LGBMClassifier\n",
        "from xgboost import XGBClassifier"
      ],
      "metadata": {
        "id": "IOk7ctI08RVZ"
      },
      "execution_count": null,
      "outputs": []
    },
    {
      "cell_type": "code",
      "source": [
        "from imblearn.over_sampling import SMOTE"
      ],
      "metadata": {
        "id": "orrllt8V8Tvj"
      },
      "execution_count": null,
      "outputs": []
    },
    {
      "cell_type": "code",
      "source": [
        "from keras import models\n",
        "from keras import layers"
      ],
      "metadata": {
        "id": "6UM7UKWn8XWj"
      },
      "execution_count": null,
      "outputs": []
    },
    {
      "cell_type": "markdown",
      "source": [
        "# Load Training Data"
      ],
      "metadata": {
        "id": "FeTbPub859p6"
      }
    },
    {
      "cell_type": "markdown",
      "source": [
        "# No. 1 Lakukan Load pada data \" cs-training.csv \"\n",
        "\n",
        "Clue : lakukan kredential akun kaggle untuk mendapatkan dataset tanpa mendownload nya kemudian copy path data yang ingin di load pada direktori file google colaboratory"
      ],
      "metadata": {
        "id": "956DhrFnfLEq"
      }
    },
    {
      "cell_type": "code",
      "source": [
        "data_  = pd.read_csv('/content/cs-training.csv')"
      ],
      "metadata": {
        "id": "SX8WjsSB5_q1"
      },
      "execution_count": null,
      "outputs": []
    },
    {
      "cell_type": "code",
      "source": [
        "data_.columns"
      ],
      "metadata": {
        "colab": {
          "base_uri": "https://localhost:8080/"
        },
        "id": "j1ufh17z8jPy",
        "outputId": "7d41b5f7-921e-4853-fa09-d7ee787c19fb"
      },
      "execution_count": null,
      "outputs": [
        {
          "output_type": "execute_result",
          "data": {
            "text/plain": [
              "Index(['Unnamed: 0', 'SeriousDlqin2yrs',\n",
              "       'RevolvingUtilizationOfUnsecuredLines', 'age',\n",
              "       'NumberOfTime30-59DaysPastDueNotWorse', 'DebtRatio', 'MonthlyIncome',\n",
              "       'NumberOfOpenCreditLinesAndLoans', 'NumberOfTimes90DaysLate',\n",
              "       'NumberRealEstateLoansOrLines', 'NumberOfTime60-89DaysPastDueNotWorse',\n",
              "       'NumberOfDependents'],\n",
              "      dtype='object')"
            ]
          },
          "metadata": {},
          "execution_count": 33
        }
      ]
    },
    {
      "cell_type": "markdown",
      "source": [
        "# Check the percentage of Defaults and Non-Defaults"
      ],
      "metadata": {
        "id": "BtsJBHaK8pzB"
      }
    },
    {
      "cell_type": "code",
      "source": [
        "print(data_['SeriousDlqin2yrs'].value_counts()/data_.shape[0] *100)\n",
        "\n",
        "## Pie Chart\n",
        "labels = 'Default', 'Non-Defaults'\n",
        "sizes = [6.684, 93.316]\n",
        "explode = (0.2, 0)\n",
        "cols    = ['#00FFFF', '#008080']\n",
        "\n",
        "fig = plt.figure(figsize = (4,4))\n",
        "plt.pie(sizes, explode=explode, colors = cols, labels=labels, autopct='%1.1f%%',\n",
        "        shadow=True, startangle=90)\n",
        "plt.axis('equal')\n",
        "plt. title(\"Percentage of Defaults and Non-Defaults\")\n",
        "plt.show()"
      ],
      "metadata": {
        "colab": {
          "base_uri": "https://localhost:8080/",
          "height": 317
        },
        "id": "x8MC_8ie8tGd",
        "outputId": "03bd74d5-a29d-4f5e-81fa-bb802f70303d"
      },
      "execution_count": null,
      "outputs": [
        {
          "output_type": "stream",
          "name": "stdout",
          "text": [
            "0    93.316\n",
            "1     6.684\n",
            "Name: SeriousDlqin2yrs, dtype: float64\n"
          ]
        },
        {
          "output_type": "display_data",
          "data": {
            "text/plain": [
              "<Figure size 288x288 with 1 Axes>"
            ],
            "image/png": "[encoded data removed]"
          },
          "metadata": {}
        }
      ]
    },
    {
      "cell_type": "markdown",
      "source": [
        "# EDA"
      ],
      "metadata": {
        "id": "U7R_okaj8xLZ"
      }
    },
    {
      "cell_type": "markdown",
      "source": [
        "## Missing Value\n"
      ],
      "metadata": {
        "id": "iu3S0rCn8zMn"
      }
    },
    {
      "cell_type": "code",
      "source": [
        "def missing_vals(data_):\n",
        "    miss_     = data_.isnull().sum()\n",
        "    miss_pct  = data_.isnull().sum()/data_.shape[0]\n",
        "    \n",
        "    miss_pct  = pd.concat([miss_, miss_pct], axis =1)\n",
        "    miss_pct.reset_index(inplace=True)\n",
        "    miss_cols = miss_pct.rename(columns={'index':'Column Name', 0:'Missings', 1:'Missing_pct'})\n",
        "    \n",
        "    miss_cols = miss_cols[miss_cols.iloc[:,1]!=0].sort_values('Missing_pct', ascending=False).round(1)\n",
        "    miss_cols.reset_index(inplace=True, drop=True)\n",
        "    \n",
        "    return miss_cols "
      ],
      "metadata": {
        "id": "HFG5AMif83eB"
      },
      "execution_count": null,
      "outputs": []
    },
    {
      "cell_type": "code",
      "source": [
        "miss = missing_vals(data_)\n",
        "miss"
      ],
      "metadata": {
        "colab": {
          "base_uri": "https://localhost:8080/",
          "height": 112
        },
        "id": "RgfJhHGA87L7",
        "outputId": "7b6ff687-aea9-48e9-cd6a-6791986f9e0d"
      },
      "execution_count": null,
      "outputs": [
        {
          "output_type": "execute_result",
          "data": {
            "text/plain": [
              "          Column Name  Missings  Missing_pct\n",
              "0       MonthlyIncome     29731          0.2\n",
              "1  NumberOfDependents      3924          0.0"
            ],
            "text/html": [
              "\n",
              "  <div id=\"df-fd7fdc9a-072e-40bf-9175-8d8c1d7f6362\">\n",
              "    <div class=\"colab-df-container\">\n",
              "      <div>\n",
              "<style scoped>\n",
              "    .dataframe tbody tr th:only-of-type {\n",
              "        vertical-align: middle;\n",
              "    }\n",
              "\n",
              "    .dataframe tbody tr th {\n",
              "        vertical-align: top;\n",
              "    }\n",
              "\n",
              "    .dataframe thead th {\n",
              "        text-align: right;\n",
              "    }\n",
              "</style>\n",
              "<table border=\"1\" class=\"dataframe\">\n",
              "  <thead>\n",
              "    <tr style=\"text-align: right;\">\n",
              "      <th></th>\n",
              "      <th>Column Name</th>\n",
              "      <th>Missings</th>\n",
              "      <th>Missing_pct</th>\n",
              "    </tr>\n",
              "  </thead>\n",
              "  <tbody>\n",
              "    <tr>\n",
              "      <th>0</th>\n",
              "      <td>MonthlyIncome</td>\n",
              "      <td>29731</td>\n",
              "      <td>0.2</td>\n",
              "    </tr>\n",
              "    <tr>\n",
              "      <th>1</th>\n",
              "      <td>NumberOfDependents</td>\n",
              "      <td>3924</td>\n",
              "      <td>0.0</td>\n",
              "    </tr>\n",
              "  </tbody>\n",
              "</table>\n",
              "</div>\n",
              "      <button class=\"colab-df-convert\" onclick=\"convertToInteractive('df-fd7fdc9a-072e-40bf-9175-8d8c1d7f6362')\"\n",
              "              title=\"Convert this dataframe to an interactive table.\"\n",
              "              style=\"display:none;\">\n",
              "        \n",
              "  <svg xmlns=\"http://www.w3.org/2000/svg\" height=\"24px\"viewBox=\"0 0 24 24\"\n",
              "       width=\"24px\">\n",
              "    <path d=\"M0 0h24v24H0V0z\" fill=\"none\"/>\n",
              "    <path d=\"M18.56 5.44l.94 2.06.94-2.06 2.06-.94-2.06-.94-.94-2.06-.94 2.06-2.06.94zm-11 1L8.5 8.5l.94-2.06 2.06-.94-2.06-.94L8.5 2.5l-.94 2.06-2.06.94zm10 10l.94 2.06.94-2.06 2.06-.94-2.06-.94-.94-2.06-.94 2.06-2.06.94z\"/><path d=\"M17.41 7.96l-1.37-1.37c-.4-.4-.92-.59-1.43-.59-.52 0-1.04.2-1.43.59L10.3 9.45l-7.72 7.72c-.78.78-.78 2.05 0 2.83L4 21.41c.39.39.9.59 1.41.59.51 0 1.02-.2 1.41-.59l7.78-7.78 2.81-2.81c.8-.78.8-2.07 0-2.86zM5.41 20L4 18.59l7.72-7.72 1.47 1.35L5.41 20z\"/>\n",
              "  </svg>\n",
              "      </button>\n",
              "      \n",
              "  <style>\n",
              "    .colab-df-container {\n",
              "      display:flex;\n",
              "      flex-wrap:wrap;\n",
              "      gap: 12px;\n",
              "    }\n",
              "\n",
              "    .colab-df-convert {\n",
              "      background-color: #E8F0FE;\n",
              "      border: none;\n",
              "      border-radius: 50%;\n",
              "      cursor: pointer;\n",
              "      display: none;\n",
              "      fill: #1967D2;\n",
              "      height: 32px;\n",
              "      padding: 0 0 0 0;\n",
              "      width: 32px;\n",
              "    }\n",
              "\n",
              "    .colab-df-convert:hover {\n",
              "      background-color: #E2EBFA;\n",
              "      box-shadow: 0px 1px 2px rgba(60, 64, 67, 0.3), 0px 1px 3px 1px rgba(60, 64, 67, 0.15);\n",
              "      fill: #174EA6;\n",
              "    }\n",
              "\n",
              "    [theme=dark] .colab-df-convert {\n",
              "      background-color: #3B4455;\n",
              "      fill: #D2E3FC;\n",
              "    }\n",
              "\n",
              "    [theme=dark] .colab-df-convert:hover {\n",
              "      background-color: #434B5C;\n",
              "      box-shadow: 0px 1px 3px 1px rgba(0, 0, 0, 0.15);\n",
              "      filter: drop-shadow(0px 1px 2px rgba(0, 0, 0, 0.3));\n",
              "      fill: #FFFFFF;\n",
              "    }\n",
              "  </style>\n",
              "\n",
              "      <script>\n",
              "        const buttonEl =\n",
              "          document.querySelector('#df-fd7fdc9a-072e-40bf-9175-8d8c1d7f6362 button.colab-df-convert');\n",
              "        buttonEl.style.display =\n",
              "          google.colab.kernel.accessAllowed ? 'block' : 'none';\n",
              "\n",
              "        async function convertToInteractive(key) {\n",
              "          const element = document.querySelector('#df-fd7fdc9a-072e-40bf-9175-8d8c1d7f6362');\n",
              "          const dataTable =\n",
              "            await google.colab.kernel.invokeFunction('convertToInteractive',\n",
              "                                                     [key], {});\n",
              "          if (!dataTable) return;\n",
              "\n",
              "          const docLinkHtml = 'Like what you see? Visit the ' +\n",
              "            '<a target=\"_blank\" href=https://colab.research.google.com/notebooks/data_table.ipynb>data table notebook</a>'\n",
              "            + ' to learn more about interactive tables.';\n",
              "          element.innerHTML = '';\n",
              "          dataTable['output_type'] = 'display_data';\n",
              "          await google.colab.output.renderOutput(dataTable, element);\n",
              "          const docLink = document.createElement('div');\n",
              "          docLink.innerHTML = docLinkHtml;\n",
              "          element.appendChild(docLink);\n",
              "        }\n",
              "      </script>\n",
              "    </div>\n",
              "  </div>\n",
              "  "
            ]
          },
          "metadata": {},
          "execution_count": 36
        }
      ]
    },
    {
      "cell_type": "markdown",
      "source": [
        "Kesimpulan: Kami melihat bahwa ada sangat sedikit nilai yang hilang di dua kolom. Kemudian juga, kita akan mengganti nilai yang hilang dengan mean. Perawatan nilai yang hilang adalah area lain yang memiliki begitu banyak pilihan tetapi yang tercepat adalah menggantinya dengan rata-rata atau median (ketika persentase yang hilang benar-benar lebih kecil)\n",
        "\n",
        "Statistik deskriptif\n",
        "\n",
        "Kita mulai dengan statistik Deskriptif dengan memeriksa statistik dasar variabel. Kemudian kita mulai mengembangkan histogram untuk semua variabel. Ini akan membantu kita memahami distribusi masing-masing variabel"
      ],
      "metadata": {
        "id": "sAKvBtLw9Djk"
      }
    },
    {
      "cell_type": "markdown",
      "source": [
        "# No. 2 Tambilkan deskripsi dari data_"
      ],
      "metadata": {
        "id": "vyjJPDpOgASh"
      }
    },
    {
      "cell_type": "code",
      "source": [
        "data_.describe()"
      ],
      "metadata": {
        "colab": {
          "base_uri": "https://localhost:8080/",
          "height": 364
        },
        "id": "9UPgNBZ29IMr",
        "outputId": "bc9ee98b-a77b-4432-c1a0-bb7bc1671de4"
      },
      "execution_count": null,
      "outputs": [
        {
          "output_type": "execute_result",
          "data": {
            "text/plain": [
              "          Unnamed: 0  SeriousDlqin2yrs  RevolvingUtilizationOfUnsecuredLines  \\\n",
              "count  150000.000000     150000.000000                         150000.000000   \n",
              "mean    75000.500000          0.066840                              6.048438   \n",
              "std     43301.414527          0.249746                            249.755371   \n",
              "min         1.000000          0.000000                              0.000000   \n",
              "25%     37500.750000          0.000000                              0.029867   \n",
              "50%     75000.500000          0.000000                              0.154181   \n",
              "75%    112500.250000          0.000000                              0.559046   \n",
              "max    150000.000000          1.000000                          50708.000000   \n",
              "\n",
              "                 age  NumberOfTime30-59DaysPastDueNotWorse      DebtRatio  \\\n",
              "count  150000.000000                         150000.000000  150000.000000   \n",
              "mean       52.295207                              0.421033     353.005076   \n",
              "std        14.771866                              4.192781    2037.818523   \n",
              "min         0.000000                              0.000000       0.000000   \n",
              "25%        41.000000                              0.000000       0.175074   \n",
              "50%        52.000000                              0.000000       0.366508   \n",
              "75%        63.000000                              0.000000       0.868254   \n",
              "max       109.000000                             98.000000  329664.000000   \n",
              "\n",
              "       MonthlyIncome  NumberOfOpenCreditLinesAndLoans  \\\n",
              "count   1.202690e+05                    150000.000000   \n",
              "mean    6.670221e+03                         8.452760   \n",
              "std     1.438467e+04                         5.145951   \n",
              "min     0.000000e+00                         0.000000   \n",
              "25%     3.400000e+03                         5.000000   \n",
              "50%     5.400000e+03                         8.000000   \n",
              "75%     8.249000e+03                        11.000000   \n",
              "max     3.008750e+06                        58.000000   \n",
              "\n",
              "       NumberOfTimes90DaysLate  NumberRealEstateLoansOrLines  \\\n",
              "count            150000.000000                 150000.000000   \n",
              "mean                  0.265973                      1.018240   \n",
              "std                   4.169304                      1.129771   \n",
              "min                   0.000000                      0.000000   \n",
              "25%                   0.000000                      0.000000   \n",
              "50%                   0.000000                      1.000000   \n",
              "75%                   0.000000                      2.000000   \n",
              "max                  98.000000                     54.000000   \n",
              "\n",
              "       NumberOfTime60-89DaysPastDueNotWorse  NumberOfDependents  \n",
              "count                         150000.000000       146076.000000  \n",
              "mean                               0.240387            0.757222  \n",
              "std                                4.155179            1.115086  \n",
              "min                                0.000000            0.000000  \n",
              "25%                                0.000000            0.000000  \n",
              "50%                                0.000000            0.000000  \n",
              "75%                                0.000000            1.000000  \n",
              "max                               98.000000           20.000000  "
            ],
            "text/html": [
              "\n",
              "  <div id=\"df-c1ffed9d-ac88-446c-a7c7-1911699df158\">\n",
              "    <div class=\"colab-df-container\">\n",
              "      <div>\n",
              "<style scoped>\n",
              "    .dataframe tbody tr th:only-of-type {\n",
              "        vertical-align: middle;\n",
              "    }\n",
              "\n",
              "    .dataframe tbody tr th {\n",
              "        vertical-align: top;\n",
              "    }\n",
              "\n",
              "    .dataframe thead th {\n",
              "        text-align: right;\n",
              "    }\n",
              "</style>\n",
              "<table border=\"1\" class=\"dataframe\">\n",
              "  <thead>\n",
              "    <tr style=\"text-align: right;\">\n",
              "      <th></th>\n",
              "      <th>Unnamed: 0</th>\n",
              "      <th>SeriousDlqin2yrs</th>\n",
              "      <th>RevolvingUtilizationOfUnsecuredLines</th>\n",
              "      <th>age</th>\n",
              "      <th>NumberOfTime30-59DaysPastDueNotWorse</th>\n",
              "      <th>DebtRatio</th>\n",
              "      <th>MonthlyIncome</th>\n",
              "      <th>NumberOfOpenCreditLinesAndLoans</th>\n",
              "      <th>NumberOfTimes90DaysLate</th>\n",
              "      <th>NumberRealEstateLoansOrLines</th>\n",
              "      <th>NumberOfTime60-89DaysPastDueNotWorse</th>\n",
              "      <th>NumberOfDependents</th>\n",
              "    </tr>\n",
              "  </thead>\n",
              "  <tbody>\n",
              "    <tr>\n",
              "      <th>count</th>\n",
              "      <td>150000.000000</td>\n",
              "      <td>150000.000000</td>\n",
              "      <td>150000.000000</td>\n",
              "      <td>150000.000000</td>\n",
              "      <td>150000.000000</td>\n",
              "      <td>150000.000000</td>\n",
              "      <td>1.202690e+05</td>\n",
              "      <td>150000.000000</td>\n",
              "      <td>150000.000000</td>\n",
              "      <td>150000.000000</td>\n",
              "      <td>150000.000000</td>\n",
              "      <td>146076.000000</td>\n",
              "    </tr>\n",
              "    <tr>\n",
              "      <th>mean</th>\n",
              "      <td>75000.500000</td>\n",
              "      <td>0.066840</td>\n",
              "      <td>6.048438</td>\n",
              "      <td>52.295207</td>\n",
              "      <td>0.421033</td>\n",
              "      <td>353.005076</td>\n",
              "      <td>6.670221e+03</td>\n",
              "      <td>8.452760</td>\n",
              "      <td>0.265973</td>\n",
              "      <td>1.018240</td>\n",
              "      <td>0.240387</td>\n",
              "      <td>0.757222</td>\n",
              "    </tr>\n",
              "    <tr>\n",
              "      <th>std</th>\n",
              "      <td>43301.414527</td>\n",
              "      <td>0.249746</td>\n",
              "      <td>249.755371</td>\n",
              "      <td>14.771866</td>\n",
              "      <td>4.192781</td>\n",
              "      <td>2037.818523</td>\n",
              "      <td>1.438467e+04</td>\n",
              "      <td>5.145951</td>\n",
              "      <td>4.169304</td>\n",
              "      <td>1.129771</td>\n",
              "      <td>4.155179</td>\n",
              "      <td>1.115086</td>\n",
              "    </tr>\n",
              "    <tr>\n",
              "      <th>min</th>\n",
              "      <td>1.000000</td>\n",
              "      <td>0.000000</td>\n",
              "      <td>0.000000</td>\n",
              "      <td>0.000000</td>\n",
              "      <td>0.000000</td>\n",
              "      <td>0.000000</td>\n",
              "      <td>0.000000e+00</td>\n",
              "      <td>0.000000</td>\n",
              "      <td>0.000000</td>\n",
              "      <td>0.000000</td>\n",
              "      <td>0.000000</td>\n",
              "      <td>0.000000</td>\n",
              "    </tr>\n",
              "    <tr>\n",
              "      <th>25%</th>\n",
              "      <td>37500.750000</td>\n",
              "      <td>0.000000</td>\n",
              "      <td>0.029867</td>\n",
              "      <td>41.000000</td>\n",
              "      <td>0.000000</td>\n",
              "      <td>0.175074</td>\n",
              "      <td>3.400000e+03</td>\n",
              "      <td>5.000000</td>\n",
              "      <td>0.000000</td>\n",
              "      <td>0.000000</td>\n",
              "      <td>0.000000</td>\n",
              "      <td>0.000000</td>\n",
              "    </tr>\n",
              "    <tr>\n",
              "      <th>50%</th>\n",
              "      <td>75000.500000</td>\n",
              "      <td>0.000000</td>\n",
              "      <td>0.154181</td>\n",
              "      <td>52.000000</td>\n",
              "      <td>0.000000</td>\n",
              "      <td>0.366508</td>\n",
              "      <td>5.400000e+03</td>\n",
              "      <td>8.000000</td>\n",
              "      <td>0.000000</td>\n",
              "      <td>1.000000</td>\n",
              "      <td>0.000000</td>\n",
              "      <td>0.000000</td>\n",
              "    </tr>\n",
              "    <tr>\n",
              "      <th>75%</th>\n",
              "      <td>112500.250000</td>\n",
              "      <td>0.000000</td>\n",
              "      <td>0.559046</td>\n",
              "      <td>63.000000</td>\n",
              "      <td>0.000000</td>\n",
              "      <td>0.868254</td>\n",
              "      <td>8.249000e+03</td>\n",
              "      <td>11.000000</td>\n",
              "      <td>0.000000</td>\n",
              "      <td>2.000000</td>\n",
              "      <td>0.000000</td>\n",
              "      <td>1.000000</td>\n",
              "    </tr>\n",
              "    <tr>\n",
              "      <th>max</th>\n",
              "      <td>150000.000000</td>\n",
              "      <td>1.000000</td>\n",
              "      <td>50708.000000</td>\n",
              "      <td>109.000000</td>\n",
              "      <td>98.000000</td>\n",
              "      <td>329664.000000</td>\n",
              "      <td>3.008750e+06</td>\n",
              "      <td>58.000000</td>\n",
              "      <td>98.000000</td>\n",
              "      <td>54.000000</td>\n",
              "      <td>98.000000</td>\n",
              "      <td>20.000000</td>\n",
              "    </tr>\n",
              "  </tbody>\n",
              "</table>\n",
              "</div>\n",
              "      <button class=\"colab-df-convert\" onclick=\"convertToInteractive('df-c1ffed9d-ac88-446c-a7c7-1911699df158')\"\n",
              "              title=\"Convert this dataframe to an interactive table.\"\n",
              "              style=\"display:none;\">\n",
              "        \n",
              "  <svg xmlns=\"http://www.w3.org/2000/svg\" height=\"24px\"viewBox=\"0 0 24 24\"\n",
              "       width=\"24px\">\n",
              "    <path d=\"M0 0h24v24H0V0z\" fill=\"none\"/>\n",
              "    <path d=\"M18.56 5.44l.94 2.06.94-2.06 2.06-.94-2.06-.94-.94-2.06-.94 2.06-2.06.94zm-11 1L8.5 8.5l.94-2.06 2.06-.94-2.06-.94L8.5 2.5l-.94 2.06-2.06.94zm10 10l.94 2.06.94-2.06 2.06-.94-2.06-.94-.94-2.06-.94 2.06-2.06.94z\"/><path d=\"M17.41 7.96l-1.37-1.37c-.4-.4-.92-.59-1.43-.59-.52 0-1.04.2-1.43.59L10.3 9.45l-7.72 7.72c-.78.78-.78 2.05 0 2.83L4 21.41c.39.39.9.59 1.41.59.51 0 1.02-.2 1.41-.59l7.78-7.78 2.81-2.81c.8-.78.8-2.07 0-2.86zM5.41 20L4 18.59l7.72-7.72 1.47 1.35L5.41 20z\"/>\n",
              "  </svg>\n",
              "      </button>\n",
              "      \n",
              "  <style>\n",
              "    .colab-df-container {\n",
              "      display:flex;\n",
              "      flex-wrap:wrap;\n",
              "      gap: 12px;\n",
              "    }\n",
              "\n",
              "    .colab-df-convert {\n",
              "      background-color: #E8F0FE;\n",
              "      border: none;\n",
              "      border-radius: 50%;\n",
              "      cursor: pointer;\n",
              "      display: none;\n",
              "      fill: #1967D2;\n",
              "      height: 32px;\n",
              "      padding: 0 0 0 0;\n",
              "      width: 32px;\n",
              "    }\n",
              "\n",
              "    .colab-df-convert:hover {\n",
              "      background-color: #E2EBFA;\n",
              "      box-shadow: 0px 1px 2px rgba(60, 64, 67, 0.3), 0px 1px 3px 1px rgba(60, 64, 67, 0.15);\n",
              "      fill: #174EA6;\n",
              "    }\n",
              "\n",
              "    [theme=dark] .colab-df-convert {\n",
              "      background-color: #3B4455;\n",
              "      fill: #D2E3FC;\n",
              "    }\n",
              "\n",
              "    [theme=dark] .colab-df-convert:hover {\n",
              "      background-color: #434B5C;\n",
              "      box-shadow: 0px 1px 3px 1px rgba(0, 0, 0, 0.15);\n",
              "      filter: drop-shadow(0px 1px 2px rgba(0, 0, 0, 0.3));\n",
              "      fill: #FFFFFF;\n",
              "    }\n",
              "  </style>\n",
              "\n",
              "      <script>\n",
              "        const buttonEl =\n",
              "          document.querySelector('#df-c1ffed9d-ac88-446c-a7c7-1911699df158 button.colab-df-convert');\n",
              "        buttonEl.style.display =\n",
              "          google.colab.kernel.accessAllowed ? 'block' : 'none';\n",
              "\n",
              "        async function convertToInteractive(key) {\n",
              "          const element = document.querySelector('#df-c1ffed9d-ac88-446c-a7c7-1911699df158');\n",
              "          const dataTable =\n",
              "            await google.colab.kernel.invokeFunction('convertToInteractive',\n",
              "                                                     [key], {});\n",
              "          if (!dataTable) return;\n",
              "\n",
              "          const docLinkHtml = 'Like what you see? Visit the ' +\n",
              "            '<a target=\"_blank\" href=https://colab.research.google.com/notebooks/data_table.ipynb>data table notebook</a>'\n",
              "            + ' to learn more about interactive tables.';\n",
              "          element.innerHTML = '';\n",
              "          dataTable['output_type'] = 'display_data';\n",
              "          await google.colab.output.renderOutput(dataTable, element);\n",
              "          const docLink = document.createElement('div');\n",
              "          docLink.innerHTML = docLinkHtml;\n",
              "          element.appendChild(docLink);\n",
              "        }\n",
              "      </script>\n",
              "    </div>\n",
              "  </div>\n",
              "  "
            ]
          },
          "metadata": {},
          "execution_count": 37
        }
      ]
    },
    {
      "cell_type": "code",
      "source": [
        "cols = list(data_.columns)\n",
        "cols = cols[1:]\n",
        "colors = ['b', 'g', 'r', 'c', 'm', 'y', 'k', 'b', 'g', 'r', 'c']"
      ],
      "metadata": {
        "id": "KLSrjXJn9LPM"
      },
      "execution_count": null,
      "outputs": []
    },
    {
      "cell_type": "code",
      "source": [
        "# Plot\n",
        "fig = plt.figure(figsize=(15, 12))\n",
        "for i in range(0, len(cols)):\n",
        "    plt.subplot(5, 4, i+1)\n",
        "    f = plt.gca()\n",
        "    f.axes.get_yaxis().set_visible(False)\n",
        "\n",
        "    plt.hist(data_[cols[i]], bins=30, color=colors[i])\n",
        "    plt.title(cols[i])\n",
        "\n",
        "plt.tight_layout()"
      ],
      "metadata": {
        "colab": {
          "base_uri": "https://localhost:8080/",
          "height": 534
        },
        "id": "O6gzlxwo9Nr1",
        "outputId": "7c0a2a04-42f8-4947-f964-5ce822f92b2f"
      },
      "execution_count": null,
      "outputs": [
        {
          "output_type": "display_data",
          "data": {
            "text/plain": [
              "<Figure size 1080x864 with 11 Axes>"
            ],
            "image/png": "[encoded data removed]"
          },
          "metadata": {}
        }
      ]
    },
    {
      "cell_type": "markdown",
      "source": [
        "# Isi missing value dengan mean"
      ],
      "metadata": {
        "id": "fDG6tQup9SBR"
      }
    },
    {
      "cell_type": "markdown",
      "source": [
        "# No. 3 \n",
        "\n",
        "Isi missing value dengan mean\n",
        "Clue: gunakan transform lambda kemudian isi fillna dengan mean"
      ],
      "metadata": {
        "id": "2y3fv3f3hqs2"
      }
    },
    {
      "cell_type": "code",
      "source": [
        "df = data_.copy()\n",
        "df['MonthlyIncome'] =df['MonthlyIncome'].transform(lambda x: x.fillna(x.mean()))\n",
        "df['NumberOfDependents'] =df['NumberOfDependents'].transform(lambda x: x.fillna(x.mean()))"
      ],
      "metadata": {
        "id": "SOvp4i_g9UWj"
      },
      "execution_count": null,
      "outputs": []
    },
    {
      "cell_type": "code",
      "source": [
        "# Cek ulang missing value\n",
        "miss = missing_vals(df)\n",
        "miss"
      ],
      "metadata": {
        "colab": {
          "base_uri": "https://localhost:8080/",
          "height": 49
        },
        "id": "Lsg0Gx-o9Wp8",
        "outputId": "0b0a2dd6-f261-4ea9-887d-89659e6cdd80"
      },
      "execution_count": null,
      "outputs": [
        {
          "output_type": "execute_result",
          "data": {
            "text/plain": [
              "Empty DataFrame\n",
              "Columns: [Column Name, Missings, Missing_pct]\n",
              "Index: []"
            ],
            "text/html": [
              "\n",
              "  <div id=\"df-9d96a792-ac62-45ab-a281-aee39b5c4eb8\">\n",
              "    <div class=\"colab-df-container\">\n",
              "      <div>\n",
              "<style scoped>\n",
              "    .dataframe tbody tr th:only-of-type {\n",
              "        vertical-align: middle;\n",
              "    }\n",
              "\n",
              "    .dataframe tbody tr th {\n",
              "        vertical-align: top;\n",
              "    }\n",
              "\n",
              "    .dataframe thead th {\n",
              "        text-align: right;\n",
              "    }\n",
              "</style>\n",
              "<table border=\"1\" class=\"dataframe\">\n",
              "  <thead>\n",
              "    <tr style=\"text-align: right;\">\n",
              "      <th></th>\n",
              "      <th>Column Name</th>\n",
              "      <th>Missings</th>\n",
              "      <th>Missing_pct</th>\n",
              "    </tr>\n",
              "  </thead>\n",
              "  <tbody>\n",
              "  </tbody>\n",
              "</table>\n",
              "</div>\n",
              "      <button class=\"colab-df-convert\" onclick=\"convertToInteractive('df-9d96a792-ac62-45ab-a281-aee39b5c4eb8')\"\n",
              "              title=\"Convert this dataframe to an interactive table.\"\n",
              "              style=\"display:none;\">\n",
              "        \n",
              "  <svg xmlns=\"http://www.w3.org/2000/svg\" height=\"24px\"viewBox=\"0 0 24 24\"\n",
              "       width=\"24px\">\n",
              "    <path d=\"M0 0h24v24H0V0z\" fill=\"none\"/>\n",
              "    <path d=\"M18.56 5.44l.94 2.06.94-2.06 2.06-.94-2.06-.94-.94-2.06-.94 2.06-2.06.94zm-11 1L8.5 8.5l.94-2.06 2.06-.94-2.06-.94L8.5 2.5l-.94 2.06-2.06.94zm10 10l.94 2.06.94-2.06 2.06-.94-2.06-.94-.94-2.06-.94 2.06-2.06.94z\"/><path d=\"M17.41 7.96l-1.37-1.37c-.4-.4-.92-.59-1.43-.59-.52 0-1.04.2-1.43.59L10.3 9.45l-7.72 7.72c-.78.78-.78 2.05 0 2.83L4 21.41c.39.39.9.59 1.41.59.51 0 1.02-.2 1.41-.59l7.78-7.78 2.81-2.81c.8-.78.8-2.07 0-2.86zM5.41 20L4 18.59l7.72-7.72 1.47 1.35L5.41 20z\"/>\n",
              "  </svg>\n",
              "      </button>\n",
              "      \n",
              "  <style>\n",
              "    .colab-df-container {\n",
              "      display:flex;\n",
              "      flex-wrap:wrap;\n",
              "      gap: 12px;\n",
              "    }\n",
              "\n",
              "    .colab-df-convert {\n",
              "      background-color: #E8F0FE;\n",
              "      border: none;\n",
              "      border-radius: 50%;\n",
              "      cursor: pointer;\n",
              "      display: none;\n",
              "      fill: #1967D2;\n",
              "      height: 32px;\n",
              "      padding: 0 0 0 0;\n",
              "      width: 32px;\n",
              "    }\n",
              "\n",
              "    .colab-df-convert:hover {\n",
              "      background-color: #E2EBFA;\n",
              "      box-shadow: 0px 1px 2px rgba(60, 64, 67, 0.3), 0px 1px 3px 1px rgba(60, 64, 67, 0.15);\n",
              "      fill: #174EA6;\n",
              "    }\n",
              "\n",
              "    [theme=dark] .colab-df-convert {\n",
              "      background-color: #3B4455;\n",
              "      fill: #D2E3FC;\n",
              "    }\n",
              "\n",
              "    [theme=dark] .colab-df-convert:hover {\n",
              "      background-color: #434B5C;\n",
              "      box-shadow: 0px 1px 3px 1px rgba(0, 0, 0, 0.15);\n",
              "      filter: drop-shadow(0px 1px 2px rgba(0, 0, 0, 0.3));\n",
              "      fill: #FFFFFF;\n",
              "    }\n",
              "  </style>\n",
              "\n",
              "      <script>\n",
              "        const buttonEl =\n",
              "          document.querySelector('#df-9d96a792-ac62-45ab-a281-aee39b5c4eb8 button.colab-df-convert');\n",
              "        buttonEl.style.display =\n",
              "          google.colab.kernel.accessAllowed ? 'block' : 'none';\n",
              "\n",
              "        async function convertToInteractive(key) {\n",
              "          const element = document.querySelector('#df-9d96a792-ac62-45ab-a281-aee39b5c4eb8');\n",
              "          const dataTable =\n",
              "            await google.colab.kernel.invokeFunction('convertToInteractive',\n",
              "                                                     [key], {});\n",
              "          if (!dataTable) return;\n",
              "\n",
              "          const docLinkHtml = 'Like what you see? Visit the ' +\n",
              "            '<a target=\"_blank\" href=https://colab.research.google.com/notebooks/data_table.ipynb>data table notebook</a>'\n",
              "            + ' to learn more about interactive tables.';\n",
              "          element.innerHTML = '';\n",
              "          dataTable['output_type'] = 'display_data';\n",
              "          await google.colab.output.renderOutput(dataTable, element);\n",
              "          const docLink = document.createElement('div');\n",
              "          docLink.innerHTML = docLinkHtml;\n",
              "          element.appendChild(docLink);\n",
              "        }\n",
              "      </script>\n",
              "    </div>\n",
              "  </div>\n",
              "  "
            ]
          },
          "metadata": {},
          "execution_count": 41
        }
      ]
    },
    {
      "cell_type": "markdown",
      "source": [
        "Seperti yang kita lihat bahwa tidak ada nilai nol yang tersisa. Banyak algoritme Pembelajaran Mesin mengambil nilai yang hilang dalam analisisnya, tetapi selalu merupakan strategi yang lebih baik untuk menanganinya sebelum mencapai tahap pemodelan.\n",
        "\n",
        "Ada beberapa contoh ketika Anda tidak dapat mengobatinya:\n",
        "\n",
        "- Nilai yang hilang menghilangkan sekitar 30-50% pengamatan di mana Anda tidak dapat menghapusnya\n",
        "\n",
        "- Dalam kasus di atas, Anda bahkan tidak dapat memperlakukannya dengan mean, median sebagai variabel dengan begitu banyak nilai serupa tidak membawa banyak varians dalam variabel"
      ],
      "metadata": {
        "id": "kxxOW7RA9eCi"
      }
    },
    {
      "cell_type": "markdown",
      "source": [
        "# Default and Non-Default Visualization\n",
        "\n",
        "Kami akan mencoba memvisualisasikan Default dan Non-Defaults pada kerangka kerja 2axis dan melihat seberapa banyak tumpang tindih yang mereka miliki. Untuk ini kita akan menggunakan PCA untuk mendapatkan dua komponen utama yang merupakan kombinasi dari semua variabel. Ini akan membantu kami memahami distribusi Default dan Non-Default\n"
      ],
      "metadata": {
        "id": "RI-bn4lw9na7"
      }
    },
    {
      "cell_type": "code",
      "source": [
        "random.seed(32)\n",
        "pca = PCA(n_components = 2)\n",
        "pca.fit(df)\n",
        "\n",
        "scores = pca.transform(df)\n",
        "\n",
        "x,y = scores[:,0] , scores[:,1]\n",
        "df_ = pd.DataFrame({'x': x, 'y':y, 'clusters':df['SeriousDlqin2yrs']})\n",
        "grouping_ = df_.groupby('clusters')\n",
        "\n",
        "\n",
        "fig, ax = plt.subplots(figsize=(10, 5))\n",
        "names = {0: 'Non-Defaults', \n",
        "         1: 'Defaults'}\n",
        "\n",
        "for name, grp in grouping_:\n",
        "    ax.plot(grp.x, grp.y, marker='o', label = names[name], linestyle='')\n",
        "    ax.set_aspect('auto')\n",
        "    ax.set_ylim([0,200000])     ### I have just kept a upper cap on the axis to see the distribution of them\n",
        "    \n",
        "ax.legend()\n",
        "plt.title('Plot showing Defaults and Non-Defaults')\n",
        "plt.show()"
      ],
      "metadata": {
        "colab": {
          "base_uri": "https://localhost:8080/",
          "height": 335
        },
        "id": "YhFjvxs-9t90",
        "outputId": "69131993-2af4-4609-f27a-7f194eaa654d"
      },
      "execution_count": null,
      "outputs": [
        {
          "output_type": "display_data",
          "data": {
            "text/plain": [
              "<Figure size 720x360 with 1 Axes>"
            ],
            "image/png": "[encoded data removed]"
          },
          "metadata": {}
        }
      ]
    },
    {
      "cell_type": "markdown",
      "source": [
        "Sekarang melakukan One-Hot Encoding\n",
        "\n",
        "Satu pengkodean panas adalah proses di mana variabel kategoris diubah menjadi bentuk yang dapat disediakan untuk algoritma ML untuk melakukan pekerjaan yang lebih baik dalam prediksi\n",
        "\n",
        "Beberapa algoritma dapat bekerja dengan data kategorikal secara langsung. Misalnya, pohon keputusan dapat dipelajari secara langsung dari data kategorikal tanpa memerlukan transformasi data (ini tergantung pada implementasi spesifik). Banyak algoritme pembelajaran mesin tidak dapat beroperasi pada data label secara langsung. Mereka membutuhkan semua variabel input dan variabel output menjadi numerik. Secara umum, ini sebagian besar merupakan kendala implementasi algoritma pembelajaran mesin yang efisien daripada batasan keras pada algoritma itu sendiri. Ini berarti bahwa data kategoris harus diubah ke dalam bentuk numerik.\n"
      ],
      "metadata": {
        "id": "GfTxw1pW90z8"
      }
    },
    {
      "cell_type": "markdown",
      "source": [
        "# No. 4 \n",
        "Lakukan One Hot Encoding menggunakan get dummies, kemudian tampilan head dari data tersebut"
      ],
      "metadata": {
        "id": "dvf-SK98iqnm"
      }
    },
    {
      "cell_type": "code",
      "source": [
        "df = pd.get_dummies(df)\n",
        "df = df[[c for c in df if c not in ['SeriousDlqin2yrs']]+['SeriousDlqin2yrs']]\n",
        "df = df.drop(['Unnamed: 0'], axis=1)"
      ],
      "metadata": {
        "id": "_N8L8beZ95Yd"
      },
      "execution_count": null,
      "outputs": []
    },
    {
      "cell_type": "code",
      "source": [
        "df.head()"
      ],
      "metadata": {
        "colab": {
          "base_uri": "https://localhost:8080/",
          "height": 270
        },
        "id": "euOHFDxi97dC",
        "outputId": "25aa1824-94ce-496e-ba9b-ba6f454f50a4"
      },
      "execution_count": null,
      "outputs": [
        {
          "output_type": "execute_result",
          "data": {
            "text/plain": [
              "   RevolvingUtilizationOfUnsecuredLines  age  \\\n",
              "0                              0.766127   45   \n",
              "1                              0.957151   40   \n",
              "2                              0.658180   38   \n",
              "3                              0.233810   30   \n",
              "4                              0.907239   49   \n",
              "\n",
              "   NumberOfTime30-59DaysPastDueNotWorse  DebtRatio  MonthlyIncome  \\\n",
              "0                                     2   0.802982         9120.0   \n",
              "1                                     0   0.121876         2600.0   \n",
              "2                                     1   0.085113         3042.0   \n",
              "3                                     0   0.036050         3300.0   \n",
              "4                                     1   0.024926        63588.0   \n",
              "\n",
              "   NumberOfOpenCreditLinesAndLoans  NumberOfTimes90DaysLate  \\\n",
              "0                               13                        0   \n",
              "1                                4                        0   \n",
              "2                                2                        1   \n",
              "3                                5                        0   \n",
              "4                                7                        0   \n",
              "\n",
              "   NumberRealEstateLoansOrLines  NumberOfTime60-89DaysPastDueNotWorse  \\\n",
              "0                             6                                     0   \n",
              "1                             0                                     0   \n",
              "2                             0                                     0   \n",
              "3                             0                                     0   \n",
              "4                             1                                     0   \n",
              "\n",
              "   NumberOfDependents  SeriousDlqin2yrs  \n",
              "0                 2.0                 1  \n",
              "1                 1.0                 0  \n",
              "2                 0.0                 0  \n",
              "3                 0.0                 0  \n",
              "4                 0.0                 0  "
            ],
            "text/html": [
              "\n",
              "  <div id=\"df-616e2543-b2c2-409b-96c4-05f3cf3ff24a\">\n",
              "    <div class=\"colab-df-container\">\n",
              "      <div>\n",
              "<style scoped>\n",
              "    .dataframe tbody tr th:only-of-type {\n",
              "        vertical-align: middle;\n",
              "    }\n",
              "\n",
              "    .dataframe tbody tr th {\n",
              "        vertical-align: top;\n",
              "    }\n",
              "\n",
              "    .dataframe thead th {\n",
              "        text-align: right;\n",
              "    }\n",
              "</style>\n",
              "<table border=\"1\" class=\"dataframe\">\n",
              "  <thead>\n",
              "    <tr style=\"text-align: right;\">\n",
              "      <th></th>\n",
              "      <th>RevolvingUtilizationOfUnsecuredLines</th>\n",
              "      <th>age</th>\n",
              "      <th>NumberOfTime30-59DaysPastDueNotWorse</th>\n",
              "      <th>DebtRatio</th>\n",
              "      <th>MonthlyIncome</th>\n",
              "      <th>NumberOfOpenCreditLinesAndLoans</th>\n",
              "      <th>NumberOfTimes90DaysLate</th>\n",
              "      <th>NumberRealEstateLoansOrLines</th>\n",
              "      <th>NumberOfTime60-89DaysPastDueNotWorse</th>\n",
              "      <th>NumberOfDependents</th>\n",
              "      <th>SeriousDlqin2yrs</th>\n",
              "    </tr>\n",
              "  </thead>\n",
              "  <tbody>\n",
              "    <tr>\n",
              "      <th>0</th>\n",
              "      <td>0.766127</td>\n",
              "      <td>45</td>\n",
              "      <td>2</td>\n",
              "      <td>0.802982</td>\n",
              "      <td>9120.0</td>\n",
              "      <td>13</td>\n",
              "      <td>0</td>\n",
              "      <td>6</td>\n",
              "      <td>0</td>\n",
              "      <td>2.0</td>\n",
              "      <td>1</td>\n",
              "    </tr>\n",
              "    <tr>\n",
              "      <th>1</th>\n",
              "      <td>0.957151</td>\n",
              "      <td>40</td>\n",
              "      <td>0</td>\n",
              "      <td>0.121876</td>\n",
              "      <td>2600.0</td>\n",
              "      <td>4</td>\n",
              "      <td>0</td>\n",
              "      <td>0</td>\n",
              "      <td>0</td>\n",
              "      <td>1.0</td>\n",
              "      <td>0</td>\n",
              "    </tr>\n",
              "    <tr>\n",
              "      <th>2</th>\n",
              "      <td>0.658180</td>\n",
              "      <td>38</td>\n",
              "      <td>1</td>\n",
              "      <td>0.085113</td>\n",
              "      <td>3042.0</td>\n",
              "      <td>2</td>\n",
              "      <td>1</td>\n",
              "      <td>0</td>\n",
              "      <td>0</td>\n",
              "      <td>0.0</td>\n",
              "      <td>0</td>\n",
              "    </tr>\n",
              "    <tr>\n",
              "      <th>3</th>\n",
              "      <td>0.233810</td>\n",
              "      <td>30</td>\n",
              "      <td>0</td>\n",
              "      <td>0.036050</td>\n",
              "      <td>3300.0</td>\n",
              "      <td>5</td>\n",
              "      <td>0</td>\n",
              "      <td>0</td>\n",
              "      <td>0</td>\n",
              "      <td>0.0</td>\n",
              "      <td>0</td>\n",
              "    </tr>\n",
              "    <tr>\n",
              "      <th>4</th>\n",
              "      <td>0.907239</td>\n",
              "      <td>49</td>\n",
              "      <td>1</td>\n",
              "      <td>0.024926</td>\n",
              "      <td>63588.0</td>\n",
              "      <td>7</td>\n",
              "      <td>0</td>\n",
              "      <td>1</td>\n",
              "      <td>0</td>\n",
              "      <td>0.0</td>\n",
              "      <td>0</td>\n",
              "    </tr>\n",
              "  </tbody>\n",
              "</table>\n",
              "</div>\n",
              "      <button class=\"colab-df-convert\" onclick=\"convertToInteractive('df-616e2543-b2c2-409b-96c4-05f3cf3ff24a')\"\n",
              "              title=\"Convert this dataframe to an interactive table.\"\n",
              "              style=\"display:none;\">\n",
              "        \n",
              "  <svg xmlns=\"http://www.w3.org/2000/svg\" height=\"24px\"viewBox=\"0 0 24 24\"\n",
              "       width=\"24px\">\n",
              "    <path d=\"M0 0h24v24H0V0z\" fill=\"none\"/>\n",
              "    <path d=\"M18.56 5.44l.94 2.06.94-2.06 2.06-.94-2.06-.94-.94-2.06-.94 2.06-2.06.94zm-11 1L8.5 8.5l.94-2.06 2.06-.94-2.06-.94L8.5 2.5l-.94 2.06-2.06.94zm10 10l.94 2.06.94-2.06 2.06-.94-2.06-.94-.94-2.06-.94 2.06-2.06.94z\"/><path d=\"M17.41 7.96l-1.37-1.37c-.4-.4-.92-.59-1.43-.59-.52 0-1.04.2-1.43.59L10.3 9.45l-7.72 7.72c-.78.78-.78 2.05 0 2.83L4 21.41c.39.39.9.59 1.41.59.51 0 1.02-.2 1.41-.59l7.78-7.78 2.81-2.81c.8-.78.8-2.07 0-2.86zM5.41 20L4 18.59l7.72-7.72 1.47 1.35L5.41 20z\"/>\n",
              "  </svg>\n",
              "      </button>\n",
              "      \n",
              "  <style>\n",
              "    .colab-df-container {\n",
              "      display:flex;\n",
              "      flex-wrap:wrap;\n",
              "      gap: 12px;\n",
              "    }\n",
              "\n",
              "    .colab-df-convert {\n",
              "      background-color: #E8F0FE;\n",
              "      border: none;\n",
              "      border-radius: 50%;\n",
              "      cursor: pointer;\n",
              "      display: none;\n",
              "      fill: #1967D2;\n",
              "      height: 32px;\n",
              "      padding: 0 0 0 0;\n",
              "      width: 32px;\n",
              "    }\n",
              "\n",
              "    .colab-df-convert:hover {\n",
              "      background-color: #E2EBFA;\n",
              "      box-shadow: 0px 1px 2px rgba(60, 64, 67, 0.3), 0px 1px 3px 1px rgba(60, 64, 67, 0.15);\n",
              "      fill: #174EA6;\n",
              "    }\n",
              "\n",
              "    [theme=dark] .colab-df-convert {\n",
              "      background-color: #3B4455;\n",
              "      fill: #D2E3FC;\n",
              "    }\n",
              "\n",
              "    [theme=dark] .colab-df-convert:hover {\n",
              "      background-color: #434B5C;\n",
              "      box-shadow: 0px 1px 3px 1px rgba(0, 0, 0, 0.15);\n",
              "      filter: drop-shadow(0px 1px 2px rgba(0, 0, 0, 0.3));\n",
              "      fill: #FFFFFF;\n",
              "    }\n",
              "  </style>\n",
              "\n",
              "      <script>\n",
              "        const buttonEl =\n",
              "          document.querySelector('#df-616e2543-b2c2-409b-96c4-05f3cf3ff24a button.colab-df-convert');\n",
              "        buttonEl.style.display =\n",
              "          google.colab.kernel.accessAllowed ? 'block' : 'none';\n",
              "\n",
              "        async function convertToInteractive(key) {\n",
              "          const element = document.querySelector('#df-616e2543-b2c2-409b-96c4-05f3cf3ff24a');\n",
              "          const dataTable =\n",
              "            await google.colab.kernel.invokeFunction('convertToInteractive',\n",
              "                                                     [key], {});\n",
              "          if (!dataTable) return;\n",
              "\n",
              "          const docLinkHtml = 'Like what you see? Visit the ' +\n",
              "            '<a target=\"_blank\" href=https://colab.research.google.com/notebooks/data_table.ipynb>data table notebook</a>'\n",
              "            + ' to learn more about interactive tables.';\n",
              "          element.innerHTML = '';\n",
              "          dataTable['output_type'] = 'display_data';\n",
              "          await google.colab.output.renderOutput(dataTable, element);\n",
              "          const docLink = document.createElement('div');\n",
              "          docLink.innerHTML = docLinkHtml;\n",
              "          element.appendChild(docLink);\n",
              "        }\n",
              "      </script>\n",
              "    </div>\n",
              "  </div>\n",
              "  "
            ]
          },
          "metadata": {},
          "execution_count": 44
        }
      ]
    },
    {
      "cell_type": "markdown",
      "source": [
        "# Memeriksa korelasi\n",
        "\n",
        "Kami akan memeriksa dua jenis korelasi:\n",
        "\n",
        "- Korelasi dengan variabel terikat untuk memeriksa variabel mana yang berkorelasi lebih baik dengan variabel terikat\n",
        "- Korelasi antara variabel yang berbeda yang pada dasarnya memeriksa mutli-kolinearitas\n",
        "\n",
        "Ini adalah langkah di mana kami mengurangi variabel dan sebagai bagian dari bagian rekayasa fitur. Dalam kasus kami, kami memiliki jumlah variabel yang lebih kecil tetapi itu hanya kasus penggunaan. Rekayasa Fitur benar-benar dapat merusak atau membuat model."
      ],
      "metadata": {
        "id": "tIRvujXM-DyV"
      }
    },
    {
      "cell_type": "code",
      "source": [
        "correlations = pd.DataFrame(df.corr()['SeriousDlqin2yrs'].sort_values())\n",
        "correlations = correlations.rename(columns = {'SeriousDlqin2yrs':'Correlation value'})"
      ],
      "metadata": {
        "id": "014Gvu5--KZ8"
      },
      "execution_count": null,
      "outputs": []
    },
    {
      "cell_type": "code",
      "source": [
        "correlations"
      ],
      "metadata": {
        "colab": {
          "base_uri": "https://localhost:8080/",
          "height": 394
        },
        "id": "WzaFTzi3-NVC",
        "outputId": "a5d6708b-99db-45e8-931c-8b707614c3a6"
      },
      "execution_count": null,
      "outputs": [
        {
          "output_type": "execute_result",
          "data": {
            "text/plain": [
              "                                      Correlation value\n",
              "age                                           -0.115386\n",
              "NumberOfOpenCreditLinesAndLoans               -0.029669\n",
              "MonthlyIncome                                 -0.018002\n",
              "DebtRatio                                     -0.007602\n",
              "NumberRealEstateLoansOrLines                  -0.007038\n",
              "RevolvingUtilizationOfUnsecuredLines          -0.001802\n",
              "NumberOfDependents                             0.045621\n",
              "NumberOfTime60-89DaysPastDueNotWorse           0.102261\n",
              "NumberOfTimes90DaysLate                        0.117175\n",
              "NumberOfTime30-59DaysPastDueNotWorse           0.125587\n",
              "SeriousDlqin2yrs                               1.000000"
            ],
            "text/html": [
              "\n",
              "  <div id=\"df-4efbb58f-374d-441d-80a7-03a86c78980e\">\n",
              "    <div class=\"colab-df-container\">\n",
              "      <div>\n",
              "<style scoped>\n",
              "    .dataframe tbody tr th:only-of-type {\n",
              "        vertical-align: middle;\n",
              "    }\n",
              "\n",
              "    .dataframe tbody tr th {\n",
              "        vertical-align: top;\n",
              "    }\n",
              "\n",
              "    .dataframe thead th {\n",
              "        text-align: right;\n",
              "    }\n",
              "</style>\n",
              "<table border=\"1\" class=\"dataframe\">\n",
              "  <thead>\n",
              "    <tr style=\"text-align: right;\">\n",
              "      <th></th>\n",
              "      <th>Correlation value</th>\n",
              "    </tr>\n",
              "  </thead>\n",
              "  <tbody>\n",
              "    <tr>\n",
              "      <th>age</th>\n",
              "      <td>-0.115386</td>\n",
              "    </tr>\n",
              "    <tr>\n",
              "      <th>NumberOfOpenCreditLinesAndLoans</th>\n",
              "      <td>-0.029669</td>\n",
              "    </tr>\n",
              "    <tr>\n",
              "      <th>MonthlyIncome</th>\n",
              "      <td>-0.018002</td>\n",
              "    </tr>\n",
              "    <tr>\n",
              "      <th>DebtRatio</th>\n",
              "      <td>-0.007602</td>\n",
              "    </tr>\n",
              "    <tr>\n",
              "      <th>NumberRealEstateLoansOrLines</th>\n",
              "      <td>-0.007038</td>\n",
              "    </tr>\n",
              "    <tr>\n",
              "      <th>RevolvingUtilizationOfUnsecuredLines</th>\n",
              "      <td>-0.001802</td>\n",
              "    </tr>\n",
              "    <tr>\n",
              "      <th>NumberOfDependents</th>\n",
              "      <td>0.045621</td>\n",
              "    </tr>\n",
              "    <tr>\n",
              "      <th>NumberOfTime60-89DaysPastDueNotWorse</th>\n",
              "      <td>0.102261</td>\n",
              "    </tr>\n",
              "    <tr>\n",
              "      <th>NumberOfTimes90DaysLate</th>\n",
              "      <td>0.117175</td>\n",
              "    </tr>\n",
              "    <tr>\n",
              "      <th>NumberOfTime30-59DaysPastDueNotWorse</th>\n",
              "      <td>0.125587</td>\n",
              "    </tr>\n",
              "    <tr>\n",
              "      <th>SeriousDlqin2yrs</th>\n",
              "      <td>1.000000</td>\n",
              "    </tr>\n",
              "  </tbody>\n",
              "</table>\n",
              "</div>\n",
              "      <button class=\"colab-df-convert\" onclick=\"convertToInteractive('df-4efbb58f-374d-441d-80a7-03a86c78980e')\"\n",
              "              title=\"Convert this dataframe to an interactive table.\"\n",
              "              style=\"display:none;\">\n",
              "        \n",
              "  <svg xmlns=\"http://www.w3.org/2000/svg\" height=\"24px\"viewBox=\"0 0 24 24\"\n",
              "       width=\"24px\">\n",
              "    <path d=\"M0 0h24v24H0V0z\" fill=\"none\"/>\n",
              "    <path d=\"M18.56 5.44l.94 2.06.94-2.06 2.06-.94-2.06-.94-.94-2.06-.94 2.06-2.06.94zm-11 1L8.5 8.5l.94-2.06 2.06-.94-2.06-.94L8.5 2.5l-.94 2.06-2.06.94zm10 10l.94 2.06.94-2.06 2.06-.94-2.06-.94-.94-2.06-.94 2.06-2.06.94z\"/><path d=\"M17.41 7.96l-1.37-1.37c-.4-.4-.92-.59-1.43-.59-.52 0-1.04.2-1.43.59L10.3 9.45l-7.72 7.72c-.78.78-.78 2.05 0 2.83L4 21.41c.39.39.9.59 1.41.59.51 0 1.02-.2 1.41-.59l7.78-7.78 2.81-2.81c.8-.78.8-2.07 0-2.86zM5.41 20L4 18.59l7.72-7.72 1.47 1.35L5.41 20z\"/>\n",
              "  </svg>\n",
              "      </button>\n",
              "      \n",
              "  <style>\n",
              "    .colab-df-container {\n",
              "      display:flex;\n",
              "      flex-wrap:wrap;\n",
              "      gap: 12px;\n",
              "    }\n",
              "\n",
              "    .colab-df-convert {\n",
              "      background-color: #E8F0FE;\n",
              "      border: none;\n",
              "      border-radius: 50%;\n",
              "      cursor: pointer;\n",
              "      display: none;\n",
              "      fill: #1967D2;\n",
              "      height: 32px;\n",
              "      padding: 0 0 0 0;\n",
              "      width: 32px;\n",
              "    }\n",
              "\n",
              "    .colab-df-convert:hover {\n",
              "      background-color: #E2EBFA;\n",
              "      box-shadow: 0px 1px 2px rgba(60, 64, 67, 0.3), 0px 1px 3px 1px rgba(60, 64, 67, 0.15);\n",
              "      fill: #174EA6;\n",
              "    }\n",
              "\n",
              "    [theme=dark] .colab-df-convert {\n",
              "      background-color: #3B4455;\n",
              "      fill: #D2E3FC;\n",
              "    }\n",
              "\n",
              "    [theme=dark] .colab-df-convert:hover {\n",
              "      background-color: #434B5C;\n",
              "      box-shadow: 0px 1px 3px 1px rgba(0, 0, 0, 0.15);\n",
              "      filter: drop-shadow(0px 1px 2px rgba(0, 0, 0, 0.3));\n",
              "      fill: #FFFFFF;\n",
              "    }\n",
              "  </style>\n",
              "\n",
              "      <script>\n",
              "        const buttonEl =\n",
              "          document.querySelector('#df-4efbb58f-374d-441d-80a7-03a86c78980e button.colab-df-convert');\n",
              "        buttonEl.style.display =\n",
              "          google.colab.kernel.accessAllowed ? 'block' : 'none';\n",
              "\n",
              "        async function convertToInteractive(key) {\n",
              "          const element = document.querySelector('#df-4efbb58f-374d-441d-80a7-03a86c78980e');\n",
              "          const dataTable =\n",
              "            await google.colab.kernel.invokeFunction('convertToInteractive',\n",
              "                                                     [key], {});\n",
              "          if (!dataTable) return;\n",
              "\n",
              "          const docLinkHtml = 'Like what you see? Visit the ' +\n",
              "            '<a target=\"_blank\" href=https://colab.research.google.com/notebooks/data_table.ipynb>data table notebook</a>'\n",
              "            + ' to learn more about interactive tables.';\n",
              "          element.innerHTML = '';\n",
              "          dataTable['output_type'] = 'display_data';\n",
              "          await google.colab.output.renderOutput(dataTable, element);\n",
              "          const docLink = document.createElement('div');\n",
              "          docLink.innerHTML = docLinkHtml;\n",
              "          element.appendChild(docLink);\n",
              "        }\n",
              "      </script>\n",
              "    </div>\n",
              "  </div>\n",
              "  "
            ]
          },
          "metadata": {},
          "execution_count": 46
        }
      ]
    },
    {
      "cell_type": "code",
      "source": [
        "correlations.plot(kind=\"bar\", color=\"olive\")"
      ],
      "metadata": {
        "colab": {
          "base_uri": "https://localhost:8080/",
          "height": 553
        },
        "id": "DVpy-bTv-Q2N",
        "outputId": "3cae815c-dc7b-4684-a473-07634e972227"
      },
      "execution_count": null,
      "outputs": [
        {
          "output_type": "execute_result",
          "data": {
            "text/plain": [
              "<matplotlib.axes._subplots.AxesSubplot at 0x7f52830b7d90>"
            ]
          },
          "metadata": {},
          "execution_count": 47
        },
        {
          "output_type": "display_data",
          "data": {
            "text/plain": [
              "<Figure size 576x396 with 1 Axes>"
            ],
            "image/png": "[encoded data removed]"
          },
          "metadata": {}
        }
      ]
    },
    {
      "cell_type": "markdown",
      "source": [
        "Kami melihat bahwa nilai korelasi sedikit kurang di semua variabel. Tidak ada variabel yang memiliki korelasi lebih dari 0,5. Variabel NumberOfTime30-59DaysPastDueNotWorse memiliki korelasi tertinggi dengan variabel dependen"
      ],
      "metadata": {
        "id": "1o5dSdXF-aJn"
      }
    },
    {
      "cell_type": "code",
      "source": [
        "# Korelasi dengan Heatmap\n",
        "corr_ = df.corr()\n",
        "fig= plt.figure(figsize=(15,7))\n",
        "sns.heatmap(corr_, cmap = plt.cm.RdYlBu_r, vmin = -0.9, annot = True, vmax = 0.9)"
      ],
      "metadata": {
        "colab": {
          "base_uri": "https://localhost:8080/",
          "height": 635
        },
        "id": "Lc22uWDW-bV9",
        "outputId": "31bdbf1a-2ce0-4a27-f77a-6b532a839626"
      },
      "execution_count": null,
      "outputs": [
        {
          "output_type": "execute_result",
          "data": {
            "text/plain": [
              "<matplotlib.axes._subplots.AxesSubplot at 0x7f52808d24d0>"
            ]
          },
          "metadata": {},
          "execution_count": 48
        },
        {
          "output_type": "display_data",
          "data": {
            "text/plain": [
              "<Figure size 1080x504 with 2 Axes>"
            ],
            "image/png": "[encoded data removed]"
          },
          "metadata": {}
        }
      ]
    },
    {
      "cell_type": "markdown",
      "source": [
        "Hasil : Kita melihat variabel tersebut; NumberOfTime60-89DaysPastDueNotWorse, NumberOfTimes90DaysLate & NumberOfTime30-59DaysPastDueNotWorse memiliki korelasi yang tinggi di antara mereka sendiri. Untuk mengatasi masalah multikolinieritas, kita dapat menghapus dua variabel dan hanya menyimpan salah satunya. Ini sekali lagi merupakan bagian dari rekayasa fitur.\n",
        "\n",
        "Sekarang, mengapa saya memilih variabel NumberOfTime60-89DaysPastDueNotWorse, NumberOfTimes90DaysLate untuk dihapus sebagai pertama variabel NumberofTime90DaysLate adalah variabel terkait koleksi yang seperti banyak digunakan ketika seseorang tidak mampu membayar kembali pinjaman dan koleksi (tim yang mengumpulkan kembali uang) mencapai pelanggan untuk memaksanya membayar atau tindakan hukum diambil terhadapnya"
      ],
      "metadata": {
        "id": "bigxNdo5-lRj"
      }
    },
    {
      "cell_type": "code",
      "source": [
        "# Kita drop variabel nya\n",
        "df = df.drop(['NumberOfTime60-89DaysPastDueNotWorse', 'NumberOfTimes90DaysLate'], axis=1)"
      ],
      "metadata": {
        "id": "faojMWGM-oKN"
      },
      "execution_count": null,
      "outputs": []
    },
    {
      "cell_type": "markdown",
      "source": [
        "# Modelling"
      ],
      "metadata": {
        "id": "ZLVYptIB-tHo"
      }
    },
    {
      "cell_type": "code",
      "source": [
        "X_train, X_test, y_train, y_test = train_test_split(df.drop(['SeriousDlqin2yrs'], axis=1), df['SeriousDlqin2yrs'], test_size=0.2,random_state = 72)"
      ],
      "metadata": {
        "id": "rGqnL8bg-xH9"
      },
      "execution_count": null,
      "outputs": []
    },
    {
      "cell_type": "markdown",
      "source": [
        "## Oversampling dan Undersampling"
      ],
      "metadata": {
        "id": "k_3hLce_-ub1"
      }
    },
    {
      "cell_type": "code",
      "source": [
        "from imblearn.over_sampling import SMOTE"
      ],
      "metadata": {
        "id": "YLvasOkl_BQO"
      },
      "execution_count": null,
      "outputs": []
    },
    {
      "cell_type": "code",
      "source": [
        "print(\"Before OverSampling, counts of label '1': {}\".format(sum(y_train == 1))) \n",
        "print(\"Before OverSampling, counts of label '0': {} \\n\".format(sum(y_train == 0))) \n",
        "  \n",
        "smt = SMOTE(random_state = 0) \n",
        "X_train_res, y_train_res = oversample.fit_resample(X_train, y_train.ravel()) \n",
        "  \n",
        "print('After OverSampling, the shape of train_X: {}'.format(X_train_res.shape)) \n",
        "print('After OverSampling, the shape of train_y: {} \\n'.format(y_train_res.shape)) \n",
        "  \n",
        "print(\"After OverSampling, counts of label '1': {}\".format(sum(y_train_res == 1))) \n",
        "print(\"After OverSampling, counts of label '0': {}\".format(sum(y_train_res == 0)))"
      ],
      "metadata": {
        "colab": {
          "base_uri": "https://localhost:8080/"
        },
        "id": "-VFTqaHy-0ok",
        "outputId": "75c014f0-cd66-46e5-b811-0e9e20ebc3e4"
      },
      "execution_count": null,
      "outputs": [
        {
          "output_type": "stream",
          "name": "stdout",
          "text": [
            "Before OverSampling, counts of label '1': 8036\n",
            "Before OverSampling, counts of label '0': 111964 \n",
            "\n",
            "After OverSampling, the shape of train_X: (223928, 8)\n",
            "After OverSampling, the shape of train_y: (223928,) \n",
            "\n",
            "After OverSampling, counts of label '1': 111964\n",
            "After OverSampling, counts of label '0': 111964\n"
          ]
        }
      ]
    },
    {
      "cell_type": "markdown",
      "source": [
        "# Fungsi untuk mengukur kecocokan Model\n",
        "\n",
        "Di bawah ini adalah fungsi yang akan kita gunakan untuk mengukur kebugaran model. Fungsi ini berisi metrik seperti Akurasi, Presisi, Recall, dan Skor F1. Itu juga menghitung GINI dan AUC model dan memberi kami Pentingnya Fitur sesuai model masing-masing (hanya jika algoritme Pembelajaran Mesin tertentu memungkinkan untuk melakukannya)"
      ],
      "metadata": {
        "id": "8YILTIDH_6xQ"
      }
    },
    {
      "cell_type": "code",
      "source": [
        "def model_fit_reports(algo,X_,y_,performCV=True,printFeatureImportance=True, cv_folds=5):\n",
        "    \n",
        "    #Accuracy, Precision, Recall, F1 Score\n",
        "    pred = algo.predict(X_)\n",
        "    accu = accuracy_score(y_, pred)\n",
        "    f1_  = f1_score(y_, pred)\n",
        "    rec  = recall_score(y_, pred)\n",
        "    prec = precision_score(y_, pred)\n",
        "\n",
        "    \n",
        "    #GINI & AUC\n",
        "    fpr, tpr, thresholds = roc_curve(y_, pred)\n",
        "    roc_auc = auc(fpr, tpr)\n",
        "    Gini   = 2*roc_auc - 1   \n",
        "    labels  = ['Accuracy','F1 Score', 'Recall', 'Precision', 'Gini', 'AUC']\n",
        "    values  = [accu,f1_,rec,prec,Gini,roc_auc]\n",
        "    \n",
        "    all_    = pd.Series(values,labels)  \n",
        "    print(all_)\n",
        "    all_.plot(kind='bar', title='Model Fit Report')   \n",
        "\n",
        "\n",
        "    if performCV:\n",
        "        cv_score = cross_val_score(algo, X_, y_, cv=cv_folds, scoring='roc_auc')\n",
        "        GINI     = 2 * cv_score -1\n",
        "        print(\"AUC : Mean - %.7g | Std - %.7g | Min - %.7g | Max - %.7g\" % (np.mean(cv_score),np.std(cv_score),np.min(cv_score),np.max(cv_score)))\n",
        "        print(\"GINI : Mean - %.7g | Std - %.7g | Min - %.7g | Max - %.7g\" % (np.mean(GINI),np.std(GINI),np.min(GINI),np.max(GINI)))\n",
        "\n",
        "    cols = list(X_.columns)\n",
        "    if printFeatureImportance:\n",
        "        feat_imp = pd.Series(algo.feature_importances_, cols).sort_values(ascending=False)\n",
        "        feat_imp.plot(kind='bar', title='Feature Importances')\n",
        "        plt.ylabel('Feature Importance Score')    \n",
        "    \n",
        "    return all_"
      ],
      "metadata": {
        "id": "iR5YKZW5AD4s"
      },
      "execution_count": null,
      "outputs": []
    },
    {
      "cell_type": "markdown",
      "source": [
        "Mengembangkan model dengan berbagai Algoritma\n",
        "\n",
        "Kami akan mengembangkan model kami dengan berbagai algoritma ML dan membandingkannya dengan Alogitma Tradisional. Juga, meskipun tampaknya mudah untuk menyetel algo ML ini, tetapi mengoptimalkan dan menyetel alogitma tersebut cukup sulit. Dalam pengklasifikasi, kami harus menggunakan beberapa metrik yang menjadi dasar kami dapat menyesuaikan dan meningkatkan klasifikasi kami. Metrik ini adalah:\n",
        "\n",
        "- Precision\n",
        "- Recall\n",
        "- F1 Score\n",
        "- GINI\n",
        "- AUC\n",
        "\n",
        "Kami juga akan menjalankan CV untuk memeriksa apakah hasil kami konsisten saat diukur pada metrik seperti GINI atau AUC"
      ],
      "metadata": {
        "id": "It8XciPDAO_y"
      }
    },
    {
      "cell_type": "markdown",
      "source": [
        "# Logistic Regresssion"
      ],
      "metadata": {
        "id": "hqPC90htAcec"
      }
    },
    {
      "cell_type": "code",
      "source": [
        "regressor = LogisticRegression(random_state =2, solver='sag', max_iter = 10**2)\n",
        "regressor.fit(X_train_res, y_train_res)"
      ],
      "metadata": {
        "colab": {
          "base_uri": "https://localhost:8080/",
          "height": 74
        },
        "id": "R9zd-AzoAes8",
        "outputId": "0ea01595-a081-4629-fb12-ba1d7d4aad27"
      },
      "execution_count": null,
      "outputs": [
        {
          "output_type": "execute_result",
          "data": {
            "text/plain": [
              "LogisticRegression(random_state=2, solver='sag')"
            ],
            "text/html": [
              "<style>#sk-43f6cd6d-e439-4a2b-bc3c-dd6054c85e44 {color: black;background-color: white;}#sk-43f6cd6d-e439-4a2b-bc3c-dd6054c85e44 pre{padding: 0;}#sk-43f6cd6d-e439-4a2b-bc3c-dd6054c85e44 div.sk-toggleable {background-color: white;}#sk-43f6cd6d-e439-4a2b-bc3c-dd6054c85e44 label.sk-toggleable__label {cursor: pointer;display: block;width: 100%;margin-bottom: 0;padding: 0.3em;box-sizing: border-box;text-align: center;}#sk-43f6cd6d-e439-4a2b-bc3c-dd6054c85e44 label.sk-toggleable__label-arrow:before {content: \"▸\";float: left;margin-right: 0.25em;color: #696969;}#sk-43f6cd6d-e439-4a2b-bc3c-dd6054c85e44 label.sk-toggleable__label-arrow:hover:before {color: black;}#sk-43f6cd6d-e439-4a2b-bc3c-dd6054c85e44 div.sk-estimator:hover label.sk-toggleable__label-arrow:before {color: black;}#sk-43f6cd6d-e439-4a2b-bc3c-dd6054c85e44 div.sk-toggleable__content {max-height: 0;max-width: 0;overflow: hidden;text-align: left;background-color: #f0f8ff;}#sk-43f6cd6d-e439-4a2b-bc3c-dd6054c85e44 div.sk-toggleable__content pre {margin: 0.2em;color: black;border-radius: 0.25em;background-color: #f0f8ff;}#sk-43f6cd6d-e439-4a2b-bc3c-dd6054c85e44 input.sk-toggleable__control:checked~div.sk-toggleable__content {max-height: 200px;max-width: 100%;overflow: auto;}#sk-43f6cd6d-e439-4a2b-bc3c-dd6054c85e44 input.sk-toggleable__control:checked~label.sk-toggleable__label-arrow:before {content: \"▾\";}#sk-43f6cd6d-e439-4a2b-bc3c-dd6054c85e44 div.sk-estimator input.sk-toggleable__control:checked~label.sk-toggleable__label {background-color: #d4ebff;}#sk-43f6cd6d-e439-4a2b-bc3c-dd6054c85e44 div.sk-label input.sk-toggleable__control:checked~label.sk-toggleable__label {background-color: #d4ebff;}#sk-43f6cd6d-e439-4a2b-bc3c-dd6054c85e44 input.sk-hidden--visually {border: 0;clip: rect(1px 1px 1px 1px);clip: rect(1px, 1px, 1px, 1px);height: 1px;margin: -1px;overflow: hidden;padding: 0;position: absolute;width: 1px;}#sk-43f6cd6d-e439-4a2b-bc3c-dd6054c85e44 div.sk-estimator {font-family: monospace;background-color: #f0f8ff;border: 1px dotted black;border-radius: 0.25em;box-sizing: border-box;margin-bottom: 0.5em;}#sk-43f6cd6d-e439-4a2b-bc3c-dd6054c85e44 div.sk-estimator:hover {background-color: #d4ebff;}#sk-43f6cd6d-e439-4a2b-bc3c-dd6054c85e44 div.sk-parallel-item::after {content: \"\";width: 100%;border-bottom: 1px solid gray;flex-grow: 1;}#sk-43f6cd6d-e439-4a2b-bc3c-dd6054c85e44 div.sk-label:hover label.sk-toggleable__label {background-color: #d4ebff;}#sk-43f6cd6d-e439-4a2b-bc3c-dd6054c85e44 div.sk-serial::before {content: \"\";position: absolute;border-left: 1px solid gray;box-sizing: border-box;top: 2em;bottom: 0;left: 50%;}#sk-43f6cd6d-e439-4a2b-bc3c-dd6054c85e44 div.sk-serial {display: flex;flex-direction: column;align-items: center;background-color: white;padding-right: 0.2em;padding-left: 0.2em;}#sk-43f6cd6d-e439-4a2b-bc3c-dd6054c85e44 div.sk-item {z-index: 1;}#sk-43f6cd6d-e439-4a2b-bc3c-dd6054c85e44 div.sk-parallel {display: flex;align-items: stretch;justify-content: center;background-color: white;}#sk-43f6cd6d-e439-4a2b-bc3c-dd6054c85e44 div.sk-parallel::before {content: \"\";position: absolute;border-left: 1px solid gray;box-sizing: border-box;top: 2em;bottom: 0;left: 50%;}#sk-43f6cd6d-e439-4a2b-bc3c-dd6054c85e44 div.sk-parallel-item {display: flex;flex-direction: column;position: relative;background-color: white;}#sk-43f6cd6d-e439-4a2b-bc3c-dd6054c85e44 div.sk-parallel-item:first-child::after {align-self: flex-end;width: 50%;}#sk-43f6cd6d-e439-4a2b-bc3c-dd6054c85e44 div.sk-parallel-item:last-child::after {align-self: flex-start;width: 50%;}#sk-43f6cd6d-e439-4a2b-bc3c-dd6054c85e44 div.sk-parallel-item:only-child::after {width: 0;}#sk-43f6cd6d-e439-4a2b-bc3c-dd6054c85e44 div.sk-dashed-wrapped {border: 1px dashed gray;margin: 0 0.4em 0.5em 0.4em;box-sizing: border-box;padding-bottom: 0.4em;background-color: white;position: relative;}#sk-43f6cd6d-e439-4a2b-bc3c-dd6054c85e44 div.sk-label label {font-family: monospace;font-weight: bold;background-color: white;display: inline-block;line-height: 1.2em;}#sk-43f6cd6d-e439-4a2b-bc3c-dd6054c85e44 div.sk-label-container {position: relative;z-index: 2;text-align: center;}#sk-43f6cd6d-e439-4a2b-bc3c-dd6054c85e44 div.sk-container {/* jupyter's `normalize.less` sets `[hidden] { display: none; }` but bootstrap.min.css set `[hidden] { display: none !important; }` so we also need the `!important` here to be able to override the default hidden behavior on the sphinx rendered scikit-learn.org. See: https://github.com/scikit-learn/scikit-learn/issues/21755 */display: inline-block !important;position: relative;}#sk-43f6cd6d-e439-4a2b-bc3c-dd6054c85e44 div.sk-text-repr-fallback {display: none;}</style><div id=\"sk-43f6cd6d-e439-4a2b-bc3c-dd6054c85e44\" class=\"sk-top-container\"><div class=\"sk-text-repr-fallback\"><pre>LogisticRegression(random_state=2, solver=&#x27;sag&#x27;)</pre><b>Please rerun this cell to show the HTML repr or trust the notebook.</b></div><div class=\"sk-container\" hidden><div class=\"sk-item\"><div class=\"sk-estimator sk-toggleable\"><input class=\"sk-toggleable__control sk-hidden--visually\" id=\"e23a73fb-a2b1-4d11-b11c-c143cf4036f1\" type=\"checkbox\" checked><label for=\"e23a73fb-a2b1-4d11-b11c-c143cf4036f1\" class=\"sk-toggleable__label sk-toggleable__label-arrow\">LogisticRegression</label><div class=\"sk-toggleable__content\"><pre>LogisticRegression(random_state=2, solver=&#x27;sag&#x27;)</pre></div></div></div></div></div>"
            ]
          },
          "metadata": {},
          "execution_count": 64
        }
      ]
    },
    {
      "cell_type": "code",
      "source": [
        "# Hasil Train Data\n",
        "train = model_fit_reports(algo =regressor ,X_ = X_train,y_ = y_train, performCV=True, printFeatureImportance=False, cv_folds=5)"
      ],
      "metadata": {
        "colab": {
          "base_uri": "https://localhost:8080/",
          "height": 549
        },
        "id": "ErNSwwBsAhWW",
        "outputId": "065e8b29-3108-4ed3-9ca2-21afe392d212"
      },
      "execution_count": null,
      "outputs": [
        {
          "output_type": "stream",
          "name": "stdout",
          "text": [
            "Accuracy     0.932992\n",
            "F1 Score     0.000249\n",
            "Recall       0.000124\n",
            "Precision    0.142857\n",
            "Gini         0.000071\n",
            "AUC          0.500035\n",
            "dtype: float64\n",
            "AUC : Mean - 0.575171 | Std - 0.002572142 | Min - 0.5704092 | Max - 0.5775605\n",
            "GINI : Mean - 0.1503419 | Std - 0.005144285 | Min - 0.1408184 | Max - 0.155121\n"
          ]
        },
        {
          "output_type": "display_data",
          "data": {
            "text/plain": [
              "<Figure size 576x396 with 1 Axes>"
            ],
            "image/png": "[encoded data removed]"
          },
          "metadata": {}
        }
      ]
    },
    {
      "cell_type": "code",
      "source": [
        "# Hasil Test Data\n",
        "test  = model_fit_reports(algo =regressor ,X_ = X_test,y_ = y_test, performCV=True, printFeatureImportance=False, cv_folds=5)"
      ],
      "metadata": {
        "colab": {
          "base_uri": "https://localhost:8080/",
          "height": 549
        },
        "id": "L8U9FInUAm-Z",
        "outputId": "7f07da8c-d132-42be-b907-d927de461073"
      },
      "execution_count": null,
      "outputs": [
        {
          "output_type": "stream",
          "name": "stdout",
          "text": [
            "Accuracy     0.933667\n",
            "F1 Score     0.001004\n",
            "Recall       0.000503\n",
            "Precision    0.500000\n",
            "Gini         0.000467\n",
            "AUC          0.500233\n",
            "dtype: float64\n",
            "AUC : Mean - 0.5754241 | Std - 0.009694285 | Min - 0.5609097 | Max - 0.5864381\n",
            "GINI : Mean - 0.1508481 | Std - 0.01938857 | Min - 0.1218194 | Max - 0.1728762\n"
          ]
        },
        {
          "output_type": "display_data",
          "data": {
            "text/plain": [
              "<Figure size 576x396 with 1 Axes>"
            ],
            "image/png": "[encoded data removed]"
          },
          "metadata": {}
        }
      ]
    },
    {
      "cell_type": "markdown",
      "source": [
        "# Random Forest"
      ],
      "metadata": {
        "id": "rau7lRw0Ar_-"
      }
    },
    {
      "cell_type": "code",
      "source": [
        "rfc = RandomForestClassifier(random_state=8, n_estimators=500)\n",
        "rfc.fit(X_train_res, y_train_res)"
      ],
      "metadata": {
        "colab": {
          "base_uri": "https://localhost:8080/",
          "height": 74
        },
        "id": "saBcNm03AwJh",
        "outputId": "78f684f4-0e62-4309-bb81-20dc5cec2311"
      },
      "execution_count": null,
      "outputs": [
        {
          "output_type": "execute_result",
          "data": {
            "text/plain": [
              "RandomForestClassifier(n_estimators=500, random_state=8)"
            ],
            "text/html": [
              "<style>#sk-30d1957d-0b3d-411a-979a-c4a8f2647541 {color: black;background-color: white;}#sk-30d1957d-0b3d-411a-979a-c4a8f2647541 pre{padding: 0;}#sk-30d1957d-0b3d-411a-979a-c4a8f2647541 div.sk-toggleable {background-color: white;}#sk-30d1957d-0b3d-411a-979a-c4a8f2647541 label.sk-toggleable__label {cursor: pointer;display: block;width: 100%;margin-bottom: 0;padding: 0.3em;box-sizing: border-box;text-align: center;}#sk-30d1957d-0b3d-411a-979a-c4a8f2647541 label.sk-toggleable__label-arrow:before {content: \"▸\";float: left;margin-right: 0.25em;color: #696969;}#sk-30d1957d-0b3d-411a-979a-c4a8f2647541 label.sk-toggleable__label-arrow:hover:before {color: black;}#sk-30d1957d-0b3d-411a-979a-c4a8f2647541 div.sk-estimator:hover label.sk-toggleable__label-arrow:before {color: black;}#sk-30d1957d-0b3d-411a-979a-c4a8f2647541 div.sk-toggleable__content {max-height: 0;max-width: 0;overflow: hidden;text-align: left;background-color: #f0f8ff;}#sk-30d1957d-0b3d-411a-979a-c4a8f2647541 div.sk-toggleable__content pre {margin: 0.2em;color: black;border-radius: 0.25em;background-color: #f0f8ff;}#sk-30d1957d-0b3d-411a-979a-c4a8f2647541 input.sk-toggleable__control:checked~div.sk-toggleable__content {max-height: 200px;max-width: 100%;overflow: auto;}#sk-30d1957d-0b3d-411a-979a-c4a8f2647541 input.sk-toggleable__control:checked~label.sk-toggleable__label-arrow:before {content: \"▾\";}#sk-30d1957d-0b3d-411a-979a-c4a8f2647541 div.sk-estimator input.sk-toggleable__control:checked~label.sk-toggleable__label {background-color: #d4ebff;}#sk-30d1957d-0b3d-411a-979a-c4a8f2647541 div.sk-label input.sk-toggleable__control:checked~label.sk-toggleable__label {background-color: #d4ebff;}#sk-30d1957d-0b3d-411a-979a-c4a8f2647541 input.sk-hidden--visually {border: 0;clip: rect(1px 1px 1px 1px);clip: rect(1px, 1px, 1px, 1px);height: 1px;margin: -1px;overflow: hidden;padding: 0;position: absolute;width: 1px;}#sk-30d1957d-0b3d-411a-979a-c4a8f2647541 div.sk-estimator {font-family: monospace;background-color: #f0f8ff;border: 1px dotted black;border-radius: 0.25em;box-sizing: border-box;margin-bottom: 0.5em;}#sk-30d1957d-0b3d-411a-979a-c4a8f2647541 div.sk-estimator:hover {background-color: #d4ebff;}#sk-30d1957d-0b3d-411a-979a-c4a8f2647541 div.sk-parallel-item::after {content: \"\";width: 100%;border-bottom: 1px solid gray;flex-grow: 1;}#sk-30d1957d-0b3d-411a-979a-c4a8f2647541 div.sk-label:hover label.sk-toggleable__label {background-color: #d4ebff;}#sk-30d1957d-0b3d-411a-979a-c4a8f2647541 div.sk-serial::before {content: \"\";position: absolute;border-left: 1px solid gray;box-sizing: border-box;top: 2em;bottom: 0;left: 50%;}#sk-30d1957d-0b3d-411a-979a-c4a8f2647541 div.sk-serial {display: flex;flex-direction: column;align-items: center;background-color: white;padding-right: 0.2em;padding-left: 0.2em;}#sk-30d1957d-0b3d-411a-979a-c4a8f2647541 div.sk-item {z-index: 1;}#sk-30d1957d-0b3d-411a-979a-c4a8f2647541 div.sk-parallel {display: flex;align-items: stretch;justify-content: center;background-color: white;}#sk-30d1957d-0b3d-411a-979a-c4a8f2647541 div.sk-parallel::before {content: \"\";position: absolute;border-left: 1px solid gray;box-sizing: border-box;top: 2em;bottom: 0;left: 50%;}#sk-30d1957d-0b3d-411a-979a-c4a8f2647541 div.sk-parallel-item {display: flex;flex-direction: column;position: relative;background-color: white;}#sk-30d1957d-0b3d-411a-979a-c4a8f2647541 div.sk-parallel-item:first-child::after {align-self: flex-end;width: 50%;}#sk-30d1957d-0b3d-411a-979a-c4a8f2647541 div.sk-parallel-item:last-child::after {align-self: flex-start;width: 50%;}#sk-30d1957d-0b3d-411a-979a-c4a8f2647541 div.sk-parallel-item:only-child::after {width: 0;}#sk-30d1957d-0b3d-411a-979a-c4a8f2647541 div.sk-dashed-wrapped {border: 1px dashed gray;margin: 0 0.4em 0.5em 0.4em;box-sizing: border-box;padding-bottom: 0.4em;background-color: white;position: relative;}#sk-30d1957d-0b3d-411a-979a-c4a8f2647541 div.sk-label label {font-family: monospace;font-weight: bold;background-color: white;display: inline-block;line-height: 1.2em;}#sk-30d1957d-0b3d-411a-979a-c4a8f2647541 div.sk-label-container {position: relative;z-index: 2;text-align: center;}#sk-30d1957d-0b3d-411a-979a-c4a8f2647541 div.sk-container {/* jupyter's `normalize.less` sets `[hidden] { display: none; }` but bootstrap.min.css set `[hidden] { display: none !important; }` so we also need the `!important` here to be able to override the default hidden behavior on the sphinx rendered scikit-learn.org. See: https://github.com/scikit-learn/scikit-learn/issues/21755 */display: inline-block !important;position: relative;}#sk-30d1957d-0b3d-411a-979a-c4a8f2647541 div.sk-text-repr-fallback {display: none;}</style><div id=\"sk-30d1957d-0b3d-411a-979a-c4a8f2647541\" class=\"sk-top-container\"><div class=\"sk-text-repr-fallback\"><pre>RandomForestClassifier(n_estimators=500, random_state=8)</pre><b>Please rerun this cell to show the HTML repr or trust the notebook.</b></div><div class=\"sk-container\" hidden><div class=\"sk-item\"><div class=\"sk-estimator sk-toggleable\"><input class=\"sk-toggleable__control sk-hidden--visually\" id=\"4df09642-5d3a-4341-bb3c-1aa548c0a59c\" type=\"checkbox\" checked><label for=\"4df09642-5d3a-4341-bb3c-1aa548c0a59c\" class=\"sk-toggleable__label sk-toggleable__label-arrow\">RandomForestClassifier</label><div class=\"sk-toggleable__content\"><pre>RandomForestClassifier(n_estimators=500, random_state=8)</pre></div></div></div></div></div>"
            ]
          },
          "metadata": {},
          "execution_count": 67
        }
      ]
    },
    {
      "cell_type": "code",
      "source": [
        "# Hasil Train Data\n",
        "train = model_fit_reports(algo =rfc ,X_ = X_train,y_ = y_train, performCV=True, printFeatureImportance=True, cv_folds=5)"
      ],
      "metadata": {
        "colab": {
          "base_uri": "https://localhost:8080/",
          "height": 707
        },
        "id": "ff3ki5npA2gH",
        "outputId": "9a45e570-4195-439e-995e-018bed84232f"
      },
      "execution_count": null,
      "outputs": [
        {
          "output_type": "stream",
          "name": "stdout",
          "text": [
            "Accuracy     0.999083\n",
            "F1 Score     0.993191\n",
            "Recall       0.998382\n",
            "Precision    0.988054\n",
            "Gini         0.997516\n",
            "AUC          0.998758\n",
            "dtype: float64\n",
            "AUC : Mean - 0.8207226 | Std - 0.006535456 | Min - 0.8088928 | Max - 0.828322\n",
            "GINI : Mean - 0.6414452 | Std - 0.01307091 | Min - 0.6177855 | Max - 0.6566441\n"
          ]
        },
        {
          "output_type": "display_data",
          "data": {
            "text/plain": [
              "<Figure size 576x396 with 1 Axes>"
            ],
            "image/png": "[encoded data removed]"
          },
          "metadata": {}
        }
      ]
    },
    {
      "cell_type": "code",
      "source": [
        "# Hasil Test Data\n",
        "test = model_fit_reports(algo =rfc ,X_ = X_test,y_ = y_test, performCV=True, printFeatureImportance=True, cv_folds=5)"
      ],
      "metadata": {
        "colab": {
          "base_uri": "https://localhost:8080/",
          "height": 707
        },
        "id": "wZrXLjKdA7Nj",
        "outputId": "3352b064-6819-442e-cd8d-e62186b544a0"
      },
      "execution_count": null,
      "outputs": [
        {
          "output_type": "stream",
          "name": "stdout",
          "text": [
            "Accuracy     0.881833\n",
            "F1 Score     0.301753\n",
            "Recall       0.384925\n",
            "Precision    0.248137\n",
            "Gini         0.302061\n",
            "AUC          0.651031\n",
            "dtype: float64\n",
            "AUC : Mean - 0.8099214 | Std - 0.005295745 | Min - 0.8044345 | Max - 0.8176102\n",
            "GINI : Mean - 0.6198429 | Std - 0.01059149 | Min - 0.6088691 | Max - 0.6352205\n"
          ]
        },
        {
          "output_type": "display_data",
          "data": {
            "text/plain": [
              "<Figure size 576x396 with 1 Axes>"
            ],
            "image/png": "[encoded data removed]"
          },
          "metadata": {}
        }
      ]
    },
    {
      "cell_type": "markdown",
      "source": [
        "# Gradient Boosting"
      ],
      "metadata": {
        "id": "rs3GYOlkBBIH"
      }
    },
    {
      "cell_type": "code",
      "source": [
        "gbc = GradientBoostingClassifier()\n",
        "gbc.fit(X_train_res, y_train_res)"
      ],
      "metadata": {
        "colab": {
          "base_uri": "https://localhost:8080/",
          "height": 74
        },
        "id": "zs4KB6GnBC4j",
        "outputId": "8cfa7361-db7d-4986-85f5-e9e1a5d74ff9"
      },
      "execution_count": null,
      "outputs": [
        {
          "output_type": "execute_result",
          "data": {
            "text/plain": [
              "GradientBoostingClassifier()"
            ],
            "text/html": [
              "<style>#sk-6fd2035f-7cc1-48cb-94e6-3f0f8b3aae65 {color: black;background-color: white;}#sk-6fd2035f-7cc1-48cb-94e6-3f0f8b3aae65 pre{padding: 0;}#sk-6fd2035f-7cc1-48cb-94e6-3f0f8b3aae65 div.sk-toggleable {background-color: white;}#sk-6fd2035f-7cc1-48cb-94e6-3f0f8b3aae65 label.sk-toggleable__label {cursor: pointer;display: block;width: 100%;margin-bottom: 0;padding: 0.3em;box-sizing: border-box;text-align: center;}#sk-6fd2035f-7cc1-48cb-94e6-3f0f8b3aae65 label.sk-toggleable__label-arrow:before {content: \"▸\";float: left;margin-right: 0.25em;color: #696969;}#sk-6fd2035f-7cc1-48cb-94e6-3f0f8b3aae65 label.sk-toggleable__label-arrow:hover:before {color: black;}#sk-6fd2035f-7cc1-48cb-94e6-3f0f8b3aae65 div.sk-estimator:hover label.sk-toggleable__label-arrow:before {color: black;}#sk-6fd2035f-7cc1-48cb-94e6-3f0f8b3aae65 div.sk-toggleable__content {max-height: 0;max-width: 0;overflow: hidden;text-align: left;background-color: #f0f8ff;}#sk-6fd2035f-7cc1-48cb-94e6-3f0f8b3aae65 div.sk-toggleable__content pre {margin: 0.2em;color: black;border-radius: 0.25em;background-color: #f0f8ff;}#sk-6fd2035f-7cc1-48cb-94e6-3f0f8b3aae65 input.sk-toggleable__control:checked~div.sk-toggleable__content {max-height: 200px;max-width: 100%;overflow: auto;}#sk-6fd2035f-7cc1-48cb-94e6-3f0f8b3aae65 input.sk-toggleable__control:checked~label.sk-toggleable__label-arrow:before {content: \"▾\";}#sk-6fd2035f-7cc1-48cb-94e6-3f0f8b3aae65 div.sk-estimator input.sk-toggleable__control:checked~label.sk-toggleable__label {background-color: #d4ebff;}#sk-6fd2035f-7cc1-48cb-94e6-3f0f8b3aae65 div.sk-label input.sk-toggleable__control:checked~label.sk-toggleable__label {background-color: #d4ebff;}#sk-6fd2035f-7cc1-48cb-94e6-3f0f8b3aae65 input.sk-hidden--visually {border: 0;clip: rect(1px 1px 1px 1px);clip: rect(1px, 1px, 1px, 1px);height: 1px;margin: -1px;overflow: hidden;padding: 0;position: absolute;width: 1px;}#sk-6fd2035f-7cc1-48cb-94e6-3f0f8b3aae65 div.sk-estimator {font-family: monospace;background-color: #f0f8ff;border: 1px dotted black;border-radius: 0.25em;box-sizing: border-box;margin-bottom: 0.5em;}#sk-6fd2035f-7cc1-48cb-94e6-3f0f8b3aae65 div.sk-estimator:hover {background-color: #d4ebff;}#sk-6fd2035f-7cc1-48cb-94e6-3f0f8b3aae65 div.sk-parallel-item::after {content: \"\";width: 100%;border-bottom: 1px solid gray;flex-grow: 1;}#sk-6fd2035f-7cc1-48cb-94e6-3f0f8b3aae65 div.sk-label:hover label.sk-toggleable__label {background-color: #d4ebff;}#sk-6fd2035f-7cc1-48cb-94e6-3f0f8b3aae65 div.sk-serial::before {content: \"\";position: absolute;border-left: 1px solid gray;box-sizing: border-box;top: 2em;bottom: 0;left: 50%;}#sk-6fd2035f-7cc1-48cb-94e6-3f0f8b3aae65 div.sk-serial {display: flex;flex-direction: column;align-items: center;background-color: white;padding-right: 0.2em;padding-left: 0.2em;}#sk-6fd2035f-7cc1-48cb-94e6-3f0f8b3aae65 div.sk-item {z-index: 1;}#sk-6fd2035f-7cc1-48cb-94e6-3f0f8b3aae65 div.sk-parallel {display: flex;align-items: stretch;justify-content: center;background-color: white;}#sk-6fd2035f-7cc1-48cb-94e6-3f0f8b3aae65 div.sk-parallel::before {content: \"\";position: absolute;border-left: 1px solid gray;box-sizing: border-box;top: 2em;bottom: 0;left: 50%;}#sk-6fd2035f-7cc1-48cb-94e6-3f0f8b3aae65 div.sk-parallel-item {display: flex;flex-direction: column;position: relative;background-color: white;}#sk-6fd2035f-7cc1-48cb-94e6-3f0f8b3aae65 div.sk-parallel-item:first-child::after {align-self: flex-end;width: 50%;}#sk-6fd2035f-7cc1-48cb-94e6-3f0f8b3aae65 div.sk-parallel-item:last-child::after {align-self: flex-start;width: 50%;}#sk-6fd2035f-7cc1-48cb-94e6-3f0f8b3aae65 div.sk-parallel-item:only-child::after {width: 0;}#sk-6fd2035f-7cc1-48cb-94e6-3f0f8b3aae65 div.sk-dashed-wrapped {border: 1px dashed gray;margin: 0 0.4em 0.5em 0.4em;box-sizing: border-box;padding-bottom: 0.4em;background-color: white;position: relative;}#sk-6fd2035f-7cc1-48cb-94e6-3f0f8b3aae65 div.sk-label label {font-family: monospace;font-weight: bold;background-color: white;display: inline-block;line-height: 1.2em;}#sk-6fd2035f-7cc1-48cb-94e6-3f0f8b3aae65 div.sk-label-container {position: relative;z-index: 2;text-align: center;}#sk-6fd2035f-7cc1-48cb-94e6-3f0f8b3aae65 div.sk-container {/* jupyter's `normalize.less` sets `[hidden] { display: none; }` but bootstrap.min.css set `[hidden] { display: none !important; }` so we also need the `!important` here to be able to override the default hidden behavior on the sphinx rendered scikit-learn.org. See: https://github.com/scikit-learn/scikit-learn/issues/21755 */display: inline-block !important;position: relative;}#sk-6fd2035f-7cc1-48cb-94e6-3f0f8b3aae65 div.sk-text-repr-fallback {display: none;}</style><div id=\"sk-6fd2035f-7cc1-48cb-94e6-3f0f8b3aae65\" class=\"sk-top-container\"><div class=\"sk-text-repr-fallback\"><pre>GradientBoostingClassifier()</pre><b>Please rerun this cell to show the HTML repr or trust the notebook.</b></div><div class=\"sk-container\" hidden><div class=\"sk-item\"><div class=\"sk-estimator sk-toggleable\"><input class=\"sk-toggleable__control sk-hidden--visually\" id=\"ac2b7412-5815-426a-8b0a-9d6a5c6d0b52\" type=\"checkbox\" checked><label for=\"ac2b7412-5815-426a-8b0a-9d6a5c6d0b52\" class=\"sk-toggleable__label sk-toggleable__label-arrow\">GradientBoostingClassifier</label><div class=\"sk-toggleable__content\"><pre>GradientBoostingClassifier()</pre></div></div></div></div></div>"
            ]
          },
          "metadata": {},
          "execution_count": 70
        }
      ]
    },
    {
      "cell_type": "code",
      "source": [
        "# Hasil Train Data\n",
        "train = model_fit_reports(algo =gbc ,X_ = X_train,y_ = y_train, performCV=True, printFeatureImportance=False, cv_folds=5)"
      ],
      "metadata": {
        "colab": {
          "base_uri": "https://localhost:8080/",
          "height": 549
        },
        "id": "tIFKk27jBEu7",
        "outputId": "d64ea077-9b5b-4ce0-d304-ad4b3393adc5"
      },
      "execution_count": null,
      "outputs": [
        {
          "output_type": "stream",
          "name": "stdout",
          "text": [
            "Accuracy     0.850300\n",
            "F1 Score     0.317788\n",
            "Recall       0.520657\n",
            "Precision    0.228684\n",
            "Gini         0.394617\n",
            "AUC          0.697308\n",
            "dtype: float64\n",
            "AUC : Mean - 0.8383914 | Std - 0.004888249 | Min - 0.8296787 | Max - 0.8430296\n",
            "GINI : Mean - 0.6767828 | Std - 0.009776499 | Min - 0.6593574 | Max - 0.6860592\n"
          ]
        },
        {
          "output_type": "display_data",
          "data": {
            "text/plain": [
              "<Figure size 576x396 with 1 Axes>"
            ],
            "image/png": "[encoded data removed]"
          },
          "metadata": {}
        }
      ]
    },
    {
      "cell_type": "code",
      "source": [
        "# Hasil Test Data\n",
        "test = model_fit_reports(algo =gbc ,X_ = X_test,y_ = y_test, performCV=True, printFeatureImportance=False, cv_folds=5)"
      ],
      "metadata": {
        "colab": {
          "base_uri": "https://localhost:8080/",
          "height": 549
        },
        "id": "kQyJVWz_BIlp",
        "outputId": "7362b985-6770-4d79-c183-7faea8c0c0ed"
      },
      "execution_count": null,
      "outputs": [
        {
          "output_type": "stream",
          "name": "stdout",
          "text": [
            "Accuracy     0.848767\n",
            "F1 Score     0.311010\n",
            "Recall       0.514573\n",
            "Precision    0.222851\n",
            "Gini         0.387083\n",
            "AUC          0.693541\n",
            "dtype: float64\n",
            "AUC : Mean - 0.8290124 | Std - 0.007006686 | Min - 0.8201903 | Max - 0.8397376\n",
            "GINI : Mean - 0.6580248 | Std - 0.01401337 | Min - 0.6403806 | Max - 0.6794751\n"
          ]
        },
        {
          "output_type": "display_data",
          "data": {
            "text/plain": [
              "<Figure size 576x396 with 1 Axes>"
            ],
            "image/png": "[encoded data removed]"
          },
          "metadata": {}
        }
      ]
    },
    {
      "cell_type": "markdown",
      "source": [
        "Seperti yang kita lihat GINI data pengujian kami bahkan kurang dari 50%, kami harus menyesuaikannya sehingga kami mencapai GINI yang jauh lebih baik pada data Pengujian kami\n",
        "Menyetel parameter Peningkat Gradien\n",
        "\n",
        "Kami akan menyetel berbagai hyperparameter Gradient Boosting untuk meningkatkan hasil pemotongan pertama kami. \n",
        "\n",
        "- n_estimators : Jumlah pohon sekuensial yang akan dimodelkan. Meskipun GBM cukup kuat pada jumlah pohon yang lebih tinggi tetapi masih bisa overfit pada suatu titik. Oleh karena itu, ini harus disetel menggunakan CV untuk tingkat pembelajaran tertentu.\n",
        "\n",
        "- max_depth : Ini adalah jumlah kedalaman maksimum pohon. Digunakan untuk mengontrol over-fitting karena kedalaman yang lebih tinggi akan memungkinkan model untuk mempelajari hubungan yang sangat spesifik untuk sampel tertentu\n",
        "\n",
        "- min_samples_split : Ini adalah jumlah minimum sampel (atau pengamatan) yang diperlukan dalam sebuah simpul untuk dipertimbangkan untuk dipecah.\n",
        "\n",
        "- min_samples_leaf : Ini adalah sampel minimum (baris atau pengamatan) yang diperlukan dalam simpul terminal atau daun\n",
        "\n",
        "- max_features : Jumlah fitur yang harus dipertimbangkan saat mencari pemisahan terbaik. Pemilihan acak dilakukan ketika kami memperbaiki jumlah fitur untuk menghindari bias. Nilai yang lebih tinggi dapat menyebabkan over-fitting\n",
        "\n",
        "- subsampel : Fraksi pengamatan yang akan dipilih untuk setiap pohon. Pemilihan dilakukan dengan cara random sampling."
      ],
      "metadata": {
        "id": "Mh7vwHDWBSTy"
      }
    },
    {
      "cell_type": "markdown",
      "source": [
        "# Tuning n-estimators"
      ],
      "metadata": {
        "id": "LEoErxnnBePg"
      }
    },
    {
      "cell_type": "code",
      "source": [
        "param_test1 = {'n_estimators':range(20,81,10)}\n",
        "gsearch1    = GridSearchCV(estimator = GradientBoostingClassifier(learning_rate=0.1, \n",
        "                                                               min_samples_split=500,\n",
        "                                                               min_samples_leaf=50,\n",
        "                                                               max_depth=8,max_features='sqrt',subsample=0.8,random_state=10), \n",
        "                                                               param_grid = param_test1, scoring='roc_auc',\n",
        "                                                               n_jobs=4, cv=5)\n",
        "\n",
        "gsearch1.fit(X_train_res,y_train_res)"
      ],
      "metadata": {
        "colab": {
          "base_uri": "https://localhost:8080/",
          "height": 92
        },
        "id": "TAz8oGfcBUMF",
        "outputId": "1e6c9f22-da9a-4a71-abc0-45091482243e"
      },
      "execution_count": null,
      "outputs": [
        {
          "output_type": "execute_result",
          "data": {
            "text/plain": [
              "GridSearchCV(cv=5,\n",
              "             estimator=GradientBoostingClassifier(max_depth=8,\n",
              "                                                  max_features='sqrt',\n",
              "                                                  min_samples_leaf=50,\n",
              "                                                  min_samples_split=500,\n",
              "                                                  random_state=10,\n",
              "                                                  subsample=0.8),\n",
              "             n_jobs=4, param_grid={'n_estimators': range(20, 81, 10)},\n",
              "             scoring='roc_auc')"
            ],
            "text/html": [
              "<style>#sk-9c839bb7-4330-41ae-97f6-b674b029124c {color: black;background-color: white;}#sk-9c839bb7-4330-41ae-97f6-b674b029124c pre{padding: 0;}#sk-9c839bb7-4330-41ae-97f6-b674b029124c div.sk-toggleable {background-color: white;}#sk-9c839bb7-4330-41ae-97f6-b674b029124c label.sk-toggleable__label {cursor: pointer;display: block;width: 100%;margin-bottom: 0;padding: 0.3em;box-sizing: border-box;text-align: center;}#sk-9c839bb7-4330-41ae-97f6-b674b029124c label.sk-toggleable__label-arrow:before {content: \"▸\";float: left;margin-right: 0.25em;color: #696969;}#sk-9c839bb7-4330-41ae-97f6-b674b029124c label.sk-toggleable__label-arrow:hover:before {color: black;}#sk-9c839bb7-4330-41ae-97f6-b674b029124c div.sk-estimator:hover label.sk-toggleable__label-arrow:before {color: black;}#sk-9c839bb7-4330-41ae-97f6-b674b029124c div.sk-toggleable__content {max-height: 0;max-width: 0;overflow: hidden;text-align: left;background-color: #f0f8ff;}#sk-9c839bb7-4330-41ae-97f6-b674b029124c div.sk-toggleable__content pre {margin: 0.2em;color: black;border-radius: 0.25em;background-color: #f0f8ff;}#sk-9c839bb7-4330-41ae-97f6-b674b029124c input.sk-toggleable__control:checked~div.sk-toggleable__content {max-height: 200px;max-width: 100%;overflow: auto;}#sk-9c839bb7-4330-41ae-97f6-b674b029124c input.sk-toggleable__control:checked~label.sk-toggleable__label-arrow:before {content: \"▾\";}#sk-9c839bb7-4330-41ae-97f6-b674b029124c div.sk-estimator input.sk-toggleable__control:checked~label.sk-toggleable__label {background-color: #d4ebff;}#sk-9c839bb7-4330-41ae-97f6-b674b029124c div.sk-label input.sk-toggleable__control:checked~label.sk-toggleable__label {background-color: #d4ebff;}#sk-9c839bb7-4330-41ae-97f6-b674b029124c input.sk-hidden--visually {border: 0;clip: rect(1px 1px 1px 1px);clip: rect(1px, 1px, 1px, 1px);height: 1px;margin: -1px;overflow: hidden;padding: 0;position: absolute;width: 1px;}#sk-9c839bb7-4330-41ae-97f6-b674b029124c div.sk-estimator {font-family: monospace;background-color: #f0f8ff;border: 1px dotted black;border-radius: 0.25em;box-sizing: border-box;margin-bottom: 0.5em;}#sk-9c839bb7-4330-41ae-97f6-b674b029124c div.sk-estimator:hover {background-color: #d4ebff;}#sk-9c839bb7-4330-41ae-97f6-b674b029124c div.sk-parallel-item::after {content: \"\";width: 100%;border-bottom: 1px solid gray;flex-grow: 1;}#sk-9c839bb7-4330-41ae-97f6-b674b029124c div.sk-label:hover label.sk-toggleable__label {background-color: #d4ebff;}#sk-9c839bb7-4330-41ae-97f6-b674b029124c div.sk-serial::before {content: \"\";position: absolute;border-left: 1px solid gray;box-sizing: border-box;top: 2em;bottom: 0;left: 50%;}#sk-9c839bb7-4330-41ae-97f6-b674b029124c div.sk-serial {display: flex;flex-direction: column;align-items: center;background-color: white;padding-right: 0.2em;padding-left: 0.2em;}#sk-9c839bb7-4330-41ae-97f6-b674b029124c div.sk-item {z-index: 1;}#sk-9c839bb7-4330-41ae-97f6-b674b029124c div.sk-parallel {display: flex;align-items: stretch;justify-content: center;background-color: white;}#sk-9c839bb7-4330-41ae-97f6-b674b029124c div.sk-parallel::before {content: \"\";position: absolute;border-left: 1px solid gray;box-sizing: border-box;top: 2em;bottom: 0;left: 50%;}#sk-9c839bb7-4330-41ae-97f6-b674b029124c div.sk-parallel-item {display: flex;flex-direction: column;position: relative;background-color: white;}#sk-9c839bb7-4330-41ae-97f6-b674b029124c div.sk-parallel-item:first-child::after {align-self: flex-end;width: 50%;}#sk-9c839bb7-4330-41ae-97f6-b674b029124c div.sk-parallel-item:last-child::after {align-self: flex-start;width: 50%;}#sk-9c839bb7-4330-41ae-97f6-b674b029124c div.sk-parallel-item:only-child::after {width: 0;}#sk-9c839bb7-4330-41ae-97f6-b674b029124c div.sk-dashed-wrapped {border: 1px dashed gray;margin: 0 0.4em 0.5em 0.4em;box-sizing: border-box;padding-bottom: 0.4em;background-color: white;position: relative;}#sk-9c839bb7-4330-41ae-97f6-b674b029124c div.sk-label label {font-family: monospace;font-weight: bold;background-color: white;display: inline-block;line-height: 1.2em;}#sk-9c839bb7-4330-41ae-97f6-b674b029124c div.sk-label-container {position: relative;z-index: 2;text-align: center;}#sk-9c839bb7-4330-41ae-97f6-b674b029124c div.sk-container {/* jupyter's `normalize.less` sets `[hidden] { display: none; }` but bootstrap.min.css set `[hidden] { display: none !important; }` so we also need the `!important` here to be able to override the default hidden behavior on the sphinx rendered scikit-learn.org. See: https://github.com/scikit-learn/scikit-learn/issues/21755 */display: inline-block !important;position: relative;}#sk-9c839bb7-4330-41ae-97f6-b674b029124c div.sk-text-repr-fallback {display: none;}</style><div id=\"sk-9c839bb7-4330-41ae-97f6-b674b029124c\" class=\"sk-top-container\"><div class=\"sk-text-repr-fallback\"><pre>GridSearchCV(cv=5,\n",
              "             estimator=GradientBoostingClassifier(max_depth=8,\n",
              "                                                  max_features=&#x27;sqrt&#x27;,\n",
              "                                                  min_samples_leaf=50,\n",
              "                                                  min_samples_split=500,\n",
              "                                                  random_state=10,\n",
              "                                                  subsample=0.8),\n",
              "             n_jobs=4, param_grid={&#x27;n_estimators&#x27;: range(20, 81, 10)},\n",
              "             scoring=&#x27;roc_auc&#x27;)</pre><b>Please rerun this cell to show the HTML repr or trust the notebook.</b></div><div class=\"sk-container\" hidden><div class=\"sk-item sk-dashed-wrapped\"><div class=\"sk-label-container\"><div class=\"sk-label sk-toggleable\"><input class=\"sk-toggleable__control sk-hidden--visually\" id=\"4144dcbc-4633-486f-bd75-de7a66125f42\" type=\"checkbox\" ><label for=\"4144dcbc-4633-486f-bd75-de7a66125f42\" class=\"sk-toggleable__label sk-toggleable__label-arrow\">GridSearchCV</label><div class=\"sk-toggleable__content\"><pre>GridSearchCV(cv=5,\n",
              "             estimator=GradientBoostingClassifier(max_depth=8,\n",
              "                                                  max_features=&#x27;sqrt&#x27;,\n",
              "                                                  min_samples_leaf=50,\n",
              "                                                  min_samples_split=500,\n",
              "                                                  random_state=10,\n",
              "                                                  subsample=0.8),\n",
              "             n_jobs=4, param_grid={&#x27;n_estimators&#x27;: range(20, 81, 10)},\n",
              "             scoring=&#x27;roc_auc&#x27;)</pre></div></div></div><div class=\"sk-parallel\"><div class=\"sk-parallel-item\"><div class=\"sk-item\"><div class=\"sk-serial\"><div class=\"sk-item\"><div class=\"sk-estimator sk-toggleable\"><input class=\"sk-toggleable__control sk-hidden--visually\" id=\"ba16756e-a13d-47f5-8c14-53bf3bc14218\" type=\"checkbox\" ><label for=\"ba16756e-a13d-47f5-8c14-53bf3bc14218\" class=\"sk-toggleable__label sk-toggleable__label-arrow\">GradientBoostingClassifier</label><div class=\"sk-toggleable__content\"><pre>GradientBoostingClassifier(max_depth=8, max_features=&#x27;sqrt&#x27;,\n",
              "                           min_samples_leaf=50, min_samples_split=500,\n",
              "                           random_state=10, subsample=0.8)</pre></div></div></div></div></div></div></div></div></div></div>"
            ]
          },
          "metadata": {},
          "execution_count": 77
        }
      ]
    },
    {
      "cell_type": "code",
      "source": [
        "gsearch1.best_params_, gsearch1.best_score_"
      ],
      "metadata": {
        "colab": {
          "base_uri": "https://localhost:8080/"
        },
        "id": "s5sQ1l1zBj_T",
        "outputId": "a1860a71-97f7-4d72-94e1-db3dc8878d5f"
      },
      "execution_count": null,
      "outputs": [
        {
          "output_type": "execute_result",
          "data": {
            "text/plain": [
              "({'n_estimators': 80}, 0.9468096665177905)"
            ]
          },
          "metadata": {},
          "execution_count": 78
        }
      ]
    },
    {
      "cell_type": "markdown",
      "source": [
        "# Tuning Max_depth & min_samples_split"
      ],
      "metadata": {
        "id": "E3RtQSmnBnc4"
      }
    },
    {
      "cell_type": "code",
      "source": [
        "param_test2 = {'max_depth':range(5,16,2), 'min_samples_split':range(200,400,600)}\n",
        "gsearch2 = GridSearchCV(estimator = GradientBoostingClassifier(learning_rate=0.1, n_estimators=80, max_features='sqrt', subsample=0.8, random_state=10), \n",
        "param_grid = param_test2, scoring='roc_auc',n_jobs=4, cv=5)\n",
        "\n",
        "gsearch2.fit(X_train_res,y_train_res)"
      ],
      "metadata": {
        "colab": {
          "base_uri": "https://localhost:8080/",
          "height": 92
        },
        "id": "_cbh0v_-Bp37",
        "outputId": "5e7aef74-5770-4014-eec6-e5ba76ef535b"
      },
      "execution_count": null,
      "outputs": [
        {
          "output_type": "execute_result",
          "data": {
            "text/plain": [
              "GridSearchCV(cv=5,\n",
              "             estimator=GradientBoostingClassifier(max_features='sqrt',\n",
              "                                                  n_estimators=80,\n",
              "                                                  random_state=10,\n",
              "                                                  subsample=0.8),\n",
              "             n_jobs=4,\n",
              "             param_grid={'max_depth': range(5, 16, 2),\n",
              "                         'min_samples_split': range(200, 400, 600)},\n",
              "             scoring='roc_auc')"
            ],
            "text/html": [
              "<style>#sk-7d80a2e3-9729-4ad1-ba47-84296386a7a6 {color: black;background-color: white;}#sk-7d80a2e3-9729-4ad1-ba47-84296386a7a6 pre{padding: 0;}#sk-7d80a2e3-9729-4ad1-ba47-84296386a7a6 div.sk-toggleable {background-color: white;}#sk-7d80a2e3-9729-4ad1-ba47-84296386a7a6 label.sk-toggleable__label {cursor: pointer;display: block;width: 100%;margin-bottom: 0;padding: 0.3em;box-sizing: border-box;text-align: center;}#sk-7d80a2e3-9729-4ad1-ba47-84296386a7a6 label.sk-toggleable__label-arrow:before {content: \"▸\";float: left;margin-right: 0.25em;color: #696969;}#sk-7d80a2e3-9729-4ad1-ba47-84296386a7a6 label.sk-toggleable__label-arrow:hover:before {color: black;}#sk-7d80a2e3-9729-4ad1-ba47-84296386a7a6 div.sk-estimator:hover label.sk-toggleable__label-arrow:before {color: black;}#sk-7d80a2e3-9729-4ad1-ba47-84296386a7a6 div.sk-toggleable__content {max-height: 0;max-width: 0;overflow: hidden;text-align: left;background-color: #f0f8ff;}#sk-7d80a2e3-9729-4ad1-ba47-84296386a7a6 div.sk-toggleable__content pre {margin: 0.2em;color: black;border-radius: 0.25em;background-color: #f0f8ff;}#sk-7d80a2e3-9729-4ad1-ba47-84296386a7a6 input.sk-toggleable__control:checked~div.sk-toggleable__content {max-height: 200px;max-width: 100%;overflow: auto;}#sk-7d80a2e3-9729-4ad1-ba47-84296386a7a6 input.sk-toggleable__control:checked~label.sk-toggleable__label-arrow:before {content: \"▾\";}#sk-7d80a2e3-9729-4ad1-ba47-84296386a7a6 div.sk-estimator input.sk-toggleable__control:checked~label.sk-toggleable__label {background-color: #d4ebff;}#sk-7d80a2e3-9729-4ad1-ba47-84296386a7a6 div.sk-label input.sk-toggleable__control:checked~label.sk-toggleable__label {background-color: #d4ebff;}#sk-7d80a2e3-9729-4ad1-ba47-84296386a7a6 input.sk-hidden--visually {border: 0;clip: rect(1px 1px 1px 1px);clip: rect(1px, 1px, 1px, 1px);height: 1px;margin: -1px;overflow: hidden;padding: 0;position: absolute;width: 1px;}#sk-7d80a2e3-9729-4ad1-ba47-84296386a7a6 div.sk-estimator {font-family: monospace;background-color: #f0f8ff;border: 1px dotted black;border-radius: 0.25em;box-sizing: border-box;margin-bottom: 0.5em;}#sk-7d80a2e3-9729-4ad1-ba47-84296386a7a6 div.sk-estimator:hover {background-color: #d4ebff;}#sk-7d80a2e3-9729-4ad1-ba47-84296386a7a6 div.sk-parallel-item::after {content: \"\";width: 100%;border-bottom: 1px solid gray;flex-grow: 1;}#sk-7d80a2e3-9729-4ad1-ba47-84296386a7a6 div.sk-label:hover label.sk-toggleable__label {background-color: #d4ebff;}#sk-7d80a2e3-9729-4ad1-ba47-84296386a7a6 div.sk-serial::before {content: \"\";position: absolute;border-left: 1px solid gray;box-sizing: border-box;top: 2em;bottom: 0;left: 50%;}#sk-7d80a2e3-9729-4ad1-ba47-84296386a7a6 div.sk-serial {display: flex;flex-direction: column;align-items: center;background-color: white;padding-right: 0.2em;padding-left: 0.2em;}#sk-7d80a2e3-9729-4ad1-ba47-84296386a7a6 div.sk-item {z-index: 1;}#sk-7d80a2e3-9729-4ad1-ba47-84296386a7a6 div.sk-parallel {display: flex;align-items: stretch;justify-content: center;background-color: white;}#sk-7d80a2e3-9729-4ad1-ba47-84296386a7a6 div.sk-parallel::before {content: \"\";position: absolute;border-left: 1px solid gray;box-sizing: border-box;top: 2em;bottom: 0;left: 50%;}#sk-7d80a2e3-9729-4ad1-ba47-84296386a7a6 div.sk-parallel-item {display: flex;flex-direction: column;position: relative;background-color: white;}#sk-7d80a2e3-9729-4ad1-ba47-84296386a7a6 div.sk-parallel-item:first-child::after {align-self: flex-end;width: 50%;}#sk-7d80a2e3-9729-4ad1-ba47-84296386a7a6 div.sk-parallel-item:last-child::after {align-self: flex-start;width: 50%;}#sk-7d80a2e3-9729-4ad1-ba47-84296386a7a6 div.sk-parallel-item:only-child::after {width: 0;}#sk-7d80a2e3-9729-4ad1-ba47-84296386a7a6 div.sk-dashed-wrapped {border: 1px dashed gray;margin: 0 0.4em 0.5em 0.4em;box-sizing: border-box;padding-bottom: 0.4em;background-color: white;position: relative;}#sk-7d80a2e3-9729-4ad1-ba47-84296386a7a6 div.sk-label label {font-family: monospace;font-weight: bold;background-color: white;display: inline-block;line-height: 1.2em;}#sk-7d80a2e3-9729-4ad1-ba47-84296386a7a6 div.sk-label-container {position: relative;z-index: 2;text-align: center;}#sk-7d80a2e3-9729-4ad1-ba47-84296386a7a6 div.sk-container {/* jupyter's `normalize.less` sets `[hidden] { display: none; }` but bootstrap.min.css set `[hidden] { display: none !important; }` so we also need the `!important` here to be able to override the default hidden behavior on the sphinx rendered scikit-learn.org. See: https://github.com/scikit-learn/scikit-learn/issues/21755 */display: inline-block !important;position: relative;}#sk-7d80a2e3-9729-4ad1-ba47-84296386a7a6 div.sk-text-repr-fallback {display: none;}</style><div id=\"sk-7d80a2e3-9729-4ad1-ba47-84296386a7a6\" class=\"sk-top-container\"><div class=\"sk-text-repr-fallback\"><pre>GridSearchCV(cv=5,\n",
              "             estimator=GradientBoostingClassifier(max_features=&#x27;sqrt&#x27;,\n",
              "                                                  n_estimators=80,\n",
              "                                                  random_state=10,\n",
              "                                                  subsample=0.8),\n",
              "             n_jobs=4,\n",
              "             param_grid={&#x27;max_depth&#x27;: range(5, 16, 2),\n",
              "                         &#x27;min_samples_split&#x27;: range(200, 400, 600)},\n",
              "             scoring=&#x27;roc_auc&#x27;)</pre><b>Please rerun this cell to show the HTML repr or trust the notebook.</b></div><div class=\"sk-container\" hidden><div class=\"sk-item sk-dashed-wrapped\"><div class=\"sk-label-container\"><div class=\"sk-label sk-toggleable\"><input class=\"sk-toggleable__control sk-hidden--visually\" id=\"93a19201-32a1-4be4-8a45-3193d5db9076\" type=\"checkbox\" ><label for=\"93a19201-32a1-4be4-8a45-3193d5db9076\" class=\"sk-toggleable__label sk-toggleable__label-arrow\">GridSearchCV</label><div class=\"sk-toggleable__content\"><pre>GridSearchCV(cv=5,\n",
              "             estimator=GradientBoostingClassifier(max_features=&#x27;sqrt&#x27;,\n",
              "                                                  n_estimators=80,\n",
              "                                                  random_state=10,\n",
              "                                                  subsample=0.8),\n",
              "             n_jobs=4,\n",
              "             param_grid={&#x27;max_depth&#x27;: range(5, 16, 2),\n",
              "                         &#x27;min_samples_split&#x27;: range(200, 400, 600)},\n",
              "             scoring=&#x27;roc_auc&#x27;)</pre></div></div></div><div class=\"sk-parallel\"><div class=\"sk-parallel-item\"><div class=\"sk-item\"><div class=\"sk-serial\"><div class=\"sk-item\"><div class=\"sk-estimator sk-toggleable\"><input class=\"sk-toggleable__control sk-hidden--visually\" id=\"a872b02e-611e-4a1d-a965-83c18d659de5\" type=\"checkbox\" ><label for=\"a872b02e-611e-4a1d-a965-83c18d659de5\" class=\"sk-toggleable__label sk-toggleable__label-arrow\">GradientBoostingClassifier</label><div class=\"sk-toggleable__content\"><pre>GradientBoostingClassifier(max_features=&#x27;sqrt&#x27;, n_estimators=80,\n",
              "                           random_state=10, subsample=0.8)</pre></div></div></div></div></div></div></div></div></div></div>"
            ]
          },
          "metadata": {},
          "execution_count": 81
        }
      ]
    },
    {
      "cell_type": "code",
      "source": [
        "gsearch2.best_params_, gsearch2.best_score_"
      ],
      "metadata": {
        "colab": {
          "base_uri": "https://localhost:8080/"
        },
        "id": "sfv8E-yfBsNc",
        "outputId": "0860616f-579d-49b2-9417-6b5e701e6c58"
      },
      "execution_count": null,
      "outputs": [
        {
          "output_type": "execute_result",
          "data": {
            "text/plain": [
              "({'max_depth': 15, 'min_samples_split': 200}, 0.9616368331323581)"
            ]
          },
          "metadata": {},
          "execution_count": 83
        }
      ]
    },
    {
      "cell_type": "markdown",
      "source": [
        "# Tuning min_samples_split & min_samples_leaf"
      ],
      "metadata": {
        "id": "EWJmTq8fBwhE"
      }
    },
    {
      "cell_type": "code",
      "source": [
        "param_test3 = {'min_samples_split':range(1000,2100,200), 'min_samples_leaf':range(30,71,10)}\n",
        "\n",
        "gsearch3 = GridSearchCV(estimator = GradientBoostingClassifier(learning_rate=0.1, n_estimators=80,max_depth=15,max_features='sqrt', subsample=0.8, random_state=10), \n",
        "param_grid = param_test3, scoring='roc_auc',n_jobs=4, cv=5)\n",
        "gsearch3.fit(X_train_res,y_train_res)"
      ],
      "metadata": {
        "colab": {
          "base_uri": "https://localhost:8080/",
          "height": 92
        },
        "id": "uElsyTqqBy3l",
        "outputId": "96838596-a8ee-4cbc-99b6-3b99e8f5da21"
      },
      "execution_count": null,
      "outputs": [
        {
          "output_type": "execute_result",
          "data": {
            "text/plain": [
              "GridSearchCV(cv=5,\n",
              "             estimator=GradientBoostingClassifier(max_depth=15,\n",
              "                                                  max_features='sqrt',\n",
              "                                                  n_estimators=80,\n",
              "                                                  random_state=10,\n",
              "                                                  subsample=0.8),\n",
              "             n_jobs=4,\n",
              "             param_grid={'min_samples_leaf': range(30, 71, 10),\n",
              "                         'min_samples_split': range(1000, 2100, 200)},\n",
              "             scoring='roc_auc')"
            ],
            "text/html": [
              "<style>#sk-b86c0d52-ea93-4cce-98c3-1119d44ef7e5 {color: black;background-color: white;}#sk-b86c0d52-ea93-4cce-98c3-1119d44ef7e5 pre{padding: 0;}#sk-b86c0d52-ea93-4cce-98c3-1119d44ef7e5 div.sk-toggleable {background-color: white;}#sk-b86c0d52-ea93-4cce-98c3-1119d44ef7e5 label.sk-toggleable__label {cursor: pointer;display: block;width: 100%;margin-bottom: 0;padding: 0.3em;box-sizing: border-box;text-align: center;}#sk-b86c0d52-ea93-4cce-98c3-1119d44ef7e5 label.sk-toggleable__label-arrow:before {content: \"▸\";float: left;margin-right: 0.25em;color: #696969;}#sk-b86c0d52-ea93-4cce-98c3-1119d44ef7e5 label.sk-toggleable__label-arrow:hover:before {color: black;}#sk-b86c0d52-ea93-4cce-98c3-1119d44ef7e5 div.sk-estimator:hover label.sk-toggleable__label-arrow:before {color: black;}#sk-b86c0d52-ea93-4cce-98c3-1119d44ef7e5 div.sk-toggleable__content {max-height: 0;max-width: 0;overflow: hidden;text-align: left;background-color: #f0f8ff;}#sk-b86c0d52-ea93-4cce-98c3-1119d44ef7e5 div.sk-toggleable__content pre {margin: 0.2em;color: black;border-radius: 0.25em;background-color: #f0f8ff;}#sk-b86c0d52-ea93-4cce-98c3-1119d44ef7e5 input.sk-toggleable__control:checked~div.sk-toggleable__content {max-height: 200px;max-width: 100%;overflow: auto;}#sk-b86c0d52-ea93-4cce-98c3-1119d44ef7e5 input.sk-toggleable__control:checked~label.sk-toggleable__label-arrow:before {content: \"▾\";}#sk-b86c0d52-ea93-4cce-98c3-1119d44ef7e5 div.sk-estimator input.sk-toggleable__control:checked~label.sk-toggleable__label {background-color: #d4ebff;}#sk-b86c0d52-ea93-4cce-98c3-1119d44ef7e5 div.sk-label input.sk-toggleable__control:checked~label.sk-toggleable__label {background-color: #d4ebff;}#sk-b86c0d52-ea93-4cce-98c3-1119d44ef7e5 input.sk-hidden--visually {border: 0;clip: rect(1px 1px 1px 1px);clip: rect(1px, 1px, 1px, 1px);height: 1px;margin: -1px;overflow: hidden;padding: 0;position: absolute;width: 1px;}#sk-b86c0d52-ea93-4cce-98c3-1119d44ef7e5 div.sk-estimator {font-family: monospace;background-color: #f0f8ff;border: 1px dotted black;border-radius: 0.25em;box-sizing: border-box;margin-bottom: 0.5em;}#sk-b86c0d52-ea93-4cce-98c3-1119d44ef7e5 div.sk-estimator:hover {background-color: #d4ebff;}#sk-b86c0d52-ea93-4cce-98c3-1119d44ef7e5 div.sk-parallel-item::after {content: \"\";width: 100%;border-bottom: 1px solid gray;flex-grow: 1;}#sk-b86c0d52-ea93-4cce-98c3-1119d44ef7e5 div.sk-label:hover label.sk-toggleable__label {background-color: #d4ebff;}#sk-b86c0d52-ea93-4cce-98c3-1119d44ef7e5 div.sk-serial::before {content: \"\";position: absolute;border-left: 1px solid gray;box-sizing: border-box;top: 2em;bottom: 0;left: 50%;}#sk-b86c0d52-ea93-4cce-98c3-1119d44ef7e5 div.sk-serial {display: flex;flex-direction: column;align-items: center;background-color: white;padding-right: 0.2em;padding-left: 0.2em;}#sk-b86c0d52-ea93-4cce-98c3-1119d44ef7e5 div.sk-item {z-index: 1;}#sk-b86c0d52-ea93-4cce-98c3-1119d44ef7e5 div.sk-parallel {display: flex;align-items: stretch;justify-content: center;background-color: white;}#sk-b86c0d52-ea93-4cce-98c3-1119d44ef7e5 div.sk-parallel::before {content: \"\";position: absolute;border-left: 1px solid gray;box-sizing: border-box;top: 2em;bottom: 0;left: 50%;}#sk-b86c0d52-ea93-4cce-98c3-1119d44ef7e5 div.sk-parallel-item {display: flex;flex-direction: column;position: relative;background-color: white;}#sk-b86c0d52-ea93-4cce-98c3-1119d44ef7e5 div.sk-parallel-item:first-child::after {align-self: flex-end;width: 50%;}#sk-b86c0d52-ea93-4cce-98c3-1119d44ef7e5 div.sk-parallel-item:last-child::after {align-self: flex-start;width: 50%;}#sk-b86c0d52-ea93-4cce-98c3-1119d44ef7e5 div.sk-parallel-item:only-child::after {width: 0;}#sk-b86c0d52-ea93-4cce-98c3-1119d44ef7e5 div.sk-dashed-wrapped {border: 1px dashed gray;margin: 0 0.4em 0.5em 0.4em;box-sizing: border-box;padding-bottom: 0.4em;background-color: white;position: relative;}#sk-b86c0d52-ea93-4cce-98c3-1119d44ef7e5 div.sk-label label {font-family: monospace;font-weight: bold;background-color: white;display: inline-block;line-height: 1.2em;}#sk-b86c0d52-ea93-4cce-98c3-1119d44ef7e5 div.sk-label-container {position: relative;z-index: 2;text-align: center;}#sk-b86c0d52-ea93-4cce-98c3-1119d44ef7e5 div.sk-container {/* jupyter's `normalize.less` sets `[hidden] { display: none; }` but bootstrap.min.css set `[hidden] { display: none !important; }` so we also need the `!important` here to be able to override the default hidden behavior on the sphinx rendered scikit-learn.org. See: https://github.com/scikit-learn/scikit-learn/issues/21755 */display: inline-block !important;position: relative;}#sk-b86c0d52-ea93-4cce-98c3-1119d44ef7e5 div.sk-text-repr-fallback {display: none;}</style><div id=\"sk-b86c0d52-ea93-4cce-98c3-1119d44ef7e5\" class=\"sk-top-container\"><div class=\"sk-text-repr-fallback\"><pre>GridSearchCV(cv=5,\n",
              "             estimator=GradientBoostingClassifier(max_depth=15,\n",
              "                                                  max_features=&#x27;sqrt&#x27;,\n",
              "                                                  n_estimators=80,\n",
              "                                                  random_state=10,\n",
              "                                                  subsample=0.8),\n",
              "             n_jobs=4,\n",
              "             param_grid={&#x27;min_samples_leaf&#x27;: range(30, 71, 10),\n",
              "                         &#x27;min_samples_split&#x27;: range(1000, 2100, 200)},\n",
              "             scoring=&#x27;roc_auc&#x27;)</pre><b>Please rerun this cell to show the HTML repr or trust the notebook.</b></div><div class=\"sk-container\" hidden><div class=\"sk-item sk-dashed-wrapped\"><div class=\"sk-label-container\"><div class=\"sk-label sk-toggleable\"><input class=\"sk-toggleable__control sk-hidden--visually\" id=\"d827fa7a-c3dd-42c7-9a59-9b0fa6ea80b9\" type=\"checkbox\" ><label for=\"d827fa7a-c3dd-42c7-9a59-9b0fa6ea80b9\" class=\"sk-toggleable__label sk-toggleable__label-arrow\">GridSearchCV</label><div class=\"sk-toggleable__content\"><pre>GridSearchCV(cv=5,\n",
              "             estimator=GradientBoostingClassifier(max_depth=15,\n",
              "                                                  max_features=&#x27;sqrt&#x27;,\n",
              "                                                  n_estimators=80,\n",
              "                                                  random_state=10,\n",
              "                                                  subsample=0.8),\n",
              "             n_jobs=4,\n",
              "             param_grid={&#x27;min_samples_leaf&#x27;: range(30, 71, 10),\n",
              "                         &#x27;min_samples_split&#x27;: range(1000, 2100, 200)},\n",
              "             scoring=&#x27;roc_auc&#x27;)</pre></div></div></div><div class=\"sk-parallel\"><div class=\"sk-parallel-item\"><div class=\"sk-item\"><div class=\"sk-serial\"><div class=\"sk-item\"><div class=\"sk-estimator sk-toggleable\"><input class=\"sk-toggleable__control sk-hidden--visually\" id=\"ad0a903b-14b9-4619-a597-bbdf9271a62c\" type=\"checkbox\" ><label for=\"ad0a903b-14b9-4619-a597-bbdf9271a62c\" class=\"sk-toggleable__label sk-toggleable__label-arrow\">GradientBoostingClassifier</label><div class=\"sk-toggleable__content\"><pre>GradientBoostingClassifier(max_depth=15, max_features=&#x27;sqrt&#x27;, n_estimators=80,\n",
              "                           random_state=10, subsample=0.8)</pre></div></div></div></div></div></div></div></div></div></div>"
            ]
          },
          "metadata": {},
          "execution_count": 84
        }
      ]
    },
    {
      "cell_type": "code",
      "source": [
        "gsearch3.best_params_, gsearch3.best_score_"
      ],
      "metadata": {
        "colab": {
          "base_uri": "https://localhost:8080/"
        },
        "id": "e3ptX7RrB1zr",
        "outputId": "13e8b509-d7cf-444f-e41c-39bb01f5be05"
      },
      "execution_count": null,
      "outputs": [
        {
          "output_type": "execute_result",
          "data": {
            "text/plain": [
              "({'min_samples_leaf': 30, 'min_samples_split': 1000}, 0.9532280146187906)"
            ]
          },
          "metadata": {},
          "execution_count": 85
        }
      ]
    },
    {
      "cell_type": "markdown",
      "source": [
        "# Tuning max_features"
      ],
      "metadata": {
        "id": "_ETnMUyoB4eK"
      }
    },
    {
      "cell_type": "code",
      "source": [
        "param_test4 = {'max_features':range(7,20,2)}\n",
        "gsearch4 = GridSearchCV(estimator = GradientBoostingClassifier(learning_rate=0.1, n_estimators=80,max_depth=15, min_samples_split=1000, min_samples_leaf=30, subsample=0.8, random_state=10),\n",
        "param_grid = param_test4, scoring='roc_auc',n_jobs=4, cv=5)\n",
        "gsearch4.fit(X_train_res,y_train_res)"
      ],
      "metadata": {
        "colab": {
          "base_uri": "https://localhost:8080/",
          "height": 92
        },
        "id": "957AKYmzB7Ge",
        "outputId": "c47190ac-a9af-4426-9991-c8e2152f1d4c"
      },
      "execution_count": null,
      "outputs": [
        {
          "output_type": "execute_result",
          "data": {
            "text/plain": [
              "GridSearchCV(cv=5,\n",
              "             estimator=GradientBoostingClassifier(max_depth=15,\n",
              "                                                  min_samples_leaf=30,\n",
              "                                                  min_samples_split=1000,\n",
              "                                                  n_estimators=80,\n",
              "                                                  random_state=10,\n",
              "                                                  subsample=0.8),\n",
              "             n_jobs=4, param_grid={'max_features': range(7, 20, 2)},\n",
              "             scoring='roc_auc')"
            ],
            "text/html": [
              "<style>#sk-5e0592a7-f956-46ac-bc05-617a19525797 {color: black;background-color: white;}#sk-5e0592a7-f956-46ac-bc05-617a19525797 pre{padding: 0;}#sk-5e0592a7-f956-46ac-bc05-617a19525797 div.sk-toggleable {background-color: white;}#sk-5e0592a7-f956-46ac-bc05-617a19525797 label.sk-toggleable__label {cursor: pointer;display: block;width: 100%;margin-bottom: 0;padding: 0.3em;box-sizing: border-box;text-align: center;}#sk-5e0592a7-f956-46ac-bc05-617a19525797 label.sk-toggleable__label-arrow:before {content: \"▸\";float: left;margin-right: 0.25em;color: #696969;}#sk-5e0592a7-f956-46ac-bc05-617a19525797 label.sk-toggleable__label-arrow:hover:before {color: black;}#sk-5e0592a7-f956-46ac-bc05-617a19525797 div.sk-estimator:hover label.sk-toggleable__label-arrow:before {color: black;}#sk-5e0592a7-f956-46ac-bc05-617a19525797 div.sk-toggleable__content {max-height: 0;max-width: 0;overflow: hidden;text-align: left;background-color: #f0f8ff;}#sk-5e0592a7-f956-46ac-bc05-617a19525797 div.sk-toggleable__content pre {margin: 0.2em;color: black;border-radius: 0.25em;background-color: #f0f8ff;}#sk-5e0592a7-f956-46ac-bc05-617a19525797 input.sk-toggleable__control:checked~div.sk-toggleable__content {max-height: 200px;max-width: 100%;overflow: auto;}#sk-5e0592a7-f956-46ac-bc05-617a19525797 input.sk-toggleable__control:checked~label.sk-toggleable__label-arrow:before {content: \"▾\";}#sk-5e0592a7-f956-46ac-bc05-617a19525797 div.sk-estimator input.sk-toggleable__control:checked~label.sk-toggleable__label {background-color: #d4ebff;}#sk-5e0592a7-f956-46ac-bc05-617a19525797 div.sk-label input.sk-toggleable__control:checked~label.sk-toggleable__label {background-color: #d4ebff;}#sk-5e0592a7-f956-46ac-bc05-617a19525797 input.sk-hidden--visually {border: 0;clip: rect(1px 1px 1px 1px);clip: rect(1px, 1px, 1px, 1px);height: 1px;margin: -1px;overflow: hidden;padding: 0;position: absolute;width: 1px;}#sk-5e0592a7-f956-46ac-bc05-617a19525797 div.sk-estimator {font-family: monospace;background-color: #f0f8ff;border: 1px dotted black;border-radius: 0.25em;box-sizing: border-box;margin-bottom: 0.5em;}#sk-5e0592a7-f956-46ac-bc05-617a19525797 div.sk-estimator:hover {background-color: #d4ebff;}#sk-5e0592a7-f956-46ac-bc05-617a19525797 div.sk-parallel-item::after {content: \"\";width: 100%;border-bottom: 1px solid gray;flex-grow: 1;}#sk-5e0592a7-f956-46ac-bc05-617a19525797 div.sk-label:hover label.sk-toggleable__label {background-color: #d4ebff;}#sk-5e0592a7-f956-46ac-bc05-617a19525797 div.sk-serial::before {content: \"\";position: absolute;border-left: 1px solid gray;box-sizing: border-box;top: 2em;bottom: 0;left: 50%;}#sk-5e0592a7-f956-46ac-bc05-617a19525797 div.sk-serial {display: flex;flex-direction: column;align-items: center;background-color: white;padding-right: 0.2em;padding-left: 0.2em;}#sk-5e0592a7-f956-46ac-bc05-617a19525797 div.sk-item {z-index: 1;}#sk-5e0592a7-f956-46ac-bc05-617a19525797 div.sk-parallel {display: flex;align-items: stretch;justify-content: center;background-color: white;}#sk-5e0592a7-f956-46ac-bc05-617a19525797 div.sk-parallel::before {content: \"\";position: absolute;border-left: 1px solid gray;box-sizing: border-box;top: 2em;bottom: 0;left: 50%;}#sk-5e0592a7-f956-46ac-bc05-617a19525797 div.sk-parallel-item {display: flex;flex-direction: column;position: relative;background-color: white;}#sk-5e0592a7-f956-46ac-bc05-617a19525797 div.sk-parallel-item:first-child::after {align-self: flex-end;width: 50%;}#sk-5e0592a7-f956-46ac-bc05-617a19525797 div.sk-parallel-item:last-child::after {align-self: flex-start;width: 50%;}#sk-5e0592a7-f956-46ac-bc05-617a19525797 div.sk-parallel-item:only-child::after {width: 0;}#sk-5e0592a7-f956-46ac-bc05-617a19525797 div.sk-dashed-wrapped {border: 1px dashed gray;margin: 0 0.4em 0.5em 0.4em;box-sizing: border-box;padding-bottom: 0.4em;background-color: white;position: relative;}#sk-5e0592a7-f956-46ac-bc05-617a19525797 div.sk-label label {font-family: monospace;font-weight: bold;background-color: white;display: inline-block;line-height: 1.2em;}#sk-5e0592a7-f956-46ac-bc05-617a19525797 div.sk-label-container {position: relative;z-index: 2;text-align: center;}#sk-5e0592a7-f956-46ac-bc05-617a19525797 div.sk-container {/* jupyter's `normalize.less` sets `[hidden] { display: none; }` but bootstrap.min.css set `[hidden] { display: none !important; }` so we also need the `!important` here to be able to override the default hidden behavior on the sphinx rendered scikit-learn.org. See: https://github.com/scikit-learn/scikit-learn/issues/21755 */display: inline-block !important;position: relative;}#sk-5e0592a7-f956-46ac-bc05-617a19525797 div.sk-text-repr-fallback {display: none;}</style><div id=\"sk-5e0592a7-f956-46ac-bc05-617a19525797\" class=\"sk-top-container\"><div class=\"sk-text-repr-fallback\"><pre>GridSearchCV(cv=5,\n",
              "             estimator=GradientBoostingClassifier(max_depth=15,\n",
              "                                                  min_samples_leaf=30,\n",
              "                                                  min_samples_split=1000,\n",
              "                                                  n_estimators=80,\n",
              "                                                  random_state=10,\n",
              "                                                  subsample=0.8),\n",
              "             n_jobs=4, param_grid={&#x27;max_features&#x27;: range(7, 20, 2)},\n",
              "             scoring=&#x27;roc_auc&#x27;)</pre><b>Please rerun this cell to show the HTML repr or trust the notebook.</b></div><div class=\"sk-container\" hidden><div class=\"sk-item sk-dashed-wrapped\"><div class=\"sk-label-container\"><div class=\"sk-label sk-toggleable\"><input class=\"sk-toggleable__control sk-hidden--visually\" id=\"e5efec5b-c20e-4ea5-84fb-513c46d9fe38\" type=\"checkbox\" ><label for=\"e5efec5b-c20e-4ea5-84fb-513c46d9fe38\" class=\"sk-toggleable__label sk-toggleable__label-arrow\">GridSearchCV</label><div class=\"sk-toggleable__content\"><pre>GridSearchCV(cv=5,\n",
              "             estimator=GradientBoostingClassifier(max_depth=15,\n",
              "                                                  min_samples_leaf=30,\n",
              "                                                  min_samples_split=1000,\n",
              "                                                  n_estimators=80,\n",
              "                                                  random_state=10,\n",
              "                                                  subsample=0.8),\n",
              "             n_jobs=4, param_grid={&#x27;max_features&#x27;: range(7, 20, 2)},\n",
              "             scoring=&#x27;roc_auc&#x27;)</pre></div></div></div><div class=\"sk-parallel\"><div class=\"sk-parallel-item\"><div class=\"sk-item\"><div class=\"sk-serial\"><div class=\"sk-item\"><div class=\"sk-estimator sk-toggleable\"><input class=\"sk-toggleable__control sk-hidden--visually\" id=\"69714acc-e5c7-4251-b516-4291803579a1\" type=\"checkbox\" ><label for=\"69714acc-e5c7-4251-b516-4291803579a1\" class=\"sk-toggleable__label sk-toggleable__label-arrow\">GradientBoostingClassifier</label><div class=\"sk-toggleable__content\"><pre>GradientBoostingClassifier(max_depth=15, min_samples_leaf=30,\n",
              "                           min_samples_split=1000, n_estimators=80,\n",
              "                           random_state=10, subsample=0.8)</pre></div></div></div></div></div></div></div></div></div></div>"
            ]
          },
          "metadata": {},
          "execution_count": 86
        }
      ]
    },
    {
      "cell_type": "code",
      "source": [
        "gsearch4.best_params_, gsearch4.best_score_"
      ],
      "metadata": {
        "colab": {
          "base_uri": "https://localhost:8080/"
        },
        "id": "5d845gDlB8-F",
        "outputId": "37843015-58ed-4a9c-83ab-a77689c8d68e"
      },
      "execution_count": null,
      "outputs": [
        {
          "output_type": "execute_result",
          "data": {
            "text/plain": [
              "({'max_features': 7}, 0.9555610657588206)"
            ]
          },
          "metadata": {},
          "execution_count": 87
        }
      ]
    },
    {
      "cell_type": "markdown",
      "source": [
        "# Tuning Subsample"
      ],
      "metadata": {
        "id": "84yWtm0KB-wa"
      }
    },
    {
      "cell_type": "code",
      "source": [
        "param_test5 = {'subsample':[0.6,0.7,0.75,0.8,0.85,0.9]}\n",
        "gsearch5 = GridSearchCV(estimator = GradientBoostingClassifier(learning_rate=0.1, n_estimators=80, max_depth= 15, min_samples_split= 1000, min_samples_leaf=30,max_features=7, random_state = 10),\n",
        "param_grid = param_test5, scoring='roc_auc',n_jobs=4, cv=5)\n",
        "gsearch5.fit(X_train_res,y_train_res)"
      ],
      "metadata": {
        "colab": {
          "base_uri": "https://localhost:8080/",
          "height": 92
        },
        "id": "6yakcolqCBEc",
        "outputId": "2aad10e2-d9a6-466d-e346-7f42193a6bf4"
      },
      "execution_count": null,
      "outputs": [
        {
          "output_type": "execute_result",
          "data": {
            "text/plain": [
              "GridSearchCV(cv=5,\n",
              "             estimator=GradientBoostingClassifier(max_depth=15, max_features=7,\n",
              "                                                  min_samples_leaf=30,\n",
              "                                                  min_samples_split=1000,\n",
              "                                                  n_estimators=80,\n",
              "                                                  random_state=10),\n",
              "             n_jobs=4,\n",
              "             param_grid={'subsample': [0.6, 0.7, 0.75, 0.8, 0.85, 0.9]},\n",
              "             scoring='roc_auc')"
            ],
            "text/html": [
              "<style>#sk-fce55f6f-9e44-4102-8db2-61dcb59ea5c6 {color: black;background-color: white;}#sk-fce55f6f-9e44-4102-8db2-61dcb59ea5c6 pre{padding: 0;}#sk-fce55f6f-9e44-4102-8db2-61dcb59ea5c6 div.sk-toggleable {background-color: white;}#sk-fce55f6f-9e44-4102-8db2-61dcb59ea5c6 label.sk-toggleable__label {cursor: pointer;display: block;width: 100%;margin-bottom: 0;padding: 0.3em;box-sizing: border-box;text-align: center;}#sk-fce55f6f-9e44-4102-8db2-61dcb59ea5c6 label.sk-toggleable__label-arrow:before {content: \"▸\";float: left;margin-right: 0.25em;color: #696969;}#sk-fce55f6f-9e44-4102-8db2-61dcb59ea5c6 label.sk-toggleable__label-arrow:hover:before {color: black;}#sk-fce55f6f-9e44-4102-8db2-61dcb59ea5c6 div.sk-estimator:hover label.sk-toggleable__label-arrow:before {color: black;}#sk-fce55f6f-9e44-4102-8db2-61dcb59ea5c6 div.sk-toggleable__content {max-height: 0;max-width: 0;overflow: hidden;text-align: left;background-color: #f0f8ff;}#sk-fce55f6f-9e44-4102-8db2-61dcb59ea5c6 div.sk-toggleable__content pre {margin: 0.2em;color: black;border-radius: 0.25em;background-color: #f0f8ff;}#sk-fce55f6f-9e44-4102-8db2-61dcb59ea5c6 input.sk-toggleable__control:checked~div.sk-toggleable__content {max-height: 200px;max-width: 100%;overflow: auto;}#sk-fce55f6f-9e44-4102-8db2-61dcb59ea5c6 input.sk-toggleable__control:checked~label.sk-toggleable__label-arrow:before {content: \"▾\";}#sk-fce55f6f-9e44-4102-8db2-61dcb59ea5c6 div.sk-estimator input.sk-toggleable__control:checked~label.sk-toggleable__label {background-color: #d4ebff;}#sk-fce55f6f-9e44-4102-8db2-61dcb59ea5c6 div.sk-label input.sk-toggleable__control:checked~label.sk-toggleable__label {background-color: #d4ebff;}#sk-fce55f6f-9e44-4102-8db2-61dcb59ea5c6 input.sk-hidden--visually {border: 0;clip: rect(1px 1px 1px 1px);clip: rect(1px, 1px, 1px, 1px);height: 1px;margin: -1px;overflow: hidden;padding: 0;position: absolute;width: 1px;}#sk-fce55f6f-9e44-4102-8db2-61dcb59ea5c6 div.sk-estimator {font-family: monospace;background-color: #f0f8ff;border: 1px dotted black;border-radius: 0.25em;box-sizing: border-box;margin-bottom: 0.5em;}#sk-fce55f6f-9e44-4102-8db2-61dcb59ea5c6 div.sk-estimator:hover {background-color: #d4ebff;}#sk-fce55f6f-9e44-4102-8db2-61dcb59ea5c6 div.sk-parallel-item::after {content: \"\";width: 100%;border-bottom: 1px solid gray;flex-grow: 1;}#sk-fce55f6f-9e44-4102-8db2-61dcb59ea5c6 div.sk-label:hover label.sk-toggleable__label {background-color: #d4ebff;}#sk-fce55f6f-9e44-4102-8db2-61dcb59ea5c6 div.sk-serial::before {content: \"\";position: absolute;border-left: 1px solid gray;box-sizing: border-box;top: 2em;bottom: 0;left: 50%;}#sk-fce55f6f-9e44-4102-8db2-61dcb59ea5c6 div.sk-serial {display: flex;flex-direction: column;align-items: center;background-color: white;padding-right: 0.2em;padding-left: 0.2em;}#sk-fce55f6f-9e44-4102-8db2-61dcb59ea5c6 div.sk-item {z-index: 1;}#sk-fce55f6f-9e44-4102-8db2-61dcb59ea5c6 div.sk-parallel {display: flex;align-items: stretch;justify-content: center;background-color: white;}#sk-fce55f6f-9e44-4102-8db2-61dcb59ea5c6 div.sk-parallel::before {content: \"\";position: absolute;border-left: 1px solid gray;box-sizing: border-box;top: 2em;bottom: 0;left: 50%;}#sk-fce55f6f-9e44-4102-8db2-61dcb59ea5c6 div.sk-parallel-item {display: flex;flex-direction: column;position: relative;background-color: white;}#sk-fce55f6f-9e44-4102-8db2-61dcb59ea5c6 div.sk-parallel-item:first-child::after {align-self: flex-end;width: 50%;}#sk-fce55f6f-9e44-4102-8db2-61dcb59ea5c6 div.sk-parallel-item:last-child::after {align-self: flex-start;width: 50%;}#sk-fce55f6f-9e44-4102-8db2-61dcb59ea5c6 div.sk-parallel-item:only-child::after {width: 0;}#sk-fce55f6f-9e44-4102-8db2-61dcb59ea5c6 div.sk-dashed-wrapped {border: 1px dashed gray;margin: 0 0.4em 0.5em 0.4em;box-sizing: border-box;padding-bottom: 0.4em;background-color: white;position: relative;}#sk-fce55f6f-9e44-4102-8db2-61dcb59ea5c6 div.sk-label label {font-family: monospace;font-weight: bold;background-color: white;display: inline-block;line-height: 1.2em;}#sk-fce55f6f-9e44-4102-8db2-61dcb59ea5c6 div.sk-label-container {position: relative;z-index: 2;text-align: center;}#sk-fce55f6f-9e44-4102-8db2-61dcb59ea5c6 div.sk-container {/* jupyter's `normalize.less` sets `[hidden] { display: none; }` but bootstrap.min.css set `[hidden] { display: none !important; }` so we also need the `!important` here to be able to override the default hidden behavior on the sphinx rendered scikit-learn.org. See: https://github.com/scikit-learn/scikit-learn/issues/21755 */display: inline-block !important;position: relative;}#sk-fce55f6f-9e44-4102-8db2-61dcb59ea5c6 div.sk-text-repr-fallback {display: none;}</style><div id=\"sk-fce55f6f-9e44-4102-8db2-61dcb59ea5c6\" class=\"sk-top-container\"><div class=\"sk-text-repr-fallback\"><pre>GridSearchCV(cv=5,\n",
              "             estimator=GradientBoostingClassifier(max_depth=15, max_features=7,\n",
              "                                                  min_samples_leaf=30,\n",
              "                                                  min_samples_split=1000,\n",
              "                                                  n_estimators=80,\n",
              "                                                  random_state=10),\n",
              "             n_jobs=4,\n",
              "             param_grid={&#x27;subsample&#x27;: [0.6, 0.7, 0.75, 0.8, 0.85, 0.9]},\n",
              "             scoring=&#x27;roc_auc&#x27;)</pre><b>Please rerun this cell to show the HTML repr or trust the notebook.</b></div><div class=\"sk-container\" hidden><div class=\"sk-item sk-dashed-wrapped\"><div class=\"sk-label-container\"><div class=\"sk-label sk-toggleable\"><input class=\"sk-toggleable__control sk-hidden--visually\" id=\"0ae57a72-f37d-473b-aa79-4c49041cdcf0\" type=\"checkbox\" ><label for=\"0ae57a72-f37d-473b-aa79-4c49041cdcf0\" class=\"sk-toggleable__label sk-toggleable__label-arrow\">GridSearchCV</label><div class=\"sk-toggleable__content\"><pre>GridSearchCV(cv=5,\n",
              "             estimator=GradientBoostingClassifier(max_depth=15, max_features=7,\n",
              "                                                  min_samples_leaf=30,\n",
              "                                                  min_samples_split=1000,\n",
              "                                                  n_estimators=80,\n",
              "                                                  random_state=10),\n",
              "             n_jobs=4,\n",
              "             param_grid={&#x27;subsample&#x27;: [0.6, 0.7, 0.75, 0.8, 0.85, 0.9]},\n",
              "             scoring=&#x27;roc_auc&#x27;)</pre></div></div></div><div class=\"sk-parallel\"><div class=\"sk-parallel-item\"><div class=\"sk-item\"><div class=\"sk-serial\"><div class=\"sk-item\"><div class=\"sk-estimator sk-toggleable\"><input class=\"sk-toggleable__control sk-hidden--visually\" id=\"9c4ca53c-48b8-499b-9c87-b8088cb428a6\" type=\"checkbox\" ><label for=\"9c4ca53c-48b8-499b-9c87-b8088cb428a6\" class=\"sk-toggleable__label sk-toggleable__label-arrow\">GradientBoostingClassifier</label><div class=\"sk-toggleable__content\"><pre>GradientBoostingClassifier(max_depth=15, max_features=7, min_samples_leaf=30,\n",
              "                           min_samples_split=1000, n_estimators=80,\n",
              "                           random_state=10)</pre></div></div></div></div></div></div></div></div></div></div>"
            ]
          },
          "metadata": {},
          "execution_count": 88
        }
      ]
    },
    {
      "cell_type": "code",
      "source": [
        "gsearch5.best_params_, gsearch5.best_score_"
      ],
      "metadata": {
        "colab": {
          "base_uri": "https://localhost:8080/"
        },
        "id": "o5q8YevHCC5C",
        "outputId": "45411577-a676-49e4-cb9a-7d41032e69fd"
      },
      "execution_count": null,
      "outputs": [
        {
          "output_type": "execute_result",
          "data": {
            "text/plain": [
              "({'subsample': 0.9}, 0.9563722420237208)"
            ]
          },
          "metadata": {},
          "execution_count": 89
        }
      ]
    },
    {
      "cell_type": "markdown",
      "source": [
        "# Combining all the tuned parameter values and runnning them as a whole"
      ],
      "metadata": {
        "id": "HDHuf1akCH4W"
      }
    },
    {
      "cell_type": "code",
      "source": [
        "gbc = GradientBoostingClassifier(n_estimators=80, max_depth= 15, min_samples_split= 1000, min_samples_leaf=30,subsample=0.9,max_features=7)\n",
        "gbc.fit(X_train_res, y_train_res)"
      ],
      "metadata": {
        "colab": {
          "base_uri": "https://localhost:8080/",
          "height": 109
        },
        "id": "YrZ9PrE1CKOr",
        "outputId": "beca55cb-f609-446b-8481-2153d0428819"
      },
      "execution_count": null,
      "outputs": [
        {
          "output_type": "execute_result",
          "data": {
            "text/plain": [
              "GradientBoostingClassifier(max_depth=15, max_features=7, min_samples_leaf=30,\n",
              "                           min_samples_split=1000, n_estimators=80,\n",
              "                           subsample=0.9)"
            ],
            "text/html": [
              "<style>#sk-23af0956-4d86-44f9-80d2-527408129d71 {color: black;background-color: white;}#sk-23af0956-4d86-44f9-80d2-527408129d71 pre{padding: 0;}#sk-23af0956-4d86-44f9-80d2-527408129d71 div.sk-toggleable {background-color: white;}#sk-23af0956-4d86-44f9-80d2-527408129d71 label.sk-toggleable__label {cursor: pointer;display: block;width: 100%;margin-bottom: 0;padding: 0.3em;box-sizing: border-box;text-align: center;}#sk-23af0956-4d86-44f9-80d2-527408129d71 label.sk-toggleable__label-arrow:before {content: \"▸\";float: left;margin-right: 0.25em;color: #696969;}#sk-23af0956-4d86-44f9-80d2-527408129d71 label.sk-toggleable__label-arrow:hover:before {color: black;}#sk-23af0956-4d86-44f9-80d2-527408129d71 div.sk-estimator:hover label.sk-toggleable__label-arrow:before {color: black;}#sk-23af0956-4d86-44f9-80d2-527408129d71 div.sk-toggleable__content {max-height: 0;max-width: 0;overflow: hidden;text-align: left;background-color: #f0f8ff;}#sk-23af0956-4d86-44f9-80d2-527408129d71 div.sk-toggleable__content pre {margin: 0.2em;color: black;border-radius: 0.25em;background-color: #f0f8ff;}#sk-23af0956-4d86-44f9-80d2-527408129d71 input.sk-toggleable__control:checked~div.sk-toggleable__content {max-height: 200px;max-width: 100%;overflow: auto;}#sk-23af0956-4d86-44f9-80d2-527408129d71 input.sk-toggleable__control:checked~label.sk-toggleable__label-arrow:before {content: \"▾\";}#sk-23af0956-4d86-44f9-80d2-527408129d71 div.sk-estimator input.sk-toggleable__control:checked~label.sk-toggleable__label {background-color: #d4ebff;}#sk-23af0956-4d86-44f9-80d2-527408129d71 div.sk-label input.sk-toggleable__control:checked~label.sk-toggleable__label {background-color: #d4ebff;}#sk-23af0956-4d86-44f9-80d2-527408129d71 input.sk-hidden--visually {border: 0;clip: rect(1px 1px 1px 1px);clip: rect(1px, 1px, 1px, 1px);height: 1px;margin: -1px;overflow: hidden;padding: 0;position: absolute;width: 1px;}#sk-23af0956-4d86-44f9-80d2-527408129d71 div.sk-estimator {font-family: monospace;background-color: #f0f8ff;border: 1px dotted black;border-radius: 0.25em;box-sizing: border-box;margin-bottom: 0.5em;}#sk-23af0956-4d86-44f9-80d2-527408129d71 div.sk-estimator:hover {background-color: #d4ebff;}#sk-23af0956-4d86-44f9-80d2-527408129d71 div.sk-parallel-item::after {content: \"\";width: 100%;border-bottom: 1px solid gray;flex-grow: 1;}#sk-23af0956-4d86-44f9-80d2-527408129d71 div.sk-label:hover label.sk-toggleable__label {background-color: #d4ebff;}#sk-23af0956-4d86-44f9-80d2-527408129d71 div.sk-serial::before {content: \"\";position: absolute;border-left: 1px solid gray;box-sizing: border-box;top: 2em;bottom: 0;left: 50%;}#sk-23af0956-4d86-44f9-80d2-527408129d71 div.sk-serial {display: flex;flex-direction: column;align-items: center;background-color: white;padding-right: 0.2em;padding-left: 0.2em;}#sk-23af0956-4d86-44f9-80d2-527408129d71 div.sk-item {z-index: 1;}#sk-23af0956-4d86-44f9-80d2-527408129d71 div.sk-parallel {display: flex;align-items: stretch;justify-content: center;background-color: white;}#sk-23af0956-4d86-44f9-80d2-527408129d71 div.sk-parallel::before {content: \"\";position: absolute;border-left: 1px solid gray;box-sizing: border-box;top: 2em;bottom: 0;left: 50%;}#sk-23af0956-4d86-44f9-80d2-527408129d71 div.sk-parallel-item {display: flex;flex-direction: column;position: relative;background-color: white;}#sk-23af0956-4d86-44f9-80d2-527408129d71 div.sk-parallel-item:first-child::after {align-self: flex-end;width: 50%;}#sk-23af0956-4d86-44f9-80d2-527408129d71 div.sk-parallel-item:last-child::after {align-self: flex-start;width: 50%;}#sk-23af0956-4d86-44f9-80d2-527408129d71 div.sk-parallel-item:only-child::after {width: 0;}#sk-23af0956-4d86-44f9-80d2-527408129d71 div.sk-dashed-wrapped {border: 1px dashed gray;margin: 0 0.4em 0.5em 0.4em;box-sizing: border-box;padding-bottom: 0.4em;background-color: white;position: relative;}#sk-23af0956-4d86-44f9-80d2-527408129d71 div.sk-label label {font-family: monospace;font-weight: bold;background-color: white;display: inline-block;line-height: 1.2em;}#sk-23af0956-4d86-44f9-80d2-527408129d71 div.sk-label-container {position: relative;z-index: 2;text-align: center;}#sk-23af0956-4d86-44f9-80d2-527408129d71 div.sk-container {/* jupyter's `normalize.less` sets `[hidden] { display: none; }` but bootstrap.min.css set `[hidden] { display: none !important; }` so we also need the `!important` here to be able to override the default hidden behavior on the sphinx rendered scikit-learn.org. See: https://github.com/scikit-learn/scikit-learn/issues/21755 */display: inline-block !important;position: relative;}#sk-23af0956-4d86-44f9-80d2-527408129d71 div.sk-text-repr-fallback {display: none;}</style><div id=\"sk-23af0956-4d86-44f9-80d2-527408129d71\" class=\"sk-top-container\"><div class=\"sk-text-repr-fallback\"><pre>GradientBoostingClassifier(max_depth=15, max_features=7, min_samples_leaf=30,\n",
              "                           min_samples_split=1000, n_estimators=80,\n",
              "                           subsample=0.9)</pre><b>Please rerun this cell to show the HTML repr or trust the notebook.</b></div><div class=\"sk-container\" hidden><div class=\"sk-item\"><div class=\"sk-estimator sk-toggleable\"><input class=\"sk-toggleable__control sk-hidden--visually\" id=\"8d0f9703-0f06-4fdb-a038-985abb3abdc0\" type=\"checkbox\" checked><label for=\"8d0f9703-0f06-4fdb-a038-985abb3abdc0\" class=\"sk-toggleable__label sk-toggleable__label-arrow\">GradientBoostingClassifier</label><div class=\"sk-toggleable__content\"><pre>GradientBoostingClassifier(max_depth=15, max_features=7, min_samples_leaf=30,\n",
              "                           min_samples_split=1000, n_estimators=80,\n",
              "                           subsample=0.9)</pre></div></div></div></div></div>"
            ]
          },
          "metadata": {},
          "execution_count": 90
        }
      ]
    },
    {
      "cell_type": "code",
      "source": [
        "train = model_fit_reports(gbc,X_train,y_train,performCV=True,printFeatureImportance=False, cv_folds=5)"
      ],
      "metadata": {
        "colab": {
          "base_uri": "https://localhost:8080/",
          "height": 549
        },
        "id": "PFrSYFIgCMLZ",
        "outputId": "f7f488c4-ce45-4c08-bd37-f463ce620c3a"
      },
      "execution_count": null,
      "outputs": [
        {
          "output_type": "stream",
          "name": "stdout",
          "text": [
            "Accuracy     0.892867\n",
            "F1 Score     0.391576\n",
            "Recall       0.514808\n",
            "Precision    0.315946\n",
            "Gini         0.434809\n",
            "AUC          0.717405\n",
            "dtype: float64\n",
            "AUC : Mean - 0.835296 | Std - 0.005100484 | Min - 0.8261637 | Max - 0.8398019\n",
            "GINI : Mean - 0.670592 | Std - 0.01020097 | Min - 0.6523273 | Max - 0.6796038\n"
          ]
        },
        {
          "output_type": "display_data",
          "data": {
            "text/plain": [
              "<Figure size 576x396 with 1 Axes>"
            ],
            "image/png": "[encoded data removed]"
          },
          "metadata": {}
        }
      ]
    },
    {
      "cell_type": "code",
      "source": [
        "test = model_fit_reports(gbc,X_test,y_test,performCV=True,printFeatureImportance=False, cv_folds=5)"
      ],
      "metadata": {
        "colab": {
          "base_uri": "https://localhost:8080/",
          "height": 549
        },
        "id": "V10kHfQbCQWu",
        "outputId": "d9e5f816-6eff-4358-d689-e122987f1c66"
      },
      "execution_count": null,
      "outputs": [
        {
          "output_type": "stream",
          "name": "stdout",
          "text": [
            "Accuracy     0.873333\n",
            "F1 Score     0.303519\n",
            "Recall       0.416080\n",
            "Precision    0.238892\n",
            "Gini         0.321900\n",
            "AUC          0.660950\n",
            "dtype: float64\n",
            "AUC : Mean - 0.8225581 | Std - 0.00656653 | Min - 0.8131866 | Max - 0.8326784\n",
            "GINI : Mean - 0.6451162 | Std - 0.01313306 | Min - 0.6263731 | Max - 0.6653569\n"
          ]
        },
        {
          "output_type": "display_data",
          "data": {
            "text/plain": [
              "<Figure size 576x396 with 1 Axes>"
            ],
            "image/png": "[encoded data removed]"
          },
          "metadata": {}
        }
      ]
    },
    {
      "cell_type": "markdown",
      "source": [
        "# XGBoost"
      ],
      "metadata": {
        "id": "vGV8s1CCCTIZ"
      }
    },
    {
      "cell_type": "code",
      "source": [
        "xgb1 = XGBClassifier(\n",
        " learning_rate =0.001,\n",
        " n_estimators=1000,\n",
        " max_depth=9,\n",
        " min_child_weight=1,\n",
        " gamma=0.2,\n",
        " subsample=0.8,\n",
        " colsample_bytree=0.8,\n",
        " objective= 'binary:logistic',\n",
        " nthread=4,\n",
        " reg_alpha = 0.1,\n",
        " scale_pos_weight=1,\n",
        " seed=27)"
      ],
      "metadata": {
        "id": "WJw7JeIxCU4R"
      },
      "execution_count": null,
      "outputs": []
    },
    {
      "cell_type": "code",
      "source": [
        "xgb1.fit(X_train_res, y_train_res)"
      ],
      "metadata": {
        "colab": {
          "base_uri": "https://localhost:8080/",
          "height": 109
        },
        "id": "2OVsdIjwCWrl",
        "outputId": "d4387c09-8743-4fbf-b815-5b79f11bfad6"
      },
      "execution_count": null,
      "outputs": [
        {
          "output_type": "execute_result",
          "data": {
            "text/plain": [
              "XGBClassifier(colsample_bytree=0.8, gamma=0.2, learning_rate=0.001, max_depth=9,\n",
              "              n_estimators=1000, nthread=4, reg_alpha=0.1, seed=27,\n",
              "              subsample=0.8)"
            ],
            "text/html": [
              "<style>#sk-1adacf09-38ac-4e9f-a51d-45e8affcd848 {color: black;background-color: white;}#sk-1adacf09-38ac-4e9f-a51d-45e8affcd848 pre{padding: 0;}#sk-1adacf09-38ac-4e9f-a51d-45e8affcd848 div.sk-toggleable {background-color: white;}#sk-1adacf09-38ac-4e9f-a51d-45e8affcd848 label.sk-toggleable__label {cursor: pointer;display: block;width: 100%;margin-bottom: 0;padding: 0.3em;box-sizing: border-box;text-align: center;}#sk-1adacf09-38ac-4e9f-a51d-45e8affcd848 label.sk-toggleable__label-arrow:before {content: \"▸\";float: left;margin-right: 0.25em;color: #696969;}#sk-1adacf09-38ac-4e9f-a51d-45e8affcd848 label.sk-toggleable__label-arrow:hover:before {color: black;}#sk-1adacf09-38ac-4e9f-a51d-45e8affcd848 div.sk-estimator:hover label.sk-toggleable__label-arrow:before {color: black;}#sk-1adacf09-38ac-4e9f-a51d-45e8affcd848 div.sk-toggleable__content {max-height: 0;max-width: 0;overflow: hidden;text-align: left;background-color: #f0f8ff;}#sk-1adacf09-38ac-4e9f-a51d-45e8affcd848 div.sk-toggleable__content pre {margin: 0.2em;color: black;border-radius: 0.25em;background-color: #f0f8ff;}#sk-1adacf09-38ac-4e9f-a51d-45e8affcd848 input.sk-toggleable__control:checked~div.sk-toggleable__content {max-height: 200px;max-width: 100%;overflow: auto;}#sk-1adacf09-38ac-4e9f-a51d-45e8affcd848 input.sk-toggleable__control:checked~label.sk-toggleable__label-arrow:before {content: \"▾\";}#sk-1adacf09-38ac-4e9f-a51d-45e8affcd848 div.sk-estimator input.sk-toggleable__control:checked~label.sk-toggleable__label {background-color: #d4ebff;}#sk-1adacf09-38ac-4e9f-a51d-45e8affcd848 div.sk-label input.sk-toggleable__control:checked~label.sk-toggleable__label {background-color: #d4ebff;}#sk-1adacf09-38ac-4e9f-a51d-45e8affcd848 input.sk-hidden--visually {border: 0;clip: rect(1px 1px 1px 1px);clip: rect(1px, 1px, 1px, 1px);height: 1px;margin: -1px;overflow: hidden;padding: 0;position: absolute;width: 1px;}#sk-1adacf09-38ac-4e9f-a51d-45e8affcd848 div.sk-estimator {font-family: monospace;background-color: #f0f8ff;border: 1px dotted black;border-radius: 0.25em;box-sizing: border-box;margin-bottom: 0.5em;}#sk-1adacf09-38ac-4e9f-a51d-45e8affcd848 div.sk-estimator:hover {background-color: #d4ebff;}#sk-1adacf09-38ac-4e9f-a51d-45e8affcd848 div.sk-parallel-item::after {content: \"\";width: 100%;border-bottom: 1px solid gray;flex-grow: 1;}#sk-1adacf09-38ac-4e9f-a51d-45e8affcd848 div.sk-label:hover label.sk-toggleable__label {background-color: #d4ebff;}#sk-1adacf09-38ac-4e9f-a51d-45e8affcd848 div.sk-serial::before {content: \"\";position: absolute;border-left: 1px solid gray;box-sizing: border-box;top: 2em;bottom: 0;left: 50%;}#sk-1adacf09-38ac-4e9f-a51d-45e8affcd848 div.sk-serial {display: flex;flex-direction: column;align-items: center;background-color: white;padding-right: 0.2em;padding-left: 0.2em;}#sk-1adacf09-38ac-4e9f-a51d-45e8affcd848 div.sk-item {z-index: 1;}#sk-1adacf09-38ac-4e9f-a51d-45e8affcd848 div.sk-parallel {display: flex;align-items: stretch;justify-content: center;background-color: white;}#sk-1adacf09-38ac-4e9f-a51d-45e8affcd848 div.sk-parallel::before {content: \"\";position: absolute;border-left: 1px solid gray;box-sizing: border-box;top: 2em;bottom: 0;left: 50%;}#sk-1adacf09-38ac-4e9f-a51d-45e8affcd848 div.sk-parallel-item {display: flex;flex-direction: column;position: relative;background-color: white;}#sk-1adacf09-38ac-4e9f-a51d-45e8affcd848 div.sk-parallel-item:first-child::after {align-self: flex-end;width: 50%;}#sk-1adacf09-38ac-4e9f-a51d-45e8affcd848 div.sk-parallel-item:last-child::after {align-self: flex-start;width: 50%;}#sk-1adacf09-38ac-4e9f-a51d-45e8affcd848 div.sk-parallel-item:only-child::after {width: 0;}#sk-1adacf09-38ac-4e9f-a51d-45e8affcd848 div.sk-dashed-wrapped {border: 1px dashed gray;margin: 0 0.4em 0.5em 0.4em;box-sizing: border-box;padding-bottom: 0.4em;background-color: white;position: relative;}#sk-1adacf09-38ac-4e9f-a51d-45e8affcd848 div.sk-label label {font-family: monospace;font-weight: bold;background-color: white;display: inline-block;line-height: 1.2em;}#sk-1adacf09-38ac-4e9f-a51d-45e8affcd848 div.sk-label-container {position: relative;z-index: 2;text-align: center;}#sk-1adacf09-38ac-4e9f-a51d-45e8affcd848 div.sk-container {/* jupyter's `normalize.less` sets `[hidden] { display: none; }` but bootstrap.min.css set `[hidden] { display: none !important; }` so we also need the `!important` here to be able to override the default hidden behavior on the sphinx rendered scikit-learn.org. See: https://github.com/scikit-learn/scikit-learn/issues/21755 */display: inline-block !important;position: relative;}#sk-1adacf09-38ac-4e9f-a51d-45e8affcd848 div.sk-text-repr-fallback {display: none;}</style><div id=\"sk-1adacf09-38ac-4e9f-a51d-45e8affcd848\" class=\"sk-top-container\"><div class=\"sk-text-repr-fallback\"><pre>XGBClassifier(colsample_bytree=0.8, gamma=0.2, learning_rate=0.001, max_depth=9,\n",
              "              n_estimators=1000, nthread=4, reg_alpha=0.1, seed=27,\n",
              "              subsample=0.8)</pre><b>Please rerun this cell to show the HTML repr or trust the notebook.</b></div><div class=\"sk-container\" hidden><div class=\"sk-item\"><div class=\"sk-estimator sk-toggleable\"><input class=\"sk-toggleable__control sk-hidden--visually\" id=\"620d3d19-d347-4362-a655-63ad7221d70b\" type=\"checkbox\" checked><label for=\"620d3d19-d347-4362-a655-63ad7221d70b\" class=\"sk-toggleable__label sk-toggleable__label-arrow\">XGBClassifier</label><div class=\"sk-toggleable__content\"><pre>XGBClassifier(colsample_bytree=0.8, gamma=0.2, learning_rate=0.001, max_depth=9,\n",
              "              n_estimators=1000, nthread=4, reg_alpha=0.1, seed=27,\n",
              "              subsample=0.8)</pre></div></div></div></div></div>"
            ]
          },
          "metadata": {},
          "execution_count": 94
        }
      ]
    },
    {
      "cell_type": "code",
      "source": [
        "train = model_fit_reports(xgb1,X_train,y_train,performCV=True,printFeatureImportance=False, cv_folds=5)"
      ],
      "metadata": {
        "colab": {
          "base_uri": "https://localhost:8080/",
          "height": 549
        },
        "id": "ctY871E2CYgZ",
        "outputId": "ac562775-f8eb-4049-aa8f-1f13b27e0f4c"
      },
      "execution_count": null,
      "outputs": [
        {
          "output_type": "stream",
          "name": "stdout",
          "text": [
            "Accuracy     0.866942\n",
            "F1 Score     0.346445\n",
            "Recall       0.526630\n",
            "Precision    0.258127\n",
            "Gini         0.417997\n",
            "AUC          0.708999\n",
            "dtype: float64\n",
            "AUC : Mean - 0.8377708 | Std - 0.005663738 | Min - 0.8271766 | Max - 0.8430717\n",
            "GINI : Mean - 0.6755416 | Std - 0.01132748 | Min - 0.6543532 | Max - 0.6861433\n"
          ]
        },
        {
          "output_type": "display_data",
          "data": {
            "text/plain": [
              "<Figure size 576x396 with 1 Axes>"
            ],
            "image/png": "[encoded data removed]"
          },
          "metadata": {}
        }
      ]
    },
    {
      "cell_type": "code",
      "source": [
        "test = model_fit_reports(xgb1,X_test,y_test,performCV=True,printFeatureImportance=False, cv_folds=5)"
      ],
      "metadata": {
        "colab": {
          "base_uri": "https://localhost:8080/",
          "height": 549
        },
        "id": "hkQWGH5tCccp",
        "outputId": "555fcad5-9d27-4549-914e-787b8a5e3cec"
      },
      "execution_count": null,
      "outputs": [
        {
          "output_type": "stream",
          "name": "stdout",
          "text": [
            "Accuracy     0.859167\n",
            "F1 Score     0.316011\n",
            "Recall       0.490452\n",
            "Precision    0.233102\n",
            "Gini         0.375815\n",
            "AUC          0.687907\n",
            "dtype: float64\n",
            "AUC : Mean - 0.8289751 | Std - 0.006982516 | Min - 0.8192262 | Max - 0.8401845\n",
            "GINI : Mean - 0.6579501 | Std - 0.01396503 | Min - 0.6384524 | Max - 0.680369\n"
          ]
        },
        {
          "output_type": "display_data",
          "data": {
            "text/plain": [
              "<Figure size 576x396 with 1 Axes>"
            ],
            "image/png": "[encoded data removed]"
          },
          "metadata": {}
        }
      ]
    },
    {
      "cell_type": "markdown",
      "source": [
        "# Tuning XGboost\n",
        "\n",
        "Tuning hyperparameter XgBoost:\n",
        "\n",
        "- max_depth: Kedalaman maksimum pohon\n",
        "- min_child_weight: Ini adalah jumlah bobot minimum dari semua pengamatan yang diperlukan pada seorang anak\n",
        "- gamma: Sebuah node dipecah hanya ketika hasil split memberikan pengurangan positif pada fungsi kerugian. Gamma menentukan pengurangan kerugian minimum yang diperlukan untuk membuat split\n",
        "- subsampel: Menunjukkan fraksi pengamatan menjadi sampel acak untuk setiap pohon"
      ],
      "metadata": {
        "id": "hnQ2RmYiChLE"
      }
    },
    {
      "cell_type": "code",
      "source": [
        "param_test1 = {\n",
        " 'max_depth':range(3,10,2),\n",
        " 'min_child_weight':range(1,6,2)\n",
        "}\n",
        "gsearch1 = GridSearchCV(estimator = XGBClassifier( learning_rate =0.1, n_estimators=140, max_depth=5,\n",
        " min_child_weight=1, gamma=0, subsample=0.8, colsample_bytree=0.8,\n",
        " objective= 'binary:logistic', nthread=4, scale_pos_weight=1, seed=27), \n",
        " param_grid = param_test1, scoring='roc_auc',n_jobs=4, cv=5)\n",
        "gsearch1.fit(X_train_res, y_train_res)"
      ],
      "metadata": {
        "colab": {
          "base_uri": "https://localhost:8080/",
          "height": 92
        },
        "id": "7vL2Wvc3Ctwn",
        "outputId": "9274208b-7f63-47a1-c0d4-97fda99f10c9"
      },
      "execution_count": null,
      "outputs": [
        {
          "output_type": "execute_result",
          "data": {
            "text/plain": [
              "GridSearchCV(cv=5,\n",
              "             estimator=XGBClassifier(colsample_bytree=0.8, max_depth=5,\n",
              "                                     n_estimators=140, nthread=4, seed=27,\n",
              "                                     subsample=0.8),\n",
              "             n_jobs=4,\n",
              "             param_grid={'max_depth': range(3, 10, 2),\n",
              "                         'min_child_weight': range(1, 6, 2)},\n",
              "             scoring='roc_auc')"
            ],
            "text/html": [
              "<style>#sk-8b06bcfc-b580-4f64-92a4-b341258cf957 {color: black;background-color: white;}#sk-8b06bcfc-b580-4f64-92a4-b341258cf957 pre{padding: 0;}#sk-8b06bcfc-b580-4f64-92a4-b341258cf957 div.sk-toggleable {background-color: white;}#sk-8b06bcfc-b580-4f64-92a4-b341258cf957 label.sk-toggleable__label {cursor: pointer;display: block;width: 100%;margin-bottom: 0;padding: 0.3em;box-sizing: border-box;text-align: center;}#sk-8b06bcfc-b580-4f64-92a4-b341258cf957 label.sk-toggleable__label-arrow:before {content: \"▸\";float: left;margin-right: 0.25em;color: #696969;}#sk-8b06bcfc-b580-4f64-92a4-b341258cf957 label.sk-toggleable__label-arrow:hover:before {color: black;}#sk-8b06bcfc-b580-4f64-92a4-b341258cf957 div.sk-estimator:hover label.sk-toggleable__label-arrow:before {color: black;}#sk-8b06bcfc-b580-4f64-92a4-b341258cf957 div.sk-toggleable__content {max-height: 0;max-width: 0;overflow: hidden;text-align: left;background-color: #f0f8ff;}#sk-8b06bcfc-b580-4f64-92a4-b341258cf957 div.sk-toggleable__content pre {margin: 0.2em;color: black;border-radius: 0.25em;background-color: #f0f8ff;}#sk-8b06bcfc-b580-4f64-92a4-b341258cf957 input.sk-toggleable__control:checked~div.sk-toggleable__content {max-height: 200px;max-width: 100%;overflow: auto;}#sk-8b06bcfc-b580-4f64-92a4-b341258cf957 input.sk-toggleable__control:checked~label.sk-toggleable__label-arrow:before {content: \"▾\";}#sk-8b06bcfc-b580-4f64-92a4-b341258cf957 div.sk-estimator input.sk-toggleable__control:checked~label.sk-toggleable__label {background-color: #d4ebff;}#sk-8b06bcfc-b580-4f64-92a4-b341258cf957 div.sk-label input.sk-toggleable__control:checked~label.sk-toggleable__label {background-color: #d4ebff;}#sk-8b06bcfc-b580-4f64-92a4-b341258cf957 input.sk-hidden--visually {border: 0;clip: rect(1px 1px 1px 1px);clip: rect(1px, 1px, 1px, 1px);height: 1px;margin: -1px;overflow: hidden;padding: 0;position: absolute;width: 1px;}#sk-8b06bcfc-b580-4f64-92a4-b341258cf957 div.sk-estimator {font-family: monospace;background-color: #f0f8ff;border: 1px dotted black;border-radius: 0.25em;box-sizing: border-box;margin-bottom: 0.5em;}#sk-8b06bcfc-b580-4f64-92a4-b341258cf957 div.sk-estimator:hover {background-color: #d4ebff;}#sk-8b06bcfc-b580-4f64-92a4-b341258cf957 div.sk-parallel-item::after {content: \"\";width: 100%;border-bottom: 1px solid gray;flex-grow: 1;}#sk-8b06bcfc-b580-4f64-92a4-b341258cf957 div.sk-label:hover label.sk-toggleable__label {background-color: #d4ebff;}#sk-8b06bcfc-b580-4f64-92a4-b341258cf957 div.sk-serial::before {content: \"\";position: absolute;border-left: 1px solid gray;box-sizing: border-box;top: 2em;bottom: 0;left: 50%;}#sk-8b06bcfc-b580-4f64-92a4-b341258cf957 div.sk-serial {display: flex;flex-direction: column;align-items: center;background-color: white;padding-right: 0.2em;padding-left: 0.2em;}#sk-8b06bcfc-b580-4f64-92a4-b341258cf957 div.sk-item {z-index: 1;}#sk-8b06bcfc-b580-4f64-92a4-b341258cf957 div.sk-parallel {display: flex;align-items: stretch;justify-content: center;background-color: white;}#sk-8b06bcfc-b580-4f64-92a4-b341258cf957 div.sk-parallel::before {content: \"\";position: absolute;border-left: 1px solid gray;box-sizing: border-box;top: 2em;bottom: 0;left: 50%;}#sk-8b06bcfc-b580-4f64-92a4-b341258cf957 div.sk-parallel-item {display: flex;flex-direction: column;position: relative;background-color: white;}#sk-8b06bcfc-b580-4f64-92a4-b341258cf957 div.sk-parallel-item:first-child::after {align-self: flex-end;width: 50%;}#sk-8b06bcfc-b580-4f64-92a4-b341258cf957 div.sk-parallel-item:last-child::after {align-self: flex-start;width: 50%;}#sk-8b06bcfc-b580-4f64-92a4-b341258cf957 div.sk-parallel-item:only-child::after {width: 0;}#sk-8b06bcfc-b580-4f64-92a4-b341258cf957 div.sk-dashed-wrapped {border: 1px dashed gray;margin: 0 0.4em 0.5em 0.4em;box-sizing: border-box;padding-bottom: 0.4em;background-color: white;position: relative;}#sk-8b06bcfc-b580-4f64-92a4-b341258cf957 div.sk-label label {font-family: monospace;font-weight: bold;background-color: white;display: inline-block;line-height: 1.2em;}#sk-8b06bcfc-b580-4f64-92a4-b341258cf957 div.sk-label-container {position: relative;z-index: 2;text-align: center;}#sk-8b06bcfc-b580-4f64-92a4-b341258cf957 div.sk-container {/* jupyter's `normalize.less` sets `[hidden] { display: none; }` but bootstrap.min.css set `[hidden] { display: none !important; }` so we also need the `!important` here to be able to override the default hidden behavior on the sphinx rendered scikit-learn.org. See: https://github.com/scikit-learn/scikit-learn/issues/21755 */display: inline-block !important;position: relative;}#sk-8b06bcfc-b580-4f64-92a4-b341258cf957 div.sk-text-repr-fallback {display: none;}</style><div id=\"sk-8b06bcfc-b580-4f64-92a4-b341258cf957\" class=\"sk-top-container\"><div class=\"sk-text-repr-fallback\"><pre>GridSearchCV(cv=5,\n",
              "             estimator=XGBClassifier(colsample_bytree=0.8, max_depth=5,\n",
              "                                     n_estimators=140, nthread=4, seed=27,\n",
              "                                     subsample=0.8),\n",
              "             n_jobs=4,\n",
              "             param_grid={&#x27;max_depth&#x27;: range(3, 10, 2),\n",
              "                         &#x27;min_child_weight&#x27;: range(1, 6, 2)},\n",
              "             scoring=&#x27;roc_auc&#x27;)</pre><b>Please rerun this cell to show the HTML repr or trust the notebook.</b></div><div class=\"sk-container\" hidden><div class=\"sk-item sk-dashed-wrapped\"><div class=\"sk-label-container\"><div class=\"sk-label sk-toggleable\"><input class=\"sk-toggleable__control sk-hidden--visually\" id=\"978eb707-3c37-427e-80ac-2bbe2f42b241\" type=\"checkbox\" ><label for=\"978eb707-3c37-427e-80ac-2bbe2f42b241\" class=\"sk-toggleable__label sk-toggleable__label-arrow\">GridSearchCV</label><div class=\"sk-toggleable__content\"><pre>GridSearchCV(cv=5,\n",
              "             estimator=XGBClassifier(colsample_bytree=0.8, max_depth=5,\n",
              "                                     n_estimators=140, nthread=4, seed=27,\n",
              "                                     subsample=0.8),\n",
              "             n_jobs=4,\n",
              "             param_grid={&#x27;max_depth&#x27;: range(3, 10, 2),\n",
              "                         &#x27;min_child_weight&#x27;: range(1, 6, 2)},\n",
              "             scoring=&#x27;roc_auc&#x27;)</pre></div></div></div><div class=\"sk-parallel\"><div class=\"sk-parallel-item\"><div class=\"sk-item\"><div class=\"sk-serial\"><div class=\"sk-item\"><div class=\"sk-estimator sk-toggleable\"><input class=\"sk-toggleable__control sk-hidden--visually\" id=\"a8ffded8-79f7-49e4-a84c-06b484668fbd\" type=\"checkbox\" ><label for=\"a8ffded8-79f7-49e4-a84c-06b484668fbd\" class=\"sk-toggleable__label sk-toggleable__label-arrow\">XGBClassifier</label><div class=\"sk-toggleable__content\"><pre>XGBClassifier(colsample_bytree=0.8, max_depth=5, n_estimators=140, nthread=4,\n",
              "              seed=27, subsample=0.8)</pre></div></div></div></div></div></div></div></div></div></div>"
            ]
          },
          "metadata": {},
          "execution_count": 98
        }
      ]
    },
    {
      "cell_type": "code",
      "source": [
        "gsearch1.best_params_, gsearch1.best_score_"
      ],
      "metadata": {
        "colab": {
          "base_uri": "https://localhost:8080/"
        },
        "id": "PdqMyE44Cvww",
        "outputId": "75d2824a-bbd2-45af-e2f6-2d5f601bc050"
      },
      "execution_count": null,
      "outputs": [
        {
          "output_type": "execute_result",
          "data": {
            "text/plain": [
              "({'max_depth': 9, 'min_child_weight': 1}, 0.9592374507898859)"
            ]
          },
          "metadata": {},
          "execution_count": 99
        }
      ]
    },
    {
      "cell_type": "code",
      "source": [
        "param_test2 = {\n",
        " 'max_depth':[4,5,6],\n",
        " 'min_child_weight':[4,5,6]\n",
        "}\n",
        "gsearch2 = GridSearchCV(estimator = XGBClassifier( learning_rate=0.1, n_estimators=140, max_depth=5,\n",
        " min_child_weight=2, gamma=0, subsample=0.8, colsample_bytree=0.8,\n",
        " objective= 'binary:logistic', nthread=4, scale_pos_weight=1,seed=27), \n",
        " param_grid = param_test2, scoring='roc_auc',n_jobs=4, cv=5)\n",
        "gsearch2.fit(X_train_res, y_train_res)"
      ],
      "metadata": {
        "colab": {
          "base_uri": "https://localhost:8080/",
          "height": 92
        },
        "id": "2qdM2bIMCxyW",
        "outputId": "a2b0019f-1b88-4a76-acf7-991ca9c5b405"
      },
      "execution_count": null,
      "outputs": [
        {
          "output_type": "execute_result",
          "data": {
            "text/plain": [
              "GridSearchCV(cv=5,\n",
              "             estimator=XGBClassifier(colsample_bytree=0.8, max_depth=5,\n",
              "                                     min_child_weight=2, n_estimators=140,\n",
              "                                     nthread=4, seed=27, subsample=0.8),\n",
              "             n_jobs=4,\n",
              "             param_grid={'max_depth': [4, 5, 6], 'min_child_weight': [4, 5, 6]},\n",
              "             scoring='roc_auc')"
            ],
            "text/html": [
              "<style>#sk-057681b7-0e16-48f6-b561-a8e1fd401f50 {color: black;background-color: white;}#sk-057681b7-0e16-48f6-b561-a8e1fd401f50 pre{padding: 0;}#sk-057681b7-0e16-48f6-b561-a8e1fd401f50 div.sk-toggleable {background-color: white;}#sk-057681b7-0e16-48f6-b561-a8e1fd401f50 label.sk-toggleable__label {cursor: pointer;display: block;width: 100%;margin-bottom: 0;padding: 0.3em;box-sizing: border-box;text-align: center;}#sk-057681b7-0e16-48f6-b561-a8e1fd401f50 label.sk-toggleable__label-arrow:before {content: \"▸\";float: left;margin-right: 0.25em;color: #696969;}#sk-057681b7-0e16-48f6-b561-a8e1fd401f50 label.sk-toggleable__label-arrow:hover:before {color: black;}#sk-057681b7-0e16-48f6-b561-a8e1fd401f50 div.sk-estimator:hover label.sk-toggleable__label-arrow:before {color: black;}#sk-057681b7-0e16-48f6-b561-a8e1fd401f50 div.sk-toggleable__content {max-height: 0;max-width: 0;overflow: hidden;text-align: left;background-color: #f0f8ff;}#sk-057681b7-0e16-48f6-b561-a8e1fd401f50 div.sk-toggleable__content pre {margin: 0.2em;color: black;border-radius: 0.25em;background-color: #f0f8ff;}#sk-057681b7-0e16-48f6-b561-a8e1fd401f50 input.sk-toggleable__control:checked~div.sk-toggleable__content {max-height: 200px;max-width: 100%;overflow: auto;}#sk-057681b7-0e16-48f6-b561-a8e1fd401f50 input.sk-toggleable__control:checked~label.sk-toggleable__label-arrow:before {content: \"▾\";}#sk-057681b7-0e16-48f6-b561-a8e1fd401f50 div.sk-estimator input.sk-toggleable__control:checked~label.sk-toggleable__label {background-color: #d4ebff;}#sk-057681b7-0e16-48f6-b561-a8e1fd401f50 div.sk-label input.sk-toggleable__control:checked~label.sk-toggleable__label {background-color: #d4ebff;}#sk-057681b7-0e16-48f6-b561-a8e1fd401f50 input.sk-hidden--visually {border: 0;clip: rect(1px 1px 1px 1px);clip: rect(1px, 1px, 1px, 1px);height: 1px;margin: -1px;overflow: hidden;padding: 0;position: absolute;width: 1px;}#sk-057681b7-0e16-48f6-b561-a8e1fd401f50 div.sk-estimator {font-family: monospace;background-color: #f0f8ff;border: 1px dotted black;border-radius: 0.25em;box-sizing: border-box;margin-bottom: 0.5em;}#sk-057681b7-0e16-48f6-b561-a8e1fd401f50 div.sk-estimator:hover {background-color: #d4ebff;}#sk-057681b7-0e16-48f6-b561-a8e1fd401f50 div.sk-parallel-item::after {content: \"\";width: 100%;border-bottom: 1px solid gray;flex-grow: 1;}#sk-057681b7-0e16-48f6-b561-a8e1fd401f50 div.sk-label:hover label.sk-toggleable__label {background-color: #d4ebff;}#sk-057681b7-0e16-48f6-b561-a8e1fd401f50 div.sk-serial::before {content: \"\";position: absolute;border-left: 1px solid gray;box-sizing: border-box;top: 2em;bottom: 0;left: 50%;}#sk-057681b7-0e16-48f6-b561-a8e1fd401f50 div.sk-serial {display: flex;flex-direction: column;align-items: center;background-color: white;padding-right: 0.2em;padding-left: 0.2em;}#sk-057681b7-0e16-48f6-b561-a8e1fd401f50 div.sk-item {z-index: 1;}#sk-057681b7-0e16-48f6-b561-a8e1fd401f50 div.sk-parallel {display: flex;align-items: stretch;justify-content: center;background-color: white;}#sk-057681b7-0e16-48f6-b561-a8e1fd401f50 div.sk-parallel::before {content: \"\";position: absolute;border-left: 1px solid gray;box-sizing: border-box;top: 2em;bottom: 0;left: 50%;}#sk-057681b7-0e16-48f6-b561-a8e1fd401f50 div.sk-parallel-item {display: flex;flex-direction: column;position: relative;background-color: white;}#sk-057681b7-0e16-48f6-b561-a8e1fd401f50 div.sk-parallel-item:first-child::after {align-self: flex-end;width: 50%;}#sk-057681b7-0e16-48f6-b561-a8e1fd401f50 div.sk-parallel-item:last-child::after {align-self: flex-start;width: 50%;}#sk-057681b7-0e16-48f6-b561-a8e1fd401f50 div.sk-parallel-item:only-child::after {width: 0;}#sk-057681b7-0e16-48f6-b561-a8e1fd401f50 div.sk-dashed-wrapped {border: 1px dashed gray;margin: 0 0.4em 0.5em 0.4em;box-sizing: border-box;padding-bottom: 0.4em;background-color: white;position: relative;}#sk-057681b7-0e16-48f6-b561-a8e1fd401f50 div.sk-label label {font-family: monospace;font-weight: bold;background-color: white;display: inline-block;line-height: 1.2em;}#sk-057681b7-0e16-48f6-b561-a8e1fd401f50 div.sk-label-container {position: relative;z-index: 2;text-align: center;}#sk-057681b7-0e16-48f6-b561-a8e1fd401f50 div.sk-container {/* jupyter's `normalize.less` sets `[hidden] { display: none; }` but bootstrap.min.css set `[hidden] { display: none !important; }` so we also need the `!important` here to be able to override the default hidden behavior on the sphinx rendered scikit-learn.org. See: https://github.com/scikit-learn/scikit-learn/issues/21755 */display: inline-block !important;position: relative;}#sk-057681b7-0e16-48f6-b561-a8e1fd401f50 div.sk-text-repr-fallback {display: none;}</style><div id=\"sk-057681b7-0e16-48f6-b561-a8e1fd401f50\" class=\"sk-top-container\"><div class=\"sk-text-repr-fallback\"><pre>GridSearchCV(cv=5,\n",
              "             estimator=XGBClassifier(colsample_bytree=0.8, max_depth=5,\n",
              "                                     min_child_weight=2, n_estimators=140,\n",
              "                                     nthread=4, seed=27, subsample=0.8),\n",
              "             n_jobs=4,\n",
              "             param_grid={&#x27;max_depth&#x27;: [4, 5, 6], &#x27;min_child_weight&#x27;: [4, 5, 6]},\n",
              "             scoring=&#x27;roc_auc&#x27;)</pre><b>Please rerun this cell to show the HTML repr or trust the notebook.</b></div><div class=\"sk-container\" hidden><div class=\"sk-item sk-dashed-wrapped\"><div class=\"sk-label-container\"><div class=\"sk-label sk-toggleable\"><input class=\"sk-toggleable__control sk-hidden--visually\" id=\"1b50f069-19f8-45d4-ac91-da2ba2381f68\" type=\"checkbox\" ><label for=\"1b50f069-19f8-45d4-ac91-da2ba2381f68\" class=\"sk-toggleable__label sk-toggleable__label-arrow\">GridSearchCV</label><div class=\"sk-toggleable__content\"><pre>GridSearchCV(cv=5,\n",
              "             estimator=XGBClassifier(colsample_bytree=0.8, max_depth=5,\n",
              "                                     min_child_weight=2, n_estimators=140,\n",
              "                                     nthread=4, seed=27, subsample=0.8),\n",
              "             n_jobs=4,\n",
              "             param_grid={&#x27;max_depth&#x27;: [4, 5, 6], &#x27;min_child_weight&#x27;: [4, 5, 6]},\n",
              "             scoring=&#x27;roc_auc&#x27;)</pre></div></div></div><div class=\"sk-parallel\"><div class=\"sk-parallel-item\"><div class=\"sk-item\"><div class=\"sk-serial\"><div class=\"sk-item\"><div class=\"sk-estimator sk-toggleable\"><input class=\"sk-toggleable__control sk-hidden--visually\" id=\"97c79cd9-8e4c-4687-92e6-90eccfdc3959\" type=\"checkbox\" ><label for=\"97c79cd9-8e4c-4687-92e6-90eccfdc3959\" class=\"sk-toggleable__label sk-toggleable__label-arrow\">XGBClassifier</label><div class=\"sk-toggleable__content\"><pre>XGBClassifier(colsample_bytree=0.8, max_depth=5, min_child_weight=2,\n",
              "              n_estimators=140, nthread=4, seed=27, subsample=0.8)</pre></div></div></div></div></div></div></div></div></div></div>"
            ]
          },
          "metadata": {},
          "execution_count": 101
        }
      ]
    },
    {
      "cell_type": "code",
      "source": [
        "gsearch2.best_params_, gsearch2.best_score_\n",
        "\n"
      ],
      "metadata": {
        "colab": {
          "base_uri": "https://localhost:8080/"
        },
        "id": "w922DShbCz__",
        "outputId": "15acfd70-212a-42c1-e6e9-47391684030d"
      },
      "execution_count": null,
      "outputs": [
        {
          "output_type": "execute_result",
          "data": {
            "text/plain": [
              "({'max_depth': 6, 'min_child_weight': 5}, 0.9493137746571815)"
            ]
          },
          "metadata": {},
          "execution_count": 102
        }
      ]
    },
    {
      "cell_type": "code",
      "source": [
        "param_test3 = {\n",
        " 'gamma':[i/10.0 for i in range(0,5)]\n",
        "}\n",
        "gsearch3 = GridSearchCV(estimator = XGBClassifier( learning_rate =0.1, n_estimators=140, max_depth=9,\n",
        " min_child_weight=2, gamma=0, subsample=0.8, colsample_bytree=0.8,\n",
        " objective= 'binary:logistic', nthread=4, scale_pos_weight=1,seed=27), \n",
        " param_grid = param_test3, scoring='roc_auc',n_jobs=4, cv=5)\n",
        "gsearch3.fit(X_train_res, y_train_res)"
      ],
      "metadata": {
        "colab": {
          "base_uri": "https://localhost:8080/",
          "height": 92
        },
        "id": "TZfWPxasC2Go",
        "outputId": "ed33f64f-453a-4172-b7e3-b2a7f662f8b8"
      },
      "execution_count": null,
      "outputs": [
        {
          "output_type": "execute_result",
          "data": {
            "text/plain": [
              "GridSearchCV(cv=5,\n",
              "             estimator=XGBClassifier(colsample_bytree=0.8, max_depth=9,\n",
              "                                     min_child_weight=2, n_estimators=140,\n",
              "                                     nthread=4, seed=27, subsample=0.8),\n",
              "             n_jobs=4, param_grid={'gamma': [0.0, 0.1, 0.2, 0.3, 0.4]},\n",
              "             scoring='roc_auc')"
            ],
            "text/html": [
              "<style>#sk-03b240c5-3b23-4d9a-9f59-1ef3725bc20d {color: black;background-color: white;}#sk-03b240c5-3b23-4d9a-9f59-1ef3725bc20d pre{padding: 0;}#sk-03b240c5-3b23-4d9a-9f59-1ef3725bc20d div.sk-toggleable {background-color: white;}#sk-03b240c5-3b23-4d9a-9f59-1ef3725bc20d label.sk-toggleable__label {cursor: pointer;display: block;width: 100%;margin-bottom: 0;padding: 0.3em;box-sizing: border-box;text-align: center;}#sk-03b240c5-3b23-4d9a-9f59-1ef3725bc20d label.sk-toggleable__label-arrow:before {content: \"▸\";float: left;margin-right: 0.25em;color: #696969;}#sk-03b240c5-3b23-4d9a-9f59-1ef3725bc20d label.sk-toggleable__label-arrow:hover:before {color: black;}#sk-03b240c5-3b23-4d9a-9f59-1ef3725bc20d div.sk-estimator:hover label.sk-toggleable__label-arrow:before {color: black;}#sk-03b240c5-3b23-4d9a-9f59-1ef3725bc20d div.sk-toggleable__content {max-height: 0;max-width: 0;overflow: hidden;text-align: left;background-color: #f0f8ff;}#sk-03b240c5-3b23-4d9a-9f59-1ef3725bc20d div.sk-toggleable__content pre {margin: 0.2em;color: black;border-radius: 0.25em;background-color: #f0f8ff;}#sk-03b240c5-3b23-4d9a-9f59-1ef3725bc20d input.sk-toggleable__control:checked~div.sk-toggleable__content {max-height: 200px;max-width: 100%;overflow: auto;}#sk-03b240c5-3b23-4d9a-9f59-1ef3725bc20d input.sk-toggleable__control:checked~label.sk-toggleable__label-arrow:before {content: \"▾\";}#sk-03b240c5-3b23-4d9a-9f59-1ef3725bc20d div.sk-estimator input.sk-toggleable__control:checked~label.sk-toggleable__label {background-color: #d4ebff;}#sk-03b240c5-3b23-4d9a-9f59-1ef3725bc20d div.sk-label input.sk-toggleable__control:checked~label.sk-toggleable__label {background-color: #d4ebff;}#sk-03b240c5-3b23-4d9a-9f59-1ef3725bc20d input.sk-hidden--visually {border: 0;clip: rect(1px 1px 1px 1px);clip: rect(1px, 1px, 1px, 1px);height: 1px;margin: -1px;overflow: hidden;padding: 0;position: absolute;width: 1px;}#sk-03b240c5-3b23-4d9a-9f59-1ef3725bc20d div.sk-estimator {font-family: monospace;background-color: #f0f8ff;border: 1px dotted black;border-radius: 0.25em;box-sizing: border-box;margin-bottom: 0.5em;}#sk-03b240c5-3b23-4d9a-9f59-1ef3725bc20d div.sk-estimator:hover {background-color: #d4ebff;}#sk-03b240c5-3b23-4d9a-9f59-1ef3725bc20d div.sk-parallel-item::after {content: \"\";width: 100%;border-bottom: 1px solid gray;flex-grow: 1;}#sk-03b240c5-3b23-4d9a-9f59-1ef3725bc20d div.sk-label:hover label.sk-toggleable__label {background-color: #d4ebff;}#sk-03b240c5-3b23-4d9a-9f59-1ef3725bc20d div.sk-serial::before {content: \"\";position: absolute;border-left: 1px solid gray;box-sizing: border-box;top: 2em;bottom: 0;left: 50%;}#sk-03b240c5-3b23-4d9a-9f59-1ef3725bc20d div.sk-serial {display: flex;flex-direction: column;align-items: center;background-color: white;padding-right: 0.2em;padding-left: 0.2em;}#sk-03b240c5-3b23-4d9a-9f59-1ef3725bc20d div.sk-item {z-index: 1;}#sk-03b240c5-3b23-4d9a-9f59-1ef3725bc20d div.sk-parallel {display: flex;align-items: stretch;justify-content: center;background-color: white;}#sk-03b240c5-3b23-4d9a-9f59-1ef3725bc20d div.sk-parallel::before {content: \"\";position: absolute;border-left: 1px solid gray;box-sizing: border-box;top: 2em;bottom: 0;left: 50%;}#sk-03b240c5-3b23-4d9a-9f59-1ef3725bc20d div.sk-parallel-item {display: flex;flex-direction: column;position: relative;background-color: white;}#sk-03b240c5-3b23-4d9a-9f59-1ef3725bc20d div.sk-parallel-item:first-child::after {align-self: flex-end;width: 50%;}#sk-03b240c5-3b23-4d9a-9f59-1ef3725bc20d div.sk-parallel-item:last-child::after {align-self: flex-start;width: 50%;}#sk-03b240c5-3b23-4d9a-9f59-1ef3725bc20d div.sk-parallel-item:only-child::after {width: 0;}#sk-03b240c5-3b23-4d9a-9f59-1ef3725bc20d div.sk-dashed-wrapped {border: 1px dashed gray;margin: 0 0.4em 0.5em 0.4em;box-sizing: border-box;padding-bottom: 0.4em;background-color: white;position: relative;}#sk-03b240c5-3b23-4d9a-9f59-1ef3725bc20d div.sk-label label {font-family: monospace;font-weight: bold;background-color: white;display: inline-block;line-height: 1.2em;}#sk-03b240c5-3b23-4d9a-9f59-1ef3725bc20d div.sk-label-container {position: relative;z-index: 2;text-align: center;}#sk-03b240c5-3b23-4d9a-9f59-1ef3725bc20d div.sk-container {/* jupyter's `normalize.less` sets `[hidden] { display: none; }` but bootstrap.min.css set `[hidden] { display: none !important; }` so we also need the `!important` here to be able to override the default hidden behavior on the sphinx rendered scikit-learn.org. See: https://github.com/scikit-learn/scikit-learn/issues/21755 */display: inline-block !important;position: relative;}#sk-03b240c5-3b23-4d9a-9f59-1ef3725bc20d div.sk-text-repr-fallback {display: none;}</style><div id=\"sk-03b240c5-3b23-4d9a-9f59-1ef3725bc20d\" class=\"sk-top-container\"><div class=\"sk-text-repr-fallback\"><pre>GridSearchCV(cv=5,\n",
              "             estimator=XGBClassifier(colsample_bytree=0.8, max_depth=9,\n",
              "                                     min_child_weight=2, n_estimators=140,\n",
              "                                     nthread=4, seed=27, subsample=0.8),\n",
              "             n_jobs=4, param_grid={&#x27;gamma&#x27;: [0.0, 0.1, 0.2, 0.3, 0.4]},\n",
              "             scoring=&#x27;roc_auc&#x27;)</pre><b>Please rerun this cell to show the HTML repr or trust the notebook.</b></div><div class=\"sk-container\" hidden><div class=\"sk-item sk-dashed-wrapped\"><div class=\"sk-label-container\"><div class=\"sk-label sk-toggleable\"><input class=\"sk-toggleable__control sk-hidden--visually\" id=\"418fc7f5-29ab-449e-ad9e-2d8ad9222515\" type=\"checkbox\" ><label for=\"418fc7f5-29ab-449e-ad9e-2d8ad9222515\" class=\"sk-toggleable__label sk-toggleable__label-arrow\">GridSearchCV</label><div class=\"sk-toggleable__content\"><pre>GridSearchCV(cv=5,\n",
              "             estimator=XGBClassifier(colsample_bytree=0.8, max_depth=9,\n",
              "                                     min_child_weight=2, n_estimators=140,\n",
              "                                     nthread=4, seed=27, subsample=0.8),\n",
              "             n_jobs=4, param_grid={&#x27;gamma&#x27;: [0.0, 0.1, 0.2, 0.3, 0.4]},\n",
              "             scoring=&#x27;roc_auc&#x27;)</pre></div></div></div><div class=\"sk-parallel\"><div class=\"sk-parallel-item\"><div class=\"sk-item\"><div class=\"sk-serial\"><div class=\"sk-item\"><div class=\"sk-estimator sk-toggleable\"><input class=\"sk-toggleable__control sk-hidden--visually\" id=\"da8fb557-34f3-4b53-a926-00a00eae71f1\" type=\"checkbox\" ><label for=\"da8fb557-34f3-4b53-a926-00a00eae71f1\" class=\"sk-toggleable__label sk-toggleable__label-arrow\">XGBClassifier</label><div class=\"sk-toggleable__content\"><pre>XGBClassifier(colsample_bytree=0.8, max_depth=9, min_child_weight=2,\n",
              "              n_estimators=140, nthread=4, seed=27, subsample=0.8)</pre></div></div></div></div></div></div></div></div></div></div>"
            ]
          },
          "metadata": {},
          "execution_count": 103
        }
      ]
    },
    {
      "cell_type": "code",
      "source": [
        "gsearch3.best_params_, gsearch3.best_score_"
      ],
      "metadata": {
        "colab": {
          "base_uri": "https://localhost:8080/"
        },
        "id": "dsFuoaluC4wi",
        "outputId": "fa36fe22-3d05-4b54-9a2a-84a90ad62456"
      },
      "execution_count": null,
      "outputs": [
        {
          "output_type": "execute_result",
          "data": {
            "text/plain": [
              "({'gamma': 0.0}, 0.9586734905149982)"
            ]
          },
          "metadata": {},
          "execution_count": 104
        }
      ]
    },
    {
      "cell_type": "code",
      "source": [
        "param_test6 = {\n",
        " 'reg_alpha':[1e-5, 1e-2, 0.1, 1, 100]\n",
        "}\n",
        "gsearch6 = GridSearchCV(estimator = XGBClassifier( learning_rate =0.1, n_estimators=177, max_depth=5,\n",
        " min_child_weight=1, gamma=0.2, subsample=0.8, colsample_bytree=0.8,\n",
        " objective= 'binary:logistic', nthread=4, scale_pos_weight=1,seed=27), \n",
        " param_grid = param_test6, scoring='roc_auc',n_jobs=4, cv=5)\n",
        "\n",
        "gsearch6.fit(X_train_res, y_train_res)"
      ],
      "metadata": {
        "colab": {
          "base_uri": "https://localhost:8080/",
          "height": 92
        },
        "id": "Sr8Nd10sC66x",
        "outputId": "03f482c4-33b6-48a5-efee-45e1f612a44f"
      },
      "execution_count": null,
      "outputs": [
        {
          "output_type": "execute_result",
          "data": {
            "text/plain": [
              "GridSearchCV(cv=5,\n",
              "             estimator=XGBClassifier(colsample_bytree=0.8, gamma=0.2,\n",
              "                                     max_depth=5, n_estimators=177, nthread=4,\n",
              "                                     seed=27, subsample=0.8),\n",
              "             n_jobs=4, param_grid={'reg_alpha': [1e-05, 0.01, 0.1, 1, 100]},\n",
              "             scoring='roc_auc')"
            ],
            "text/html": [
              "<style>#sk-dc4ddd20-35c1-40fd-974d-ca31857b5e10 {color: black;background-color: white;}#sk-dc4ddd20-35c1-40fd-974d-ca31857b5e10 pre{padding: 0;}#sk-dc4ddd20-35c1-40fd-974d-ca31857b5e10 div.sk-toggleable {background-color: white;}#sk-dc4ddd20-35c1-40fd-974d-ca31857b5e10 label.sk-toggleable__label {cursor: pointer;display: block;width: 100%;margin-bottom: 0;padding: 0.3em;box-sizing: border-box;text-align: center;}#sk-dc4ddd20-35c1-40fd-974d-ca31857b5e10 label.sk-toggleable__label-arrow:before {content: \"▸\";float: left;margin-right: 0.25em;color: #696969;}#sk-dc4ddd20-35c1-40fd-974d-ca31857b5e10 label.sk-toggleable__label-arrow:hover:before {color: black;}#sk-dc4ddd20-35c1-40fd-974d-ca31857b5e10 div.sk-estimator:hover label.sk-toggleable__label-arrow:before {color: black;}#sk-dc4ddd20-35c1-40fd-974d-ca31857b5e10 div.sk-toggleable__content {max-height: 0;max-width: 0;overflow: hidden;text-align: left;background-color: #f0f8ff;}#sk-dc4ddd20-35c1-40fd-974d-ca31857b5e10 div.sk-toggleable__content pre {margin: 0.2em;color: black;border-radius: 0.25em;background-color: #f0f8ff;}#sk-dc4ddd20-35c1-40fd-974d-ca31857b5e10 input.sk-toggleable__control:checked~div.sk-toggleable__content {max-height: 200px;max-width: 100%;overflow: auto;}#sk-dc4ddd20-35c1-40fd-974d-ca31857b5e10 input.sk-toggleable__control:checked~label.sk-toggleable__label-arrow:before {content: \"▾\";}#sk-dc4ddd20-35c1-40fd-974d-ca31857b5e10 div.sk-estimator input.sk-toggleable__control:checked~label.sk-toggleable__label {background-color: #d4ebff;}#sk-dc4ddd20-35c1-40fd-974d-ca31857b5e10 div.sk-label input.sk-toggleable__control:checked~label.sk-toggleable__label {background-color: #d4ebff;}#sk-dc4ddd20-35c1-40fd-974d-ca31857b5e10 input.sk-hidden--visually {border: 0;clip: rect(1px 1px 1px 1px);clip: rect(1px, 1px, 1px, 1px);height: 1px;margin: -1px;overflow: hidden;padding: 0;position: absolute;width: 1px;}#sk-dc4ddd20-35c1-40fd-974d-ca31857b5e10 div.sk-estimator {font-family: monospace;background-color: #f0f8ff;border: 1px dotted black;border-radius: 0.25em;box-sizing: border-box;margin-bottom: 0.5em;}#sk-dc4ddd20-35c1-40fd-974d-ca31857b5e10 div.sk-estimator:hover {background-color: #d4ebff;}#sk-dc4ddd20-35c1-40fd-974d-ca31857b5e10 div.sk-parallel-item::after {content: \"\";width: 100%;border-bottom: 1px solid gray;flex-grow: 1;}#sk-dc4ddd20-35c1-40fd-974d-ca31857b5e10 div.sk-label:hover label.sk-toggleable__label {background-color: #d4ebff;}#sk-dc4ddd20-35c1-40fd-974d-ca31857b5e10 div.sk-serial::before {content: \"\";position: absolute;border-left: 1px solid gray;box-sizing: border-box;top: 2em;bottom: 0;left: 50%;}#sk-dc4ddd20-35c1-40fd-974d-ca31857b5e10 div.sk-serial {display: flex;flex-direction: column;align-items: center;background-color: white;padding-right: 0.2em;padding-left: 0.2em;}#sk-dc4ddd20-35c1-40fd-974d-ca31857b5e10 div.sk-item {z-index: 1;}#sk-dc4ddd20-35c1-40fd-974d-ca31857b5e10 div.sk-parallel {display: flex;align-items: stretch;justify-content: center;background-color: white;}#sk-dc4ddd20-35c1-40fd-974d-ca31857b5e10 div.sk-parallel::before {content: \"\";position: absolute;border-left: 1px solid gray;box-sizing: border-box;top: 2em;bottom: 0;left: 50%;}#sk-dc4ddd20-35c1-40fd-974d-ca31857b5e10 div.sk-parallel-item {display: flex;flex-direction: column;position: relative;background-color: white;}#sk-dc4ddd20-35c1-40fd-974d-ca31857b5e10 div.sk-parallel-item:first-child::after {align-self: flex-end;width: 50%;}#sk-dc4ddd20-35c1-40fd-974d-ca31857b5e10 div.sk-parallel-item:last-child::after {align-self: flex-start;width: 50%;}#sk-dc4ddd20-35c1-40fd-974d-ca31857b5e10 div.sk-parallel-item:only-child::after {width: 0;}#sk-dc4ddd20-35c1-40fd-974d-ca31857b5e10 div.sk-dashed-wrapped {border: 1px dashed gray;margin: 0 0.4em 0.5em 0.4em;box-sizing: border-box;padding-bottom: 0.4em;background-color: white;position: relative;}#sk-dc4ddd20-35c1-40fd-974d-ca31857b5e10 div.sk-label label {font-family: monospace;font-weight: bold;background-color: white;display: inline-block;line-height: 1.2em;}#sk-dc4ddd20-35c1-40fd-974d-ca31857b5e10 div.sk-label-container {position: relative;z-index: 2;text-align: center;}#sk-dc4ddd20-35c1-40fd-974d-ca31857b5e10 div.sk-container {/* jupyter's `normalize.less` sets `[hidden] { display: none; }` but bootstrap.min.css set `[hidden] { display: none !important; }` so we also need the `!important` here to be able to override the default hidden behavior on the sphinx rendered scikit-learn.org. See: https://github.com/scikit-learn/scikit-learn/issues/21755 */display: inline-block !important;position: relative;}#sk-dc4ddd20-35c1-40fd-974d-ca31857b5e10 div.sk-text-repr-fallback {display: none;}</style><div id=\"sk-dc4ddd20-35c1-40fd-974d-ca31857b5e10\" class=\"sk-top-container\"><div class=\"sk-text-repr-fallback\"><pre>GridSearchCV(cv=5,\n",
              "             estimator=XGBClassifier(colsample_bytree=0.8, gamma=0.2,\n",
              "                                     max_depth=5, n_estimators=177, nthread=4,\n",
              "                                     seed=27, subsample=0.8),\n",
              "             n_jobs=4, param_grid={&#x27;reg_alpha&#x27;: [1e-05, 0.01, 0.1, 1, 100]},\n",
              "             scoring=&#x27;roc_auc&#x27;)</pre><b>Please rerun this cell to show the HTML repr or trust the notebook.</b></div><div class=\"sk-container\" hidden><div class=\"sk-item sk-dashed-wrapped\"><div class=\"sk-label-container\"><div class=\"sk-label sk-toggleable\"><input class=\"sk-toggleable__control sk-hidden--visually\" id=\"ed182097-4a31-4f91-ba98-9655b4889451\" type=\"checkbox\" ><label for=\"ed182097-4a31-4f91-ba98-9655b4889451\" class=\"sk-toggleable__label sk-toggleable__label-arrow\">GridSearchCV</label><div class=\"sk-toggleable__content\"><pre>GridSearchCV(cv=5,\n",
              "             estimator=XGBClassifier(colsample_bytree=0.8, gamma=0.2,\n",
              "                                     max_depth=5, n_estimators=177, nthread=4,\n",
              "                                     seed=27, subsample=0.8),\n",
              "             n_jobs=4, param_grid={&#x27;reg_alpha&#x27;: [1e-05, 0.01, 0.1, 1, 100]},\n",
              "             scoring=&#x27;roc_auc&#x27;)</pre></div></div></div><div class=\"sk-parallel\"><div class=\"sk-parallel-item\"><div class=\"sk-item\"><div class=\"sk-serial\"><div class=\"sk-item\"><div class=\"sk-estimator sk-toggleable\"><input class=\"sk-toggleable__control sk-hidden--visually\" id=\"70fa31d9-f527-43e5-ad06-806b9a9179bb\" type=\"checkbox\" ><label for=\"70fa31d9-f527-43e5-ad06-806b9a9179bb\" class=\"sk-toggleable__label sk-toggleable__label-arrow\">XGBClassifier</label><div class=\"sk-toggleable__content\"><pre>XGBClassifier(colsample_bytree=0.8, gamma=0.2, max_depth=5, n_estimators=177,\n",
              "              nthread=4, seed=27, subsample=0.8)</pre></div></div></div></div></div></div></div></div></div></div>"
            ]
          },
          "metadata": {},
          "execution_count": 105
        }
      ]
    },
    {
      "cell_type": "code",
      "source": [
        "gsearch6.best_params_, gsearch6.best_score_"
      ],
      "metadata": {
        "colab": {
          "base_uri": "https://localhost:8080/"
        },
        "id": "bONWx0kcC9Ir",
        "outputId": "f0e24ede-f20e-4e43-924f-1a60f7d1afd0"
      },
      "execution_count": null,
      "outputs": [
        {
          "output_type": "execute_result",
          "data": {
            "text/plain": [
              "({'reg_alpha': 1}, 0.9477897569345833)"
            ]
          },
          "metadata": {},
          "execution_count": 106
        }
      ]
    },
    {
      "cell_type": "markdown",
      "source": [
        "# Deep Learning"
      ],
      "metadata": {
        "id": "rVvrnWA7C_ih"
      }
    },
    {
      "cell_type": "code",
      "source": [
        "n_inputs = X_train_res.shape[1]\n",
        "\n",
        "model = models.Sequential()\n",
        "model.add(layers.Dense(16, activation ='relu', input_shape =(n_inputs, )))\n",
        "model.add(layers.Dense(32,activation = 'relu'))\n",
        "model.add(layers.Dense(1,activation ='sigmoid'))"
      ],
      "metadata": {
        "id": "Ybx7YUeFDBxJ"
      },
      "execution_count": null,
      "outputs": []
    },
    {
      "cell_type": "code",
      "source": [
        "model.compile(optimizer = 'rmsprop',\n",
        "             loss= 'binary_crossentropy',\n",
        "             metrics = ['accuracy'])"
      ],
      "metadata": {
        "id": "rsQWCnldDCZ7"
      },
      "execution_count": null,
      "outputs": []
    },
    {
      "cell_type": "code",
      "source": [
        "history = model.fit(X_train_res,\n",
        "                   y_train_res,\n",
        "                   epochs=150,\n",
        "                   batch_size=512,\n",
        "                   validation_data=(X_test,y_test))"
      ],
      "metadata": {
        "colab": {
          "base_uri": "https://localhost:8080/"
        },
        "id": "_zcroO4KDHWM",
        "outputId": "7eb0e44d-34ce-4035-f508-60c628319eb4"
      },
      "execution_count": null,
      "outputs": [
        {
          "output_type": "stream",
          "name": "stdout",
          "text": [
            "Epoch 1/150\n",
            "438/438 [==============================] - 2s 3ms/step - loss: 10.9593 - accuracy: 0.5041 - val_loss: 1.7909 - val_accuracy: 0.1839\n",
            "Epoch 2/150\n",
            "438/438 [==============================] - 1s 2ms/step - loss: 8.4831 - accuracy: 0.5078 - val_loss: 5.6677 - val_accuracy: 0.0973\n",
            "Epoch 3/150\n",
            "438/438 [==============================] - 1s 2ms/step - loss: 7.5944 - accuracy: 0.5074 - val_loss: 9.2457 - val_accuracy: 0.0843\n",
            "Epoch 4/150\n",
            "438/438 [==============================] - 1s 2ms/step - loss: 6.9463 - accuracy: 0.5090 - val_loss: 1.3107 - val_accuracy: 0.9340\n",
            "Epoch 5/150\n",
            "438/438 [==============================] - 1s 2ms/step - loss: 6.3466 - accuracy: 0.5102 - val_loss: 1.7548 - val_accuracy: 0.9340\n",
            "Epoch 6/150\n",
            "438/438 [==============================] - 1s 2ms/step - loss: 5.7798 - accuracy: 0.5118 - val_loss: 10.4298 - val_accuracy: 0.0728\n",
            "Epoch 7/150\n",
            "438/438 [==============================] - 1s 2ms/step - loss: 5.1578 - accuracy: 0.5135 - val_loss: 1.0964 - val_accuracy: 0.9334\n",
            "Epoch 8/150\n",
            "438/438 [==============================] - 1s 2ms/step - loss: 4.6376 - accuracy: 0.5138 - val_loss: 7.0936 - val_accuracy: 0.1374\n",
            "Epoch 9/150\n",
            "438/438 [==============================] - 1s 2ms/step - loss: 4.4324 - accuracy: 0.5137 - val_loss: 0.7337 - val_accuracy: 0.9291\n",
            "Epoch 10/150\n",
            "438/438 [==============================] - 1s 2ms/step - loss: 4.3865 - accuracy: 0.5140 - val_loss: 10.9040 - val_accuracy: 0.0708\n",
            "Epoch 11/150\n",
            "438/438 [==============================] - 1s 2ms/step - loss: 3.8294 - accuracy: 0.5160 - val_loss: 0.4890 - val_accuracy: 0.9067\n",
            "Epoch 12/150\n",
            "438/438 [==============================] - 1s 2ms/step - loss: 3.6151 - accuracy: 0.5149 - val_loss: 5.7505 - val_accuracy: 0.0719\n",
            "Epoch 13/150\n",
            "438/438 [==============================] - 1s 2ms/step - loss: 3.3154 - accuracy: 0.5135 - val_loss: 4.4468 - val_accuracy: 0.0783\n",
            "Epoch 14/150\n",
            "438/438 [==============================] - 1s 2ms/step - loss: 3.0755 - accuracy: 0.5161 - val_loss: 2.1138 - val_accuracy: 0.1378\n",
            "Epoch 15/150\n",
            "438/438 [==============================] - 1s 2ms/step - loss: 2.9367 - accuracy: 0.5153 - val_loss: 0.6639 - val_accuracy: 0.9219\n",
            "Epoch 16/150\n",
            "438/438 [==============================] - 1s 2ms/step - loss: 2.7254 - accuracy: 0.5159 - val_loss: 1.8258 - val_accuracy: 0.1081\n",
            "Epoch 17/150\n",
            "438/438 [==============================] - 1s 2ms/step - loss: 2.4927 - accuracy: 0.5152 - val_loss: 0.5274 - val_accuracy: 0.9230\n",
            "Epoch 18/150\n",
            "438/438 [==============================] - 1s 2ms/step - loss: 2.3452 - accuracy: 0.5147 - val_loss: 0.5364 - val_accuracy: 0.9284\n",
            "Epoch 19/150\n",
            "438/438 [==============================] - 1s 2ms/step - loss: 2.1939 - accuracy: 0.5187 - val_loss: 2.5154 - val_accuracy: 0.0765\n",
            "Epoch 20/150\n",
            "438/438 [==============================] - 1s 2ms/step - loss: 2.0443 - accuracy: 0.5189 - val_loss: 3.5112 - val_accuracy: 0.0823\n",
            "Epoch 21/150\n",
            "438/438 [==============================] - 1s 2ms/step - loss: 1.9248 - accuracy: 0.5166 - val_loss: 3.9161 - val_accuracy: 0.0735\n",
            "Epoch 22/150\n",
            "438/438 [==============================] - 1s 2ms/step - loss: 1.8005 - accuracy: 0.5212 - val_loss: 1.0266 - val_accuracy: 0.3523\n",
            "Epoch 23/150\n",
            "438/438 [==============================] - 1s 2ms/step - loss: 1.6611 - accuracy: 0.5280 - val_loss: 0.3885 - val_accuracy: 0.9184\n",
            "Epoch 24/150\n",
            "438/438 [==============================] - 1s 2ms/step - loss: 1.5499 - accuracy: 0.5241 - val_loss: 1.7022 - val_accuracy: 0.1573\n",
            "Epoch 25/150\n",
            "438/438 [==============================] - 1s 2ms/step - loss: 1.4278 - accuracy: 0.5263 - val_loss: 1.7433 - val_accuracy: 0.0932\n",
            "Epoch 26/150\n",
            "438/438 [==============================] - 1s 2ms/step - loss: 1.3093 - accuracy: 0.5300 - val_loss: 0.3759 - val_accuracy: 0.9149\n",
            "Epoch 27/150\n",
            "438/438 [==============================] - 1s 2ms/step - loss: 1.1881 - accuracy: 0.5413 - val_loss: 0.3537 - val_accuracy: 0.9030\n",
            "Epoch 28/150\n",
            "438/438 [==============================] - 1s 2ms/step - loss: 1.0986 - accuracy: 0.5416 - val_loss: 0.5723 - val_accuracy: 0.7259\n",
            "Epoch 29/150\n",
            "438/438 [==============================] - 1s 2ms/step - loss: 0.9977 - accuracy: 0.5454 - val_loss: 1.7259 - val_accuracy: 0.1468\n",
            "Epoch 30/150\n",
            "438/438 [==============================] - 1s 2ms/step - loss: 0.8981 - accuracy: 0.5587 - val_loss: 0.6063 - val_accuracy: 0.6650\n",
            "Epoch 31/150\n",
            "438/438 [==============================] - 1s 2ms/step - loss: 0.8156 - accuracy: 0.5731 - val_loss: 1.4869 - val_accuracy: 0.1827\n",
            "Epoch 32/150\n",
            "438/438 [==============================] - 1s 2ms/step - loss: 0.7579 - accuracy: 0.5877 - val_loss: 0.7369 - val_accuracy: 0.5089\n",
            "Epoch 33/150\n",
            "438/438 [==============================] - 1s 2ms/step - loss: 0.6979 - accuracy: 0.6107 - val_loss: 0.6573 - val_accuracy: 0.6124\n",
            "Epoch 34/150\n",
            "438/438 [==============================] - 1s 2ms/step - loss: 0.6642 - accuracy: 0.6295 - val_loss: 0.5266 - val_accuracy: 0.7653\n",
            "Epoch 35/150\n",
            "438/438 [==============================] - 1s 3ms/step - loss: 0.6448 - accuracy: 0.6391 - val_loss: 0.4044 - val_accuracy: 0.8537\n",
            "Epoch 36/150\n",
            "438/438 [==============================] - 1s 2ms/step - loss: 0.6363 - accuracy: 0.6454 - val_loss: 0.8437 - val_accuracy: 0.3489\n",
            "Epoch 37/150\n",
            "438/438 [==============================] - 1s 2ms/step - loss: 0.6342 - accuracy: 0.6553 - val_loss: 0.4604 - val_accuracy: 0.8053\n",
            "Epoch 38/150\n",
            "438/438 [==============================] - 1s 3ms/step - loss: 0.6292 - accuracy: 0.6617 - val_loss: 0.5803 - val_accuracy: 0.6694\n",
            "Epoch 39/150\n",
            "438/438 [==============================] - 1s 2ms/step - loss: 0.6232 - accuracy: 0.6680 - val_loss: 0.6157 - val_accuracy: 0.6419\n",
            "Epoch 40/150\n",
            "438/438 [==============================] - 1s 3ms/step - loss: 0.6173 - accuracy: 0.6677 - val_loss: 0.7262 - val_accuracy: 0.5209\n",
            "Epoch 41/150\n",
            "438/438 [==============================] - 1s 2ms/step - loss: 0.6132 - accuracy: 0.6741 - val_loss: 0.4263 - val_accuracy: 0.8242\n",
            "Epoch 42/150\n",
            "438/438 [==============================] - 1s 2ms/step - loss: 0.6052 - accuracy: 0.6793 - val_loss: 0.7371 - val_accuracy: 0.4953\n",
            "Epoch 43/150\n",
            "438/438 [==============================] - 1s 2ms/step - loss: 0.6007 - accuracy: 0.6819 - val_loss: 0.6929 - val_accuracy: 0.5580\n",
            "Epoch 44/150\n",
            "438/438 [==============================] - 1s 2ms/step - loss: 0.5951 - accuracy: 0.6888 - val_loss: 0.6544 - val_accuracy: 0.6214\n",
            "Epoch 45/150\n",
            "438/438 [==============================] - 1s 2ms/step - loss: 0.5915 - accuracy: 0.6920 - val_loss: 0.6800 - val_accuracy: 0.5967\n",
            "Epoch 46/150\n",
            "438/438 [==============================] - 1s 2ms/step - loss: 0.5884 - accuracy: 0.6936 - val_loss: 0.6565 - val_accuracy: 0.6156\n",
            "Epoch 47/150\n",
            "438/438 [==============================] - 1s 2ms/step - loss: 0.5849 - accuracy: 0.6970 - val_loss: 0.3862 - val_accuracy: 0.8503\n",
            "Epoch 48/150\n",
            "438/438 [==============================] - 1s 2ms/step - loss: 0.5801 - accuracy: 0.7009 - val_loss: 0.6964 - val_accuracy: 0.5755\n",
            "Epoch 49/150\n",
            "438/438 [==============================] - 1s 2ms/step - loss: 0.5765 - accuracy: 0.7037 - val_loss: 0.7672 - val_accuracy: 0.4941\n",
            "Epoch 50/150\n",
            "438/438 [==============================] - 1s 2ms/step - loss: 0.5746 - accuracy: 0.7055 - val_loss: 0.5373 - val_accuracy: 0.7376\n",
            "Epoch 51/150\n",
            "438/438 [==============================] - 1s 2ms/step - loss: 0.5731 - accuracy: 0.7066 - val_loss: 0.6631 - val_accuracy: 0.6269\n",
            "Epoch 52/150\n",
            "438/438 [==============================] - 1s 2ms/step - loss: 0.5686 - accuracy: 0.7100 - val_loss: 0.5935 - val_accuracy: 0.7164\n",
            "Epoch 53/150\n",
            "438/438 [==============================] - 1s 3ms/step - loss: 0.5683 - accuracy: 0.7126 - val_loss: 0.4554 - val_accuracy: 0.7875\n",
            "Epoch 54/150\n",
            "438/438 [==============================] - 1s 2ms/step - loss: 0.5669 - accuracy: 0.7137 - val_loss: 0.6892 - val_accuracy: 0.6064\n",
            "Epoch 55/150\n",
            "438/438 [==============================] - 1s 2ms/step - loss: 0.5650 - accuracy: 0.7148 - val_loss: 0.3533 - val_accuracy: 0.8632\n",
            "Epoch 56/150\n",
            "438/438 [==============================] - 1s 2ms/step - loss: 0.5622 - accuracy: 0.7182 - val_loss: 0.3424 - val_accuracy: 0.8542\n",
            "Epoch 57/150\n",
            "438/438 [==============================] - 1s 2ms/step - loss: 0.5613 - accuracy: 0.7195 - val_loss: 0.3613 - val_accuracy: 0.8353\n",
            "Epoch 58/150\n",
            "438/438 [==============================] - 1s 3ms/step - loss: 0.5592 - accuracy: 0.7205 - val_loss: 0.4164 - val_accuracy: 0.8327\n",
            "Epoch 59/150\n",
            "438/438 [==============================] - 1s 2ms/step - loss: 0.5615 - accuracy: 0.7209 - val_loss: 0.7930 - val_accuracy: 0.5223\n",
            "Epoch 60/150\n",
            "438/438 [==============================] - 1s 2ms/step - loss: 0.5588 - accuracy: 0.7223 - val_loss: 0.5298 - val_accuracy: 0.7232\n",
            "Epoch 61/150\n",
            "438/438 [==============================] - 1s 2ms/step - loss: 0.5572 - accuracy: 0.7239 - val_loss: 0.4318 - val_accuracy: 0.8183\n",
            "Epoch 62/150\n",
            "438/438 [==============================] - 1s 2ms/step - loss: 0.5562 - accuracy: 0.7237 - val_loss: 0.4737 - val_accuracy: 0.7642\n",
            "Epoch 63/150\n",
            "438/438 [==============================] - 1s 2ms/step - loss: 0.5551 - accuracy: 0.7246 - val_loss: 0.3419 - val_accuracy: 0.8494\n",
            "Epoch 64/150\n",
            "438/438 [==============================] - 1s 2ms/step - loss: 0.5545 - accuracy: 0.7267 - val_loss: 0.4318 - val_accuracy: 0.8139\n",
            "Epoch 65/150\n",
            "438/438 [==============================] - 1s 2ms/step - loss: 0.5547 - accuracy: 0.7273 - val_loss: 0.4860 - val_accuracy: 0.7783\n",
            "Epoch 66/150\n",
            "438/438 [==============================] - 1s 2ms/step - loss: 0.5520 - accuracy: 0.7290 - val_loss: 0.4930 - val_accuracy: 0.7665\n",
            "Epoch 67/150\n",
            "438/438 [==============================] - 1s 2ms/step - loss: 0.5506 - accuracy: 0.7274 - val_loss: 0.4661 - val_accuracy: 0.7920\n",
            "Epoch 68/150\n",
            "438/438 [==============================] - 1s 2ms/step - loss: 0.5507 - accuracy: 0.7294 - val_loss: 0.9005 - val_accuracy: 0.3924\n",
            "Epoch 69/150\n",
            "438/438 [==============================] - 1s 2ms/step - loss: 0.5528 - accuracy: 0.7284 - val_loss: 0.5030 - val_accuracy: 0.7602\n",
            "Epoch 70/150\n",
            "438/438 [==============================] - 1s 2ms/step - loss: 0.5528 - accuracy: 0.7282 - val_loss: 0.5241 - val_accuracy: 0.7556\n",
            "Epoch 71/150\n",
            "438/438 [==============================] - 1s 2ms/step - loss: 0.5481 - accuracy: 0.7321 - val_loss: 0.4625 - val_accuracy: 0.7963\n",
            "Epoch 72/150\n",
            "438/438 [==============================] - 1s 3ms/step - loss: 0.5471 - accuracy: 0.7333 - val_loss: 0.6079 - val_accuracy: 0.7026\n",
            "Epoch 73/150\n",
            "438/438 [==============================] - 1s 2ms/step - loss: 0.5458 - accuracy: 0.7340 - val_loss: 0.6271 - val_accuracy: 0.6712\n",
            "Epoch 74/150\n",
            "438/438 [==============================] - 1s 2ms/step - loss: 0.5489 - accuracy: 0.7323 - val_loss: 0.8512 - val_accuracy: 0.4077\n",
            "Epoch 75/150\n",
            "438/438 [==============================] - 1s 2ms/step - loss: 0.5448 - accuracy: 0.7339 - val_loss: 0.5064 - val_accuracy: 0.7737\n",
            "Epoch 76/150\n",
            "438/438 [==============================] - 1s 2ms/step - loss: 0.5442 - accuracy: 0.7348 - val_loss: 0.5634 - val_accuracy: 0.7341\n",
            "Epoch 77/150\n",
            "438/438 [==============================] - 1s 2ms/step - loss: 0.5430 - accuracy: 0.7364 - val_loss: 0.7325 - val_accuracy: 0.5577\n",
            "Epoch 78/150\n",
            "438/438 [==============================] - 1s 2ms/step - loss: 0.5417 - accuracy: 0.7380 - val_loss: 0.7079 - val_accuracy: 0.6035\n",
            "Epoch 79/150\n",
            "438/438 [==============================] - 1s 2ms/step - loss: 0.5443 - accuracy: 0.7360 - val_loss: 0.5436 - val_accuracy: 0.7317\n",
            "Epoch 80/150\n",
            "438/438 [==============================] - 1s 2ms/step - loss: 0.5415 - accuracy: 0.7386 - val_loss: 0.4017 - val_accuracy: 0.8369\n",
            "Epoch 81/150\n",
            "438/438 [==============================] - 1s 2ms/step - loss: 0.5415 - accuracy: 0.7379 - val_loss: 0.9204 - val_accuracy: 0.3862\n",
            "Epoch 82/150\n",
            "438/438 [==============================] - 1s 2ms/step - loss: 0.5410 - accuracy: 0.7395 - val_loss: 0.3589 - val_accuracy: 0.8544\n",
            "Epoch 83/150\n",
            "438/438 [==============================] - 1s 3ms/step - loss: 0.5396 - accuracy: 0.7400 - val_loss: 0.7989 - val_accuracy: 0.4798\n",
            "Epoch 84/150\n",
            "438/438 [==============================] - 1s 2ms/step - loss: 0.5385 - accuracy: 0.7388 - val_loss: 0.4046 - val_accuracy: 0.8215\n",
            "Epoch 85/150\n",
            "438/438 [==============================] - 1s 2ms/step - loss: 0.5380 - accuracy: 0.7392 - val_loss: 0.7514 - val_accuracy: 0.5619\n",
            "Epoch 86/150\n",
            "438/438 [==============================] - 1s 2ms/step - loss: 0.5381 - accuracy: 0.7410 - val_loss: 0.8369 - val_accuracy: 0.4822\n",
            "Epoch 87/150\n",
            "438/438 [==============================] - 1s 2ms/step - loss: 0.5385 - accuracy: 0.7406 - val_loss: 0.5059 - val_accuracy: 0.7698\n",
            "Epoch 88/150\n",
            "438/438 [==============================] - 1s 2ms/step - loss: 0.5387 - accuracy: 0.7401 - val_loss: 0.7484 - val_accuracy: 0.5709\n",
            "Epoch 89/150\n",
            "438/438 [==============================] - 1s 2ms/step - loss: 0.5378 - accuracy: 0.7409 - val_loss: 0.4668 - val_accuracy: 0.7563\n",
            "Epoch 90/150\n",
            "438/438 [==============================] - 1s 2ms/step - loss: 0.5342 - accuracy: 0.7421 - val_loss: 0.4155 - val_accuracy: 0.8007\n",
            "Epoch 91/150\n",
            "438/438 [==============================] - 1s 2ms/step - loss: 0.5355 - accuracy: 0.7432 - val_loss: 0.4530 - val_accuracy: 0.7993\n",
            "Epoch 92/150\n",
            "438/438 [==============================] - 1s 2ms/step - loss: 0.5346 - accuracy: 0.7424 - val_loss: 0.4330 - val_accuracy: 0.8051\n",
            "Epoch 93/150\n",
            "438/438 [==============================] - 1s 2ms/step - loss: 0.5354 - accuracy: 0.7425 - val_loss: 0.4276 - val_accuracy: 0.8013\n",
            "Epoch 94/150\n",
            "438/438 [==============================] - 1s 2ms/step - loss: 0.5350 - accuracy: 0.7440 - val_loss: 0.6003 - val_accuracy: 0.6912\n",
            "Epoch 95/150\n",
            "438/438 [==============================] - 1s 2ms/step - loss: 0.5351 - accuracy: 0.7440 - val_loss: 0.4589 - val_accuracy: 0.7796\n",
            "Epoch 96/150\n",
            "438/438 [==============================] - 1s 2ms/step - loss: 0.5367 - accuracy: 0.7427 - val_loss: 0.4715 - val_accuracy: 0.7680\n",
            "Epoch 97/150\n",
            "438/438 [==============================] - 1s 2ms/step - loss: 0.5347 - accuracy: 0.7451 - val_loss: 0.6223 - val_accuracy: 0.6843\n",
            "Epoch 98/150\n",
            "438/438 [==============================] - 1s 2ms/step - loss: 0.5357 - accuracy: 0.7431 - val_loss: 0.5984 - val_accuracy: 0.6848\n",
            "Epoch 99/150\n",
            "438/438 [==============================] - 1s 2ms/step - loss: 0.5318 - accuracy: 0.7442 - val_loss: 0.5771 - val_accuracy: 0.7064\n",
            "Epoch 100/150\n",
            "438/438 [==============================] - 1s 2ms/step - loss: 0.5323 - accuracy: 0.7450 - val_loss: 0.5181 - val_accuracy: 0.7656\n",
            "Epoch 101/150\n",
            "438/438 [==============================] - 1s 2ms/step - loss: 0.5335 - accuracy: 0.7449 - val_loss: 0.5157 - val_accuracy: 0.7545\n",
            "Epoch 102/150\n",
            "438/438 [==============================] - 1s 2ms/step - loss: 0.5309 - accuracy: 0.7460 - val_loss: 0.3582 - val_accuracy: 0.8368\n",
            "Epoch 103/150\n",
            "438/438 [==============================] - 1s 2ms/step - loss: 0.5326 - accuracy: 0.7457 - val_loss: 0.5043 - val_accuracy: 0.7494\n",
            "Epoch 104/150\n",
            "438/438 [==============================] - 1s 2ms/step - loss: 0.5304 - accuracy: 0.7450 - val_loss: 0.7301 - val_accuracy: 0.5994\n",
            "Epoch 105/150\n",
            "438/438 [==============================] - 1s 2ms/step - loss: 0.5322 - accuracy: 0.7467 - val_loss: 0.5189 - val_accuracy: 0.7491\n",
            "Epoch 106/150\n",
            "438/438 [==============================] - 1s 2ms/step - loss: 0.5305 - accuracy: 0.7465 - val_loss: 0.6739 - val_accuracy: 0.6278\n",
            "Epoch 107/150\n",
            "438/438 [==============================] - 1s 2ms/step - loss: 0.5313 - accuracy: 0.7469 - val_loss: 0.4928 - val_accuracy: 0.7581\n",
            "Epoch 108/150\n",
            "438/438 [==============================] - 1s 2ms/step - loss: 0.5311 - accuracy: 0.7468 - val_loss: 0.3589 - val_accuracy: 0.8232\n",
            "Epoch 109/150\n",
            "438/438 [==============================] - 1s 2ms/step - loss: 0.5326 - accuracy: 0.7469 - val_loss: 0.3968 - val_accuracy: 0.8151\n",
            "Epoch 110/150\n",
            "438/438 [==============================] - 1s 2ms/step - loss: 0.5324 - accuracy: 0.7475 - val_loss: 0.4200 - val_accuracy: 0.7877\n",
            "Epoch 111/150\n",
            "438/438 [==============================] - 1s 2ms/step - loss: 0.5306 - accuracy: 0.7471 - val_loss: 0.8641 - val_accuracy: 0.4555\n",
            "Epoch 112/150\n",
            "438/438 [==============================] - 1s 2ms/step - loss: 0.5275 - accuracy: 0.7472 - val_loss: 0.6013 - val_accuracy: 0.6999\n",
            "Epoch 113/150\n",
            "438/438 [==============================] - 1s 2ms/step - loss: 0.5281 - accuracy: 0.7475 - val_loss: 0.5805 - val_accuracy: 0.7070\n",
            "Epoch 114/150\n",
            "438/438 [==============================] - 1s 2ms/step - loss: 0.5288 - accuracy: 0.7486 - val_loss: 0.5112 - val_accuracy: 0.7583\n",
            "Epoch 115/150\n",
            "438/438 [==============================] - 1s 2ms/step - loss: 0.5292 - accuracy: 0.7481 - val_loss: 0.7910 - val_accuracy: 0.5018\n",
            "Epoch 116/150\n",
            "438/438 [==============================] - 1s 2ms/step - loss: 0.5302 - accuracy: 0.7475 - val_loss: 0.3771 - val_accuracy: 0.8276\n",
            "Epoch 117/150\n",
            "438/438 [==============================] - 1s 2ms/step - loss: 0.5292 - accuracy: 0.7486 - val_loss: 0.4406 - val_accuracy: 0.8061\n",
            "Epoch 118/150\n",
            "438/438 [==============================] - 1s 2ms/step - loss: 0.5279 - accuracy: 0.7491 - val_loss: 0.7425 - val_accuracy: 0.5417\n",
            "Epoch 119/150\n",
            "438/438 [==============================] - 1s 3ms/step - loss: 0.5268 - accuracy: 0.7490 - val_loss: 0.5472 - val_accuracy: 0.7192\n",
            "Epoch 120/150\n",
            "438/438 [==============================] - 1s 2ms/step - loss: 0.5270 - accuracy: 0.7494 - val_loss: 0.5420 - val_accuracy: 0.7229\n",
            "Epoch 121/150\n",
            "438/438 [==============================] - 1s 2ms/step - loss: 0.5294 - accuracy: 0.7481 - val_loss: 0.5617 - val_accuracy: 0.7168\n",
            "Epoch 122/150\n",
            "438/438 [==============================] - 1s 2ms/step - loss: 0.5302 - accuracy: 0.7476 - val_loss: 0.4111 - val_accuracy: 0.8105\n",
            "Epoch 123/150\n",
            "438/438 [==============================] - 1s 2ms/step - loss: 0.5249 - accuracy: 0.7507 - val_loss: 0.7676 - val_accuracy: 0.5542\n",
            "Epoch 124/150\n",
            "438/438 [==============================] - 1s 2ms/step - loss: 0.5244 - accuracy: 0.7508 - val_loss: 0.6271 - val_accuracy: 0.6595\n",
            "Epoch 125/150\n",
            "438/438 [==============================] - 1s 3ms/step - loss: 0.5254 - accuracy: 0.7509 - val_loss: 0.3352 - val_accuracy: 0.8444\n",
            "Epoch 126/150\n",
            "438/438 [==============================] - 1s 3ms/step - loss: 0.5294 - accuracy: 0.7489 - val_loss: 0.6640 - val_accuracy: 0.6085\n",
            "Epoch 127/150\n",
            "438/438 [==============================] - 2s 4ms/step - loss: 0.5240 - accuracy: 0.7512 - val_loss: 0.8123 - val_accuracy: 0.5230\n",
            "Epoch 128/150\n",
            "438/438 [==============================] - 1s 2ms/step - loss: 0.5259 - accuracy: 0.7498 - val_loss: 0.3937 - val_accuracy: 0.8139\n",
            "Epoch 129/150\n",
            "438/438 [==============================] - 1s 2ms/step - loss: 0.5247 - accuracy: 0.7498 - val_loss: 0.4107 - val_accuracy: 0.7932\n",
            "Epoch 130/150\n",
            "438/438 [==============================] - 1s 2ms/step - loss: 0.5256 - accuracy: 0.7492 - val_loss: 0.5287 - val_accuracy: 0.7318\n",
            "Epoch 131/150\n",
            "438/438 [==============================] - 1s 2ms/step - loss: 0.5238 - accuracy: 0.7490 - val_loss: 0.4246 - val_accuracy: 0.7954\n",
            "Epoch 132/150\n",
            "438/438 [==============================] - 1s 2ms/step - loss: 0.5227 - accuracy: 0.7521 - val_loss: 0.4909 - val_accuracy: 0.7575\n",
            "Epoch 133/150\n",
            "438/438 [==============================] - 1s 2ms/step - loss: 0.5223 - accuracy: 0.7512 - val_loss: 0.4805 - val_accuracy: 0.7722\n",
            "Epoch 134/150\n",
            "438/438 [==============================] - 1s 2ms/step - loss: 0.5230 - accuracy: 0.7497 - val_loss: 0.6914 - val_accuracy: 0.6058\n",
            "Epoch 135/150\n",
            "438/438 [==============================] - 1s 2ms/step - loss: 0.5206 - accuracy: 0.7516 - val_loss: 0.5939 - val_accuracy: 0.6824\n",
            "Epoch 136/150\n",
            "438/438 [==============================] - 1s 2ms/step - loss: 0.5213 - accuracy: 0.7516 - val_loss: 0.5581 - val_accuracy: 0.7048\n",
            "Epoch 137/150\n",
            "438/438 [==============================] - 1s 2ms/step - loss: 0.5208 - accuracy: 0.7516 - val_loss: 0.7422 - val_accuracy: 0.5569\n",
            "Epoch 138/150\n",
            "438/438 [==============================] - 1s 2ms/step - loss: 0.5211 - accuracy: 0.7521 - val_loss: 0.5532 - val_accuracy: 0.7182\n",
            "Epoch 139/150\n",
            "438/438 [==============================] - 1s 2ms/step - loss: 0.5199 - accuracy: 0.7529 - val_loss: 0.5725 - val_accuracy: 0.7107\n",
            "Epoch 140/150\n",
            "438/438 [==============================] - 1s 2ms/step - loss: 0.5219 - accuracy: 0.7522 - val_loss: 0.7140 - val_accuracy: 0.5363\n",
            "Epoch 141/150\n",
            "438/438 [==============================] - 1s 2ms/step - loss: 0.5186 - accuracy: 0.7539 - val_loss: 0.6142 - val_accuracy: 0.6725\n",
            "Epoch 142/150\n",
            "438/438 [==============================] - 1s 2ms/step - loss: 0.5186 - accuracy: 0.7534 - val_loss: 0.5684 - val_accuracy: 0.7012\n",
            "Epoch 143/150\n",
            "438/438 [==============================] - 1s 2ms/step - loss: 0.5195 - accuracy: 0.7537 - val_loss: 0.4511 - val_accuracy: 0.7790\n",
            "Epoch 144/150\n",
            "438/438 [==============================] - 1s 2ms/step - loss: 0.5174 - accuracy: 0.7545 - val_loss: 0.5035 - val_accuracy: 0.7530\n",
            "Epoch 145/150\n",
            "438/438 [==============================] - 1s 2ms/step - loss: 0.5185 - accuracy: 0.7535 - val_loss: 0.6483 - val_accuracy: 0.6541\n",
            "Epoch 146/150\n",
            "438/438 [==============================] - 1s 2ms/step - loss: 0.5170 - accuracy: 0.7541 - val_loss: 0.6603 - val_accuracy: 0.6382\n",
            "Epoch 147/150\n",
            "438/438 [==============================] - 1s 2ms/step - loss: 0.5172 - accuracy: 0.7551 - val_loss: 0.5947 - val_accuracy: 0.6828\n",
            "Epoch 148/150\n",
            "438/438 [==============================] - 1s 2ms/step - loss: 0.5168 - accuracy: 0.7548 - val_loss: 0.5296 - val_accuracy: 0.7443\n",
            "Epoch 149/150\n",
            "438/438 [==============================] - 1s 2ms/step - loss: 0.5177 - accuracy: 0.7534 - val_loss: 0.7928 - val_accuracy: 0.4863\n",
            "Epoch 150/150\n",
            "438/438 [==============================] - 1s 2ms/step - loss: 0.5168 - accuracy: 0.7550 - val_loss: 0.4703 - val_accuracy: 0.7694\n"
          ]
        }
      ]
    },
    {
      "cell_type": "code",
      "source": [
        "score = model.evaluate(X_test, y_test)"
      ],
      "metadata": {
        "colab": {
          "base_uri": "https://localhost:8080/"
        },
        "id": "iwRkqtJrDKnp",
        "outputId": "f770ae44-d3ed-4cb0-f99e-0f72a45efe15"
      },
      "execution_count": null,
      "outputs": [
        {
          "output_type": "stream",
          "name": "stdout",
          "text": [
            "938/938 [==============================] - 1s 1ms/step - loss: 0.4703 - accuracy: 0.7694\n"
          ]
        }
      ]
    },
    {
      "cell_type": "code",
      "source": [
        "#GINI & AUC \n",
        "pred  = model.predict(X_test)\n",
        "fpr, tpr, thresholds = roc_curve(y_test, pred)\n",
        "roc_auc = auc(fpr, tpr)\n",
        "print(\"The AUC of the Test model is \", roc_auc)\n",
        "Gini   = 2*roc_auc - 1\n",
        "print(\"The Gini of the Test model is \", Gini)"
      ],
      "metadata": {
        "colab": {
          "base_uri": "https://localhost:8080/"
        },
        "id": "h4m9Ial_DNCv",
        "outputId": "b83e7346-0b0c-4bee-8561-5783504caf17"
      },
      "execution_count": null,
      "outputs": [
        {
          "output_type": "stream",
          "name": "stdout",
          "text": [
            "The AUC of the Test model is  0.8052609889863456\n",
            "The Gini of the Test model is  0.6105219779726911\n"
          ]
        }
      ]
    },
    {
      "cell_type": "markdown",
      "source": [
        "# Perbandingan Kurva ROC Pada Data Test"
      ],
      "metadata": {
        "id": "6stfBzj_DQvq"
      }
    },
    {
      "cell_type": "code",
      "source": [
        "log_pred = regressor.predict(X_test)\n",
        "rfc_pred = rfc.predict(X_test)\n",
        "gbm_pred = gbc.predict(X_test)\n",
        "xgb_pred = xgb1.predict(X_test)\n",
        "deepl_pred = model.predict(X_test)"
      ],
      "metadata": {
        "id": "O3cbe9XQDYp9"
      },
      "execution_count": null,
      "outputs": []
    },
    {
      "cell_type": "code",
      "source": [
        "log_fpr, log_tpr, log_threshold   = roc_curve(y_test, log_pred)\n",
        "rfc_fpr, rfc_tpr, rfc_threshold   = roc_curve(y_test, rfc_pred)\n",
        "gbm_fpr, gbm_tpr, gbm_threshold   = roc_curve(y_test, gbm_pred)\n",
        "xgb_fpr, xgb_tpr, xgb_threshold   = roc_curve(y_test, xgb_pred)\n",
        "deepl_fpr, deepl_tpr, deepl_threshold   = roc_curve(y_test, deepl_pred)"
      ],
      "metadata": {
        "id": "jmdsObwFDiCZ"
      },
      "execution_count": null,
      "outputs": []
    },
    {
      "cell_type": "code",
      "source": [
        "# Plot ROC curves\n",
        "fig  = plt.figure(figsize=(10,6))\n",
        "plt.title('ROC Curve \\n Comparison of Classifiers')\n",
        "plt.plot(log_fpr, log_tpr, label ='Logistic Regression AUC: {:.2f}'.format(roc_auc_score(y_test, log_pred)))\n",
        "plt.plot(rfc_fpr, rfc_tpr, label ='Random Forest AUC: {:.2f}'.format(roc_auc_score(y_test, rfc_pred)))\n",
        "plt.plot(gbm_fpr, gbm_tpr, label ='GBM AUC: {:.2f}'.format(roc_auc_score(y_test, gbm_pred)))\n",
        "plt.plot(xgb_fpr, xgb_tpr, label ='XgBoost AUC: {:.2f}'.format(roc_auc_score(y_test, xgb_pred)))\n",
        "plt.plot(deepl_fpr, deepl_tpr, label ='Deep Learning AUC: {:.2f}'.format(roc_auc_score(y_test, deepl_pred)))\n",
        "\n",
        "plt.plot([0, 1], ls=\"--\")\n",
        "plt.plot([0, 0], [1, 0] , c=\".7\"), plt.plot([1, 1] , c=\".7\")\n",
        "plt.ylabel('True Positive Rate')\n",
        "plt.xlabel('False Positive Rate')\n",
        "plt.legend()\n",
        "plt.show()"
      ],
      "metadata": {
        "colab": {
          "base_uri": "https://localhost:8080/",
          "height": 417
        },
        "id": "9xl6fC-lDplu",
        "outputId": "2dba3d8c-cf23-4f9b-cae8-6a9040371530"
      },
      "execution_count": null,
      "outputs": [
        {
          "output_type": "display_data",
          "data": {
            "text/plain": [
              "<Figure size 720x432 with 1 Axes>"
            ],
            "image/png": "[encoded data removed]"
          },
          "metadata": {}
        }
      ]
    },
    {
      "cell_type": "markdown",
      "source": [
        "Hasil : Seperti yang kita lihat dengan jelas bahwa model Deep Learning bekerja paling baik pada data Test. Ini memiliki skor AUC sekitar 81% yang merupakan skor classifer yang baik untuk versi potongan pertama. Kami pasti dapat meningkatkan banyak hal ini dengan menyetel model keras kami"
      ],
      "metadata": {
        "id": "IUC0auaLDuKh"
      }
    },
    {
      "cell_type": "markdown",
      "source": [
        "# Membuat Skor dari Probabilitas\n",
        "\n",
        "Selanjutnya yang kita miliki adalah bagaimana kita mengkonsumsi probabilitas ini. Karena, memprediksi default berada di bawah tim Risiko Kredit Bank, kami perlu memberikan probabilitas ini ke dalam format yang lebih dapat dikonsumsi seperti Skor; sesuatu yang mirip dengan Skor FICO atau Skor CIBIL atau Skor Experian. Ini semua adalah Skor Buereau yang menjadi dasar seseorang dapat memprediksi kemungkinan seseorang tidak membayar kembali pinjamannya.\n",
        "\n",
        "Kami juga akan mengubah probabilitas ini menjadi Skor Bank internal kami yang akan digunakan untuk memberikan pinjaman setelah pelanggan mengajukan permohonan yang sama. Ini disebut sebagai Skor Aplikasi berdasarkan informasi yang diberikan oleh pelanggan.\n",
        "\n",
        "Beberapa istilah yang akan digunakan adalah:\n",
        "\n",
        "- Base Score: Ini adalah skor yang akan kami mulai untuk setiap pelanggan dan kemudian menambah/mengurangi poin (nilai absolut) berdasarkan probabilitasnya untuk default (diprediksi).\n",
        "\n",
        "- pdo(Points to Double the odds): Ini adalah poin dimana odds akan digandakan. Peluang di sini adalah rasio (Baik/Buruk). Misalnya, pada skor 620, rasio odds adalah 300/100 (3) dan sekarang jika pdo adalah 100 maka pada skor 720, rasio odds menjadi 6.\n",
        "\n",
        "- Goods/Bads: Ini adalah rasio Barang / Buruk awal yang akan diambil"
      ],
      "metadata": {
        "id": "cQtkoji9Dzsa"
      }
    },
    {
      "cell_type": "markdown",
      "source": [
        "# Predict the probability for the full dataset with the Deep Learning Model"
      ],
      "metadata": {
        "id": "SHYWJNgQETGP"
      }
    },
    {
      "cell_type": "code",
      "source": [
        "## Predict for the whole of the dataset\n",
        "actual_   = df['SeriousDlqin2yrs']\n",
        "df_new    = df.copy()\n",
        "df_new    = df.drop(['SeriousDlqin2yrs'], axis=1)"
      ],
      "metadata": {
        "id": "agEPqibUEVUG"
      },
      "execution_count": null,
      "outputs": []
    },
    {
      "cell_type": "code",
      "source": [
        "pred_all  = model.predict(df_new)"
      ],
      "metadata": {
        "id": "QMVUAMdGEV6C"
      },
      "execution_count": null,
      "outputs": []
    },
    {
      "cell_type": "code",
      "source": [
        "fpr, tpr, thresholds = roc_curve(actual_, pred_all)\n",
        "roc_auc = auc(fpr, tpr)\n",
        "print(\"The AUC of the overall model is: {:.2f}\".format(roc_auc))\n",
        "Gini   = 2*roc_auc - 1\n",
        "print(\"The Gini of the overall model is: {:.2f}\".format(Gini))"
      ],
      "metadata": {
        "colab": {
          "base_uri": "https://localhost:8080/"
        },
        "id": "vItPdMGSEZ-y",
        "outputId": "04287cb0-ff77-48a4-f9c1-afade40a417a"
      },
      "execution_count": null,
      "outputs": [
        {
          "output_type": "stream",
          "name": "stdout",
          "text": [
            "The AUC of the overall model is: 0.81\n",
            "The Gini of the overall model is: 0.63\n"
          ]
        }
      ]
    },
    {
      "cell_type": "markdown",
      "source": [
        "# Inisialisasi variabel Skor untuk memprediksi skor"
      ],
      "metadata": {
        "id": "CxVowHSgEeq_"
      }
    },
    {
      "cell_type": "code",
      "source": [
        "## Convert the probability into a score\n",
        "Base_Score = 600\n",
        "pdo        = 120\n",
        "Good_Bads  = 10\n",
        "\n",
        "## Creating a function to calculate a Score\n",
        "def score_(x, Offset, Factor):\n",
        "    score_ = Offset - Factor * np.log(x)\n",
        "    return score_"
      ],
      "metadata": {
        "id": "XUXCK4ioEhVl"
      },
      "execution_count": null,
      "outputs": []
    },
    {
      "cell_type": "code",
      "source": [
        "Factor          = pdo/np.log(2)\n",
        "Offset          = Base_Score - Factor * np.log(Good_Bads)\n",
        "Score_          = score_(pred_all, Offset=Offset, Factor=Factor)"
      ],
      "metadata": {
        "id": "bLQFzlaXEjI6"
      },
      "execution_count": null,
      "outputs": []
    },
    {
      "cell_type": "code",
      "source": [
        "Actual_vals      = pd.DataFrame(actual_).reset_index(drop=True)\n",
        "Score            = pd.DataFrame(Score_)\n",
        "pred_all         = pd.DataFrame(pred_all)\n",
        "combine          = [Actual_vals,pred_all, Score]\n",
        "combine_         = pd.concat(combine, axis=1)"
      ],
      "metadata": {
        "id": "woOT9lgNEmDM"
      },
      "execution_count": null,
      "outputs": []
    },
    {
      "cell_type": "code",
      "source": [
        "combine_.columns  = ['Default', 'Predicted_prob', 'Risk_Score']"
      ],
      "metadata": {
        "id": "f-3rI67VEoRk"
      },
      "execution_count": null,
      "outputs": []
    },
    {
      "cell_type": "code",
      "source": [
        "combine_              = combine_.replace([np.inf, -np.inf], np.nan)\n",
        "combine_              = combine_[combine_.isna()==False]"
      ],
      "metadata": {
        "id": "VJ3xiO0HEqmh"
      },
      "execution_count": null,
      "outputs": []
    },
    {
      "cell_type": "markdown",
      "source": [
        "Kami akan membatasi Skor menjadi 900 karena beberapa pelanggan memiliki Probabilitas hampir sama dengan nol yang hampir tidak ada kemungkinan mereka akan melewatkan pembayaran pinjaman"
      ],
      "metadata": {
        "id": "DVydTyW0Etj7"
      }
    },
    {
      "cell_type": "code",
      "source": [
        "combine_.loc[(combine_.Risk_Score>900), ['Risk_Score']] = 899"
      ],
      "metadata": {
        "id": "VEfJwgHWEvxC"
      },
      "execution_count": null,
      "outputs": []
    },
    {
      "cell_type": "code",
      "source": [
        "fig = plt.figure(figsize = (5,5))\n",
        "ax = sns.distplot(combine_['Risk_Score'], hist=True, kde=True,\n",
        "                        bins=100, color = 'blue',hist_kws={'edgecolor':'black'},\n",
        "                         kde_kws={'linewidth': 4})\n",
        "\n",
        "ax.set_xlabel(\"Application Score\")\n",
        "ax.set_ylabel(\"Count\")\n",
        "ax.set_title(\"Score Distribution\")"
      ],
      "metadata": {
        "colab": {
          "base_uri": "https://localhost:8080/",
          "height": 366
        },
        "id": "HOhQ7S-SExLL",
        "outputId": "93f70c6b-3a88-4c3b-f9c8-e29315a882f1"
      },
      "execution_count": null,
      "outputs": [
        {
          "output_type": "execute_result",
          "data": {
            "text/plain": [
              "Text(0.5, 1.0, 'Score Distribution')"
            ]
          },
          "metadata": {},
          "execution_count": 124
        },
        {
          "output_type": "display_data",
          "data": {
            "text/plain": [
              "<Figure size 360x360 with 1 Axes>"
            ],
            "image/png": "[encoded data removed]"
          },
          "metadata": {}
        }
      ]
    },
    {
      "cell_type": "code",
      "source": [
        "Final_data     = pd.concat([df,combine_], axis=1)"
      ],
      "metadata": {
        "id": "Y7NQT-sAFmdl"
      },
      "execution_count": null,
      "outputs": []
    },
    {
      "cell_type": "code",
      "source": [
        "Final_data.head()"
      ],
      "metadata": {
        "colab": {
          "base_uri": "https://localhost:8080/",
          "height": 270
        },
        "id": "dxPfqmSxFpdd",
        "outputId": "29222c27-f056-45e7-aa81-f2ee37a7777e"
      },
      "execution_count": null,
      "outputs": [
        {
          "output_type": "execute_result",
          "data": {
            "text/plain": [
              "   RevolvingUtilizationOfUnsecuredLines  age  \\\n",
              "0                              0.766127   45   \n",
              "1                              0.957151   40   \n",
              "2                              0.658180   38   \n",
              "3                              0.233810   30   \n",
              "4                              0.907239   49   \n",
              "\n",
              "   NumberOfTime30-59DaysPastDueNotWorse  DebtRatio  MonthlyIncome  \\\n",
              "0                                     2   0.802982         9120.0   \n",
              "1                                     0   0.121876         2600.0   \n",
              "2                                     1   0.085113         3042.0   \n",
              "3                                     0   0.036050         3300.0   \n",
              "4                                     1   0.024926        63588.0   \n",
              "\n",
              "   NumberOfOpenCreditLinesAndLoans  NumberRealEstateLoansOrLines  \\\n",
              "0                               13                             6   \n",
              "1                                4                             0   \n",
              "2                                2                             0   \n",
              "3                                5                             0   \n",
              "4                                7                             1   \n",
              "\n",
              "   NumberOfDependents  SeriousDlqin2yrs  Default  Predicted_prob  Risk_Score  \\\n",
              "0                 2.0                 1        1        0.553273  303.841125   \n",
              "1                 1.0                 0        0        0.844106  230.709106   \n",
              "2                 0.0                 0        0        0.708846  260.943298   \n",
              "3                 0.0                 0        0        0.309555  404.376404   \n",
              "4                 0.0                 0        0        0.230026  455.784485   \n",
              "\n",
              "  Score_decile  \n",
              "0   300.000000  \n",
              "1   201.368622  \n",
              "2   201.368622  \n",
              "3   300.000000  \n",
              "4   415.000000  "
            ],
            "text/html": [
              "\n",
              "  <div id=\"df-ecfe2d25-a97e-415b-8abb-e93f9fefe70a\">\n",
              "    <div class=\"colab-df-container\">\n",
              "      <div>\n",
              "<style scoped>\n",
              "    .dataframe tbody tr th:only-of-type {\n",
              "        vertical-align: middle;\n",
              "    }\n",
              "\n",
              "    .dataframe tbody tr th {\n",
              "        vertical-align: top;\n",
              "    }\n",
              "\n",
              "    .dataframe thead th {\n",
              "        text-align: right;\n",
              "    }\n",
              "</style>\n",
              "<table border=\"1\" class=\"dataframe\">\n",
              "  <thead>\n",
              "    <tr style=\"text-align: right;\">\n",
              "      <th></th>\n",
              "      <th>RevolvingUtilizationOfUnsecuredLines</th>\n",
              "      <th>age</th>\n",
              "      <th>NumberOfTime30-59DaysPastDueNotWorse</th>\n",
              "      <th>DebtRatio</th>\n",
              "      <th>MonthlyIncome</th>\n",
              "      <th>NumberOfOpenCreditLinesAndLoans</th>\n",
              "      <th>NumberRealEstateLoansOrLines</th>\n",
              "      <th>NumberOfDependents</th>\n",
              "      <th>SeriousDlqin2yrs</th>\n",
              "      <th>Default</th>\n",
              "      <th>Predicted_prob</th>\n",
              "      <th>Risk_Score</th>\n",
              "      <th>Score_decile</th>\n",
              "    </tr>\n",
              "  </thead>\n",
              "  <tbody>\n",
              "    <tr>\n",
              "      <th>0</th>\n",
              "      <td>0.766127</td>\n",
              "      <td>45</td>\n",
              "      <td>2</td>\n",
              "      <td>0.802982</td>\n",
              "      <td>9120.0</td>\n",
              "      <td>13</td>\n",
              "      <td>6</td>\n",
              "      <td>2.0</td>\n",
              "      <td>1</td>\n",
              "      <td>1</td>\n",
              "      <td>0.553273</td>\n",
              "      <td>303.841125</td>\n",
              "      <td>300.000000</td>\n",
              "    </tr>\n",
              "    <tr>\n",
              "      <th>1</th>\n",
              "      <td>0.957151</td>\n",
              "      <td>40</td>\n",
              "      <td>0</td>\n",
              "      <td>0.121876</td>\n",
              "      <td>2600.0</td>\n",
              "      <td>4</td>\n",
              "      <td>0</td>\n",
              "      <td>1.0</td>\n",
              "      <td>0</td>\n",
              "      <td>0</td>\n",
              "      <td>0.844106</td>\n",
              "      <td>230.709106</td>\n",
              "      <td>201.368622</td>\n",
              "    </tr>\n",
              "    <tr>\n",
              "      <th>2</th>\n",
              "      <td>0.658180</td>\n",
              "      <td>38</td>\n",
              "      <td>1</td>\n",
              "      <td>0.085113</td>\n",
              "      <td>3042.0</td>\n",
              "      <td>2</td>\n",
              "      <td>0</td>\n",
              "      <td>0.0</td>\n",
              "      <td>0</td>\n",
              "      <td>0</td>\n",
              "      <td>0.708846</td>\n",
              "      <td>260.943298</td>\n",
              "      <td>201.368622</td>\n",
              "    </tr>\n",
              "    <tr>\n",
              "      <th>3</th>\n",
              "      <td>0.233810</td>\n",
              "      <td>30</td>\n",
              "      <td>0</td>\n",
              "      <td>0.036050</td>\n",
              "      <td>3300.0</td>\n",
              "      <td>5</td>\n",
              "      <td>0</td>\n",
              "      <td>0.0</td>\n",
              "      <td>0</td>\n",
              "      <td>0</td>\n",
              "      <td>0.309555</td>\n",
              "      <td>404.376404</td>\n",
              "      <td>300.000000</td>\n",
              "    </tr>\n",
              "    <tr>\n",
              "      <th>4</th>\n",
              "      <td>0.907239</td>\n",
              "      <td>49</td>\n",
              "      <td>1</td>\n",
              "      <td>0.024926</td>\n",
              "      <td>63588.0</td>\n",
              "      <td>7</td>\n",
              "      <td>1</td>\n",
              "      <td>0.0</td>\n",
              "      <td>0</td>\n",
              "      <td>0</td>\n",
              "      <td>0.230026</td>\n",
              "      <td>455.784485</td>\n",
              "      <td>415.000000</td>\n",
              "    </tr>\n",
              "  </tbody>\n",
              "</table>\n",
              "</div>\n",
              "      <button class=\"colab-df-convert\" onclick=\"convertToInteractive('df-ecfe2d25-a97e-415b-8abb-e93f9fefe70a')\"\n",
              "              title=\"Convert this dataframe to an interactive table.\"\n",
              "              style=\"display:none;\">\n",
              "        \n",
              "  <svg xmlns=\"http://www.w3.org/2000/svg\" height=\"24px\"viewBox=\"0 0 24 24\"\n",
              "       width=\"24px\">\n",
              "    <path d=\"M0 0h24v24H0V0z\" fill=\"none\"/>\n",
              "    <path d=\"M18.56 5.44l.94 2.06.94-2.06 2.06-.94-2.06-.94-.94-2.06-.94 2.06-2.06.94zm-11 1L8.5 8.5l.94-2.06 2.06-.94-2.06-.94L8.5 2.5l-.94 2.06-2.06.94zm10 10l.94 2.06.94-2.06 2.06-.94-2.06-.94-.94-2.06-.94 2.06-2.06.94z\"/><path d=\"M17.41 7.96l-1.37-1.37c-.4-.4-.92-.59-1.43-.59-.52 0-1.04.2-1.43.59L10.3 9.45l-7.72 7.72c-.78.78-.78 2.05 0 2.83L4 21.41c.39.39.9.59 1.41.59.51 0 1.02-.2 1.41-.59l7.78-7.78 2.81-2.81c.8-.78.8-2.07 0-2.86zM5.41 20L4 18.59l7.72-7.72 1.47 1.35L5.41 20z\"/>\n",
              "  </svg>\n",
              "      </button>\n",
              "      \n",
              "  <style>\n",
              "    .colab-df-container {\n",
              "      display:flex;\n",
              "      flex-wrap:wrap;\n",
              "      gap: 12px;\n",
              "    }\n",
              "\n",
              "    .colab-df-convert {\n",
              "      background-color: #E8F0FE;\n",
              "      border: none;\n",
              "      border-radius: 50%;\n",
              "      cursor: pointer;\n",
              "      display: none;\n",
              "      fill: #1967D2;\n",
              "      height: 32px;\n",
              "      padding: 0 0 0 0;\n",
              "      width: 32px;\n",
              "    }\n",
              "\n",
              "    .colab-df-convert:hover {\n",
              "      background-color: #E2EBFA;\n",
              "      box-shadow: 0px 1px 2px rgba(60, 64, 67, 0.3), 0px 1px 3px 1px rgba(60, 64, 67, 0.15);\n",
              "      fill: #174EA6;\n",
              "    }\n",
              "\n",
              "    [theme=dark] .colab-df-convert {\n",
              "      background-color: #3B4455;\n",
              "      fill: #D2E3FC;\n",
              "    }\n",
              "\n",
              "    [theme=dark] .colab-df-convert:hover {\n",
              "      background-color: #434B5C;\n",
              "      box-shadow: 0px 1px 3px 1px rgba(0, 0, 0, 0.15);\n",
              "      filter: drop-shadow(0px 1px 2px rgba(0, 0, 0, 0.3));\n",
              "      fill: #FFFFFF;\n",
              "    }\n",
              "  </style>\n",
              "\n",
              "      <script>\n",
              "        const buttonEl =\n",
              "          document.querySelector('#df-ecfe2d25-a97e-415b-8abb-e93f9fefe70a button.colab-df-convert');\n",
              "        buttonEl.style.display =\n",
              "          google.colab.kernel.accessAllowed ? 'block' : 'none';\n",
              "\n",
              "        async function convertToInteractive(key) {\n",
              "          const element = document.querySelector('#df-ecfe2d25-a97e-415b-8abb-e93f9fefe70a');\n",
              "          const dataTable =\n",
              "            await google.colab.kernel.invokeFunction('convertToInteractive',\n",
              "                                                     [key], {});\n",
              "          if (!dataTable) return;\n",
              "\n",
              "          const docLinkHtml = 'Like what you see? Visit the ' +\n",
              "            '<a target=\"_blank\" href=https://colab.research.google.com/notebooks/data_table.ipynb>data table notebook</a>'\n",
              "            + ' to learn more about interactive tables.';\n",
              "          element.innerHTML = '';\n",
              "          dataTable['output_type'] = 'display_data';\n",
              "          await google.colab.output.renderOutput(dataTable, element);\n",
              "          const docLink = document.createElement('div');\n",
              "          docLink.innerHTML = docLinkHtml;\n",
              "          element.appendChild(docLink);\n",
              "        }\n",
              "      </script>\n",
              "    </div>\n",
              "  </div>\n",
              "  "
            ]
          },
          "metadata": {},
          "execution_count": 138
        }
      ]
    }
  ]
}